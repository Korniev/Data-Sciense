{
  "cells": [
    {
      "cell_type": "markdown",
      "metadata": {
        "id": "view-in-github",
        "colab_type": "text"
      },
      "source": [
        "<a href=\"https://colab.research.google.com/github/Korniev/Data-Sciense/blob/main/udemy/Cluster_analysis_with_Kmeans.ipynb\" target=\"_parent\"><img src=\"https://colab.research.google.com/assets/colab-badge.svg\" alt=\"Open In Colab\"/></a>"
      ]
    },
    {
      "cell_type": "markdown",
      "metadata": {
        "id": "lTJFpMg0a_YJ"
      },
      "source": [
        "# Species Segmentation with Cluster Analysis"
      ]
    },
    {
      "cell_type": "markdown",
      "metadata": {
        "id": "xPG5M6ZIa_YK"
      },
      "source": [
        "The Iris flower dataset is one of the most popular ones for machine learning. You can read a lot about it online and have probably already heard of it: https://en.wikipedia.org/wiki/Iris_flower_data_set\n",
        "\n",
        "We didn't want to use it in the lectures, but believe that it would be very interesting for you to try it out (and maybe read about it on your own).\n",
        "\n",
        "There are 4 features: sepal length, sepal width, petal length, and petal width.\n",
        "\n",
        "Start by creating 2 clusters. Then standardize the data and try again. Does it make a difference?\n",
        "\n",
        "Use the Elbow rule to determine how many clusters are there.\n"
      ]
    },
    {
      "cell_type": "markdown",
      "metadata": {
        "id": "bP0uxcnWa_YK"
      },
      "source": [
        "## Import the relevant libraries"
      ]
    },
    {
      "cell_type": "code",
      "execution_count": null,
      "metadata": {
        "id": "txaucNrTa_YK"
      },
      "outputs": [],
      "source": []
    },
    {
      "cell_type": "markdown",
      "metadata": {
        "id": "It-mmXDYa_YK"
      },
      "source": [
        "## Load the data"
      ]
    },
    {
      "cell_type": "markdown",
      "metadata": {
        "id": "og_jUpAwa_YK"
      },
      "source": [
        "Load data from the csv file: <i> 'iris_dataset.csv'</i>."
      ]
    },
    {
      "cell_type": "code",
      "execution_count": null,
      "metadata": {
        "id": "lqB84_Q2a_YK"
      },
      "outputs": [],
      "source": []
    },
    {
      "cell_type": "markdown",
      "metadata": {
        "id": "Yfa2_wrIa_YK"
      },
      "source": [
        "## Plot the data"
      ]
    },
    {
      "cell_type": "markdown",
      "metadata": {
        "id": "wRyCAZ9da_YK"
      },
      "source": [
        "For this exercise, try to cluster the iris flowers by the shape of their sepal.\n",
        "\n",
        "<i> Use the 'sepal_length' and 'sepal_width' variables.</i>"
      ]
    },
    {
      "cell_type": "code",
      "execution_count": null,
      "metadata": {
        "id": "tHDH5maLa_YL"
      },
      "outputs": [],
      "source": []
    },
    {
      "cell_type": "markdown",
      "metadata": {
        "id": "qP4PUSpxa_YL"
      },
      "source": [
        "# Clustering (unscaled data)"
      ]
    },
    {
      "cell_type": "markdown",
      "metadata": {
        "id": "iybanvKza_YL"
      },
      "source": [
        "Separate the original data into 2 clusters."
      ]
    },
    {
      "cell_type": "code",
      "execution_count": null,
      "metadata": {
        "scrolled": false,
        "id": "vBVOsSuca_YL"
      },
      "outputs": [],
      "source": []
    },
    {
      "cell_type": "code",
      "execution_count": null,
      "metadata": {
        "id": "iK3MsJQ7a_YL"
      },
      "outputs": [],
      "source": []
    },
    {
      "cell_type": "code",
      "execution_count": null,
      "metadata": {
        "id": "hPrOkTZMa_YL"
      },
      "outputs": [],
      "source": []
    },
    {
      "cell_type": "markdown",
      "metadata": {
        "id": "7Pmk3Y9aa_YL"
      },
      "source": [
        "# Standardize the variables"
      ]
    },
    {
      "cell_type": "markdown",
      "metadata": {
        "id": "2AI-CUR1a_YL"
      },
      "source": [
        "Import and use the <i> method </i> function from sklearn to standardize the data."
      ]
    },
    {
      "cell_type": "code",
      "execution_count": null,
      "metadata": {
        "id": "2THKkYcQa_YL"
      },
      "outputs": [],
      "source": []
    },
    {
      "cell_type": "markdown",
      "metadata": {
        "id": "kZsxFzwAa_YL"
      },
      "source": [
        "# Clustering (scaled data)"
      ]
    },
    {
      "cell_type": "code",
      "execution_count": null,
      "metadata": {
        "id": "K9H14oG8a_YL"
      },
      "outputs": [],
      "source": []
    },
    {
      "cell_type": "code",
      "execution_count": null,
      "metadata": {
        "id": "SAjKM5bna_YL"
      },
      "outputs": [],
      "source": []
    },
    {
      "cell_type": "code",
      "execution_count": null,
      "metadata": {
        "id": "Vylt8v5Ha_YL"
      },
      "outputs": [],
      "source": []
    },
    {
      "cell_type": "code",
      "execution_count": null,
      "metadata": {
        "id": "L2rO3oAIa_YL"
      },
      "outputs": [],
      "source": []
    },
    {
      "cell_type": "markdown",
      "metadata": {
        "id": "LRIZBfdga_YL"
      },
      "source": [
        "## Take Advantage of the Elbow Method"
      ]
    },
    {
      "cell_type": "markdown",
      "metadata": {
        "id": "nTnIbx37a_YL"
      },
      "source": [
        "### WCSS"
      ]
    },
    {
      "cell_type": "code",
      "execution_count": null,
      "metadata": {
        "id": "To91Q_6ca_YL"
      },
      "outputs": [],
      "source": []
    },
    {
      "cell_type": "markdown",
      "metadata": {
        "id": "p17XhWzXa_YL"
      },
      "source": [
        "### The Elbow Method"
      ]
    },
    {
      "cell_type": "code",
      "execution_count": null,
      "metadata": {
        "id": "KAd4AdBea_YL"
      },
      "outputs": [],
      "source": []
    },
    {
      "cell_type": "markdown",
      "metadata": {
        "id": "r4eTB2b4a_YL"
      },
      "source": [
        "How many clusters are there?"
      ]
    }
  ],
  "metadata": {
    "kernelspec": {
      "display_name": "Python 3",
      "language": "python",
      "name": "python3"
    },
    "language_info": {
      "codemirror_mode": {
        "name": "ipython",
        "version": 3
      },
      "file_extension": ".py",
      "mimetype": "text/x-python",
      "name": "python",
      "nbconvert_exporter": "python",
      "pygments_lexer": "ipython3",
      "version": "3.6.4"
    },
    "colab": {
      "provenance": [],
      "include_colab_link": true
    }
  },
  "nbformat": 4,
  "nbformat_minor": 0
}