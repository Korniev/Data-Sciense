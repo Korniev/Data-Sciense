{
  "nbformat": 4,
  "nbformat_minor": 0,
  "metadata": {
    "colab": {
      "provenance": [],
      "authorship_tag": "ABX9TyPOThlIQb8/LzauFox/Yib1",
      "include_colab_link": true
    },
    "kernelspec": {
      "name": "python3",
      "display_name": "Python 3"
    },
    "language_info": {
      "name": "python"
    }
  },
  "cells": [
    {
      "cell_type": "markdown",
      "metadata": {
        "id": "view-in-github",
        "colab_type": "text"
      },
      "source": [
        "<a href=\"https://colab.research.google.com/github/Korniev/Data-Sciense/blob/main/hw_12/hw_12.ipynb\" target=\"_parent\"><img src=\"https://colab.research.google.com/assets/colab-badge.svg\" alt=\"Open In Colab\"/></a>"
      ]
    },
    {
      "cell_type": "markdown",
      "source": [
        "#                  **Домашнє завдання № 12**"
      ],
      "metadata": {
        "id": "CgCPelWxaHnC"
      }
    },
    {
      "cell_type": "markdown",
      "source": [
        "###Зробіть summary нижчевказаного тексту використовуючи бібліотеки для NLP: nltk та SpaCy"
      ],
      "metadata": {
        "id": "FnYGjDMWaZzZ"
      }
    },
    {
      "cell_type": "markdown",
      "source": [
        "Перш за все, ми повинні імпортувати необхідні бібліотеки:"
      ],
      "metadata": {
        "id": "NwUrMDgT04YT"
      }
    },
    {
      "cell_type": "code",
      "source": [
        "import spacy\n",
        "import nltk\n",
        "from nltk.corpus import stopwords\n",
        "from nltk.tokenize import word_tokenize, sent_tokenize\n",
        "from heapq import nlargest\n",
        "from collections import defaultdict\n"
      ],
      "metadata": {
        "id": "6wyo7cfL1Bx5"
      },
      "execution_count": 1,
      "outputs": []
    },
    {
      "cell_type": "markdown",
      "source": [
        "Перш ніж почати роботу з SpaCy, необхідно завантажити потрібну мовну модель. Наприклад, для англійської мови ми можемо завантажити модель \"en_core_web_sm\":"
      ],
      "metadata": {
        "id": "O9CKgRNv2wWu"
      }
    },
    {
      "cell_type": "code",
      "source": [
        "nlp = spacy.load('en_core_web_sm')"
      ],
      "metadata": {
        "id": "twiQ-QbH2w1c"
      },
      "execution_count": 2,
      "outputs": []
    },
    {
      "cell_type": "markdown",
      "source": [
        "Супер, тепер давайте завантажимо ресурси бібліотеки nltk, потрібні для роботи з текстом:"
      ],
      "metadata": {
        "id": "JjMGPSXp5IIh"
      }
    },
    {
      "cell_type": "code",
      "source": [
        "nltk.download('punkt')\n",
        "nltk.download('stopwords')"
      ],
      "metadata": {
        "colab": {
          "base_uri": "https://localhost:8080/"
        },
        "id": "G7Y9yq2i5Uhe",
        "outputId": "ab6b924d-1da2-4f4c-80d4-794123fab9cc"
      },
      "execution_count": 3,
      "outputs": [
        {
          "output_type": "stream",
          "name": "stderr",
          "text": [
            "[nltk_data] Downloading package punkt to /root/nltk_data...\n",
            "[nltk_data]   Unzipping tokenizers/punkt.zip.\n",
            "[nltk_data] Downloading package stopwords to /root/nltk_data...\n",
            "[nltk_data]   Unzipping corpora/stopwords.zip.\n"
          ]
        },
        {
          "output_type": "execute_result",
          "data": {
            "text/plain": [
              "True"
            ]
          },
          "metadata": {},
          "execution_count": 3
        }
      ]
    },
    {
      "cell_type": "markdown",
      "source": [
        "Давайте завантажимо наш текст, з яким ми будемо працювати і для якого будемо робити summary:"
      ],
      "metadata": {
        "id": "zER4d5e45fY2"
      }
    },
    {
      "cell_type": "code",
      "source": [
        "text = \"The Orbiter Discovery, OV-103, is considered eligible for listing in the National Register of Historic Places (NRHP) in the context of the U.S. Space Shuttle Program (1969-2011) under Criterion A in the areas of Space Exploration and Transportation and under Criterion C in the area of Engineering. Because it has achieved significance within the past fifty years, Criteria Consideration G applies. Under Criterion A, Discovery is significant as the oldest of the three extant orbiter vehicles constructed for the Space Shuttle Program (SSP), the longest running American space program to date; she was the third of five orbiters built by NASA. Unlike the Mercury, Gemini, and Apollo programs, the SSP’s emphasis was on cost effectiveness and reusability, and eventually the construction of a space station. Including her maiden voyage (launched August 30, 1984), Discovery flew to space thirty-nine times, more than any of the other four orbiters; she was also the first orbiter to fly twenty missions. She had the honor of being chosen as the Return to Flight vehicle after both the Challenger and Columbia accidents. Discovery was the first shuttle to fly with the redesigned SRBs, a result of the Challenger accident, and the first shuttle to fly with the Phase II and Block I SSME. Discovery also carried the Hubble Space Telescope to orbit and performed two of the five servicing missions to the observatory. She flew the first and last dedicated Department of Defense (DoD) missions, as well as the first unclassified defense-related mission. In addition, Discovery was vital to the construction of the International Space Station (ISS); she flew thirteen of the thirty-seven total missions flown to the station by a U.S. Space Shuttle. She was the first orbiter to dock to the ISS, and the first to perform an exchange of a resident crew. Under Criterion C, Discovery is significant as a feat of engineering. According to Wayne Hale, a flight director from Johnson Space Center, the Space Shuttle orbiter represents a “huge technological leap from expendable rockets and capsules to a reusable, winged, hypersonic, cargo-carrying spacecraft.” Although her base structure followed a conventional aircraft design, she used advanced materials that both minimized her weight for cargo-carrying purposes and featured low thermal expansion ratios, which provided a stable base for her Thermal Protection System (TPS) materials. The Space Shuttle orbiter also featured the first reusable TPS; all previous spaceflight vehicles had a single-use, ablative heat shield. Other notable engineering achievements of the orbiter included the first reusable orbital propulsion system, and the first two-fault-tolerant Integrated Avionics System. As Hale stated, the Space Shuttle remains “the largest, fastest, winged hypersonic aircraft in history,” having regularly flown at twenty-five times the speed of sound.\""
      ],
      "metadata": {
        "id": "zjB4kGjF5ky9"
      },
      "execution_count": 4,
      "outputs": []
    },
    {
      "cell_type": "markdown",
      "source": [
        "Запрінтуємо наш текст, щоб було більш комфортно почитати оригінальний текст:"
      ],
      "metadata": {
        "id": "3A6nsisiDZ6r"
      }
    },
    {
      "cell_type": "code",
      "source": [
        "print(text)"
      ],
      "metadata": {
        "colab": {
          "base_uri": "https://localhost:8080/"
        },
        "id": "rho9HUACDfSM",
        "outputId": "9cbbd5a5-31dd-4472-fc46-9faecf6ffd20"
      },
      "execution_count": 5,
      "outputs": [
        {
          "output_type": "stream",
          "name": "stdout",
          "text": [
            "The Orbiter Discovery, OV-103, is considered eligible for listing in the National Register of Historic Places (NRHP) in the context of the U.S. Space Shuttle Program (1969-2011) under Criterion A in the areas of Space Exploration and Transportation and under Criterion C in the area of Engineering. Because it has achieved significance within the past fifty years, Criteria Consideration G applies. Under Criterion A, Discovery is significant as the oldest of the three extant orbiter vehicles constructed for the Space Shuttle Program (SSP), the longest running American space program to date; she was the third of five orbiters built by NASA. Unlike the Mercury, Gemini, and Apollo programs, the SSP’s emphasis was on cost effectiveness and reusability, and eventually the construction of a space station. Including her maiden voyage (launched August 30, 1984), Discovery flew to space thirty-nine times, more than any of the other four orbiters; she was also the first orbiter to fly twenty missions. She had the honor of being chosen as the Return to Flight vehicle after both the Challenger and Columbia accidents. Discovery was the first shuttle to fly with the redesigned SRBs, a result of the Challenger accident, and the first shuttle to fly with the Phase II and Block I SSME. Discovery also carried the Hubble Space Telescope to orbit and performed two of the five servicing missions to the observatory. She flew the first and last dedicated Department of Defense (DoD) missions, as well as the first unclassified defense-related mission. In addition, Discovery was vital to the construction of the International Space Station (ISS); she flew thirteen of the thirty-seven total missions flown to the station by a U.S. Space Shuttle. She was the first orbiter to dock to the ISS, and the first to perform an exchange of a resident crew. Under Criterion C, Discovery is significant as a feat of engineering. According to Wayne Hale, a flight director from Johnson Space Center, the Space Shuttle orbiter represents a “huge technological leap from expendable rockets and capsules to a reusable, winged, hypersonic, cargo-carrying spacecraft.” Although her base structure followed a conventional aircraft design, she used advanced materials that both minimized her weight for cargo-carrying purposes and featured low thermal expansion ratios, which provided a stable base for her Thermal Protection System (TPS) materials. The Space Shuttle orbiter also featured the first reusable TPS; all previous spaceflight vehicles had a single-use, ablative heat shield. Other notable engineering achievements of the orbiter included the first reusable orbital propulsion system, and the first two-fault-tolerant Integrated Avionics System. As Hale stated, the Space Shuttle remains “the largest, fastest, winged hypersonic aircraft in history,” having regularly flown at twenty-five times the speed of sound.\n"
          ]
        }
      ]
    },
    {
      "cell_type": "markdown",
      "source": [
        "Перш ніж почати створювати text summary, текст потрібно підготувати. Це включає в себе видалення непотрібних символів, токенізацію (розбиття тексту на окремі слова або речення), видалення стоп-слів (слова, які не несуть суттєвої інформації) і, за необхідності, інші обробки тексту, такі як стемінг або лематизація."
      ],
      "metadata": {
        "id": "Q5_2DnoD6OBx"
      }
    },
    {
      "cell_type": "code",
      "source": [
        "stop_words = set(stopwords.words('english'))\n",
        "word_tokens = [word for word in word_tokenize(text.lower()) if word.isalpha() and word not in stop_words]"
      ],
      "metadata": {
        "id": "Qsqtq2306P5T"
      },
      "execution_count": 6,
      "outputs": []
    },
    {
      "cell_type": "markdown",
      "source": [
        "Тепер, коли у нас вже є список слів word_tokens, що не включає стоп-слова, ми можемо підрахувати, скільки разів кожне слово зустрічається в тексті. Це дасть нам уявлення про те, які слова є найбільш значущими в нашому тексті:"
      ],
      "metadata": {
        "id": "_VAI_8RK84nR"
      }
    },
    {
      "cell_type": "code",
      "source": [
        "word_frequencies = defaultdict(int)\n",
        "for word in word_tokens:\n",
        "    word_frequencies[word] += 1"
      ],
      "metadata": {
        "id": "aKeAy3YD8_ab"
      },
      "execution_count": 7,
      "outputs": []
    },
    {
      "cell_type": "markdown",
      "source": [
        "Далі, використовуючи NLTK, ми можемо розбити оригінальний текст на речення і розрахувати вагу кожного речення на основі частот слів, які воно містить. Це допоможе нам визначити, які речення несуть найбільш важливу інформацію в тексті."
      ],
      "metadata": {
        "id": "v5ZM33TR9O2O"
      }
    },
    {
      "cell_type": "markdown",
      "source": [
        "Для цього розбиваємо оригінальний текст на речення:"
      ],
      "metadata": {
        "id": "ZzzX9L409Y7A"
      }
    },
    {
      "cell_type": "code",
      "source": [
        "sentence_tokens = sent_tokenize(text)\n",
        "sentence_scores = defaultdict(int)"
      ],
      "metadata": {
        "id": "ylePrUJk9Uen"
      },
      "execution_count": 8,
      "outputs": []
    },
    {
      "cell_type": "markdown",
      "source": [
        "І тепер ми можемо розрахувати ваги кожного речення:"
      ],
      "metadata": {
        "id": "Ls0mKZNo9fZU"
      }
    },
    {
      "cell_type": "code",
      "source": [
        "for sentence in sentence_tokens:\n",
        "    words = word_tokenize(sentence.lower())\n",
        "    for word in words:\n",
        "        if word in word_frequencies:\n",
        "            sentence_scores[sentence] += word_frequencies[word]"
      ],
      "metadata": {
        "id": "qAcolJri9mVn"
      },
      "execution_count": 9,
      "outputs": []
    },
    {
      "cell_type": "markdown",
      "source": [
        "Коли ми вже маємо підготовлений текст та використали SpaCy або NLTK для отримання необхідної інформації, ми можемо створити текстове резюме. Це можна зробити, наприклад, шляхом виділення найважливіших речень з тексту, враховуючи їх вагу або частоту вживання певних слів."
      ],
      "metadata": {
        "id": "VnEsI-Vr90yk"
      }
    },
    {
      "cell_type": "markdown",
      "source": [
        "Для цього ми можемо використати функцію nlargest з бібліотеки heapq для вибору декількох речень з найвищими вагами."
      ],
      "metadata": {
        "id": "OBVR0V1g_WoV"
      }
    },
    {
      "cell_type": "code",
      "source": [
        "select_length = int(len(sentence_tokens) * 0.3)"
      ],
      "metadata": {
        "id": "v4_l2eNx91f6"
      },
      "execution_count": 10,
      "outputs": []
    },
    {
      "cell_type": "markdown",
      "source": [
        "Визначили кількість речень у резюме (наприклад,  використаємо 30% від усіх речень)."
      ],
      "metadata": {
        "id": "DCSN8qPb_ve9"
      }
    },
    {
      "cell_type": "markdown",
      "source": [
        "Тепер вже можемо вибрати найважливіші речення:"
      ],
      "metadata": {
        "id": "qTELmlOu_zxN"
      }
    },
    {
      "cell_type": "code",
      "source": [
        "summary = ' '.join(nlargest(select_length, sentence_scores, key=sentence_scores.get))"
      ],
      "metadata": {
        "id": "YMFGiEHh_6YY"
      },
      "execution_count": 11,
      "outputs": []
    },
    {
      "cell_type": "markdown",
      "source": [
        "Тепер ми можемо вивести наш отриманий summary з найбільш важливих речень, згенерованих з оригінального тексту:"
      ],
      "metadata": {
        "id": "CHA_F5I1AMqq"
      }
    },
    {
      "cell_type": "code",
      "source": [
        "print(summary)"
      ],
      "metadata": {
        "colab": {
          "base_uri": "https://localhost:8080/"
        },
        "id": "7huZ3kkhAYgP",
        "outputId": "be6f9680-f4d4-4973-ade4-edc0cdd72084"
      },
      "execution_count": 12,
      "outputs": [
        {
          "output_type": "stream",
          "name": "stdout",
          "text": [
            "According to Wayne Hale, a flight director from Johnson Space Center, the Space Shuttle orbiter represents a “huge technological leap from expendable rockets and capsules to a reusable, winged, hypersonic, cargo-carrying spacecraft.” Although her base structure followed a conventional aircraft design, she used advanced materials that both minimized her weight for cargo-carrying purposes and featured low thermal expansion ratios, which provided a stable base for her Thermal Protection System (TPS) materials. Under Criterion A, Discovery is significant as the oldest of the three extant orbiter vehicles constructed for the Space Shuttle Program (SSP), the longest running American space program to date; she was the third of five orbiters built by NASA. The Orbiter Discovery, OV-103, is considered eligible for listing in the National Register of Historic Places (NRHP) in the context of the U.S. Space Shuttle Program (1969-2011) under Criterion A in the areas of Space Exploration and Transportation and under Criterion C in the area of Engineering. In addition, Discovery was vital to the construction of the International Space Station (ISS); she flew thirteen of the thirty-seven total missions flown to the station by a U.S. Space Shuttle.\n"
          ]
        }
      ]
    },
    {
      "cell_type": "markdown",
      "source": [
        "###Висновок"
      ],
      "metadata": {
        "id": "RMKGAsjVC0VT"
      }
    },
    {
      "cell_type": "markdown",
      "source": [
        "У ході виконання даної домашньої роботи, було успішно розроблено та реалізовано програму для автоматичного створення резюме тексту за допомогою бібліотек nltk та spacy, що є важливими інструментами у сфері обробки природної мови (NLP). Цей процес включав в себе імпорт необхідних бібліотек, підготовку тексту шляхом токенізації та видалення стоп-слів, аналіз частоти слов в тексті та визначення ваги речень для вибору найважливіших з них для резюме. І подальшим генеруванням вже фінального резюме оригінального тексту."
      ],
      "metadata": {
        "id": "0FMEhFMiC4AW"
      }
    }
  ]
}