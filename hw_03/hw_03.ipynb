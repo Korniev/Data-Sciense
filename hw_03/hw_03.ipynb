{
 "cells": [
  {
   "cell_type": "markdown",
   "metadata": {},
   "source": [
    "                                                 Домашнє завдання N 3"
   ]
  },
  {
   "cell_type": "markdown",
   "metadata": {},
   "source": [
    "                                            Лінійна регресія та її реалізація"
   ]
  },
  {
   "cell_type": "markdown",
   "metadata": {},
   "source": [
    "Імпортуємо потрібні бібліотеки:"
   ]
  },
  {
   "cell_type": "code",
   "execution_count": 29,
   "metadata": {},
   "outputs": [],
   "source": [
    "import numpy as np\n",
    "import pandas as pd\n",
    "from sklearn.linear_model import LinearRegression\n",
    "from sklearn.preprocessing import StandardScaler"
   ]
  },
  {
   "cell_type": "markdown",
   "metadata": {},
   "source": [
    "Завантаження та вивід перших рядків датасету Housing.csv:"
   ]
  },
  {
   "cell_type": "code",
   "execution_count": 30,
   "metadata": {},
   "outputs": [
    {
     "data": {
      "text/html": [
       "<div>\n",
       "<style scoped>\n",
       "    .dataframe tbody tr th:only-of-type {\n",
       "        vertical-align: middle;\n",
       "    }\n",
       "\n",
       "    .dataframe tbody tr th {\n",
       "        vertical-align: top;\n",
       "    }\n",
       "\n",
       "    .dataframe thead th {\n",
       "        text-align: right;\n",
       "    }\n",
       "</style>\n",
       "<table border=\"1\" class=\"dataframe\">\n",
       "  <thead>\n",
       "    <tr style=\"text-align: right;\">\n",
       "      <th></th>\n",
       "      <th>price</th>\n",
       "      <th>area</th>\n",
       "      <th>bedrooms</th>\n",
       "      <th>bathrooms</th>\n",
       "      <th>stories</th>\n",
       "      <th>mainroad</th>\n",
       "      <th>guestroom</th>\n",
       "      <th>basement</th>\n",
       "      <th>hotwaterheating</th>\n",
       "      <th>airconditioning</th>\n",
       "      <th>parking</th>\n",
       "      <th>prefarea</th>\n",
       "      <th>furnishingstatus</th>\n",
       "    </tr>\n",
       "  </thead>\n",
       "  <tbody>\n",
       "    <tr>\n",
       "      <th>0</th>\n",
       "      <td>13300000</td>\n",
       "      <td>7420</td>\n",
       "      <td>4</td>\n",
       "      <td>2</td>\n",
       "      <td>3</td>\n",
       "      <td>yes</td>\n",
       "      <td>no</td>\n",
       "      <td>no</td>\n",
       "      <td>no</td>\n",
       "      <td>yes</td>\n",
       "      <td>2</td>\n",
       "      <td>yes</td>\n",
       "      <td>furnished</td>\n",
       "    </tr>\n",
       "    <tr>\n",
       "      <th>1</th>\n",
       "      <td>12250000</td>\n",
       "      <td>8960</td>\n",
       "      <td>4</td>\n",
       "      <td>4</td>\n",
       "      <td>4</td>\n",
       "      <td>yes</td>\n",
       "      <td>no</td>\n",
       "      <td>no</td>\n",
       "      <td>no</td>\n",
       "      <td>yes</td>\n",
       "      <td>3</td>\n",
       "      <td>no</td>\n",
       "      <td>furnished</td>\n",
       "    </tr>\n",
       "    <tr>\n",
       "      <th>2</th>\n",
       "      <td>12250000</td>\n",
       "      <td>9960</td>\n",
       "      <td>3</td>\n",
       "      <td>2</td>\n",
       "      <td>2</td>\n",
       "      <td>yes</td>\n",
       "      <td>no</td>\n",
       "      <td>yes</td>\n",
       "      <td>no</td>\n",
       "      <td>no</td>\n",
       "      <td>2</td>\n",
       "      <td>yes</td>\n",
       "      <td>semi-furnished</td>\n",
       "    </tr>\n",
       "    <tr>\n",
       "      <th>3</th>\n",
       "      <td>12215000</td>\n",
       "      <td>7500</td>\n",
       "      <td>4</td>\n",
       "      <td>2</td>\n",
       "      <td>2</td>\n",
       "      <td>yes</td>\n",
       "      <td>no</td>\n",
       "      <td>yes</td>\n",
       "      <td>no</td>\n",
       "      <td>yes</td>\n",
       "      <td>3</td>\n",
       "      <td>yes</td>\n",
       "      <td>furnished</td>\n",
       "    </tr>\n",
       "    <tr>\n",
       "      <th>4</th>\n",
       "      <td>11410000</td>\n",
       "      <td>7420</td>\n",
       "      <td>4</td>\n",
       "      <td>1</td>\n",
       "      <td>2</td>\n",
       "      <td>yes</td>\n",
       "      <td>yes</td>\n",
       "      <td>yes</td>\n",
       "      <td>no</td>\n",
       "      <td>yes</td>\n",
       "      <td>2</td>\n",
       "      <td>no</td>\n",
       "      <td>furnished</td>\n",
       "    </tr>\n",
       "  </tbody>\n",
       "</table>\n",
       "</div>"
      ],
      "text/plain": [
       "      price  area  bedrooms  bathrooms  stories mainroad guestroom basement  \\\n",
       "0  13300000  7420         4          2        3      yes        no       no   \n",
       "1  12250000  8960         4          4        4      yes        no       no   \n",
       "2  12250000  9960         3          2        2      yes        no      yes   \n",
       "3  12215000  7500         4          2        2      yes        no      yes   \n",
       "4  11410000  7420         4          1        2      yes       yes      yes   \n",
       "\n",
       "  hotwaterheating airconditioning  parking prefarea furnishingstatus  \n",
       "0              no             yes        2      yes        furnished  \n",
       "1              no             yes        3       no        furnished  \n",
       "2              no              no        2      yes   semi-furnished  \n",
       "3              no             yes        3      yes        furnished  \n",
       "4              no             yes        2       no        furnished  "
      ]
     },
     "execution_count": 30,
     "metadata": {},
     "output_type": "execute_result"
    }
   ],
   "source": [
    "housing_data = pd.read_csv('Housing.csv')\n",
    "\n",
    "housing_data.head()"
   ]
  },
  {
   "cell_type": "markdown",
   "metadata": {},
   "source": [
    "Знаходимо найкращі параметри w(омега) для датасету прогнозуючу ціну на будинок залежно\n",
    " від площі, кількості ванних кімнат та кількості спалень:"
   ]
  },
  {
   "cell_type": "code",
   "execution_count": 32,
   "metadata": {},
   "outputs": [
    {
     "data": {
      "text/plain": [
       "array([[ 1.        ,  1.04672629,  1.40341936,  1.42181174],\n",
       "       [ 1.        ,  1.75700953,  1.40341936,  5.40580863],\n",
       "       [ 1.        ,  2.21823241,  0.04727831,  1.42181174],\n",
       "       [ 1.        ,  1.08362412,  1.40341936,  1.42181174],\n",
       "       [ 1.        ,  1.04672629,  1.40341936, -0.57018671]])"
      ]
     },
     "execution_count": 32,
     "metadata": {},
     "output_type": "execute_result"
    }
   ],
   "source": [
    "# Вибір ознак і цільової змінної\n",
    "X = housing_data[['area', 'bedrooms', 'bathrooms']].values\n",
    "y = housing_data['price'].values\n",
    "\n",
    "# Нормалізація ознак\n",
    "scaler = StandardScaler()\n",
    "X_scaled = scaler.fit_transform(X)\n",
    "\n",
    "# Додавання колонки з одиницями до ознак для врахування вільного члена\n",
    "X_scaled_with_bias = np.c_[np.ones(X_scaled.shape[0]), X_scaled]\n",
    "\n",
    "# Відображення перших кількох рядків нормалізованих даних з одиницями\n",
    "X_scaled_with_bias[:5]"
   ]
  },
  {
   "cell_type": "markdown",
   "metadata": {},
   "source": [
    "Створимо функцію для обчислення функції втрат у векторному вигляді:"
   ]
  },
  {
   "cell_type": "code",
   "execution_count": null,
   "metadata": {},
   "outputs": [],
   "source": [
    "def cost(h, y):\n",
    "  return np.mean((h-y)**2)/2"
   ]
  },
  {
   "cell_type": "markdown",
   "metadata": {},
   "source": [
    "Створимо клас для лінійної регресії CustomLinearRegression:"
   ]
  },
  {
   "cell_type": "code",
   "execution_count": 33,
   "metadata": {},
   "outputs": [],
   "source": [
    "class CustomLinearRegression:\n",
    "  def __init__(self, lr: float = 0.01, thr=0.00001, n_epochs = 100):\n",
    "    self.lr = lr\n",
    "    self.thr = thr\n",
    "    self.n_epochs = n_epochs\n",
    "    self.w = np.random.rand(X_scaled_with_bias.shape[1])\n",
    "\n",
    "  # Напишіть функцію гіпотези лінійної регресії у векторному вигляді\n",
    "  def predict(self, X):\n",
    "    return self.w@X.T\n",
    "  \n",
    "  # Реалізуйте один крок градієнтного спуску\n",
    "  def update_weights(self, X, y):\n",
    "    m = len(y)\n",
    "    h = self.predict(X)\n",
    "    self.w = self.w - self.lr / m * X.T @ (h-y)\n",
    "  \n",
    "  def fit(self, X, y):\n",
    "    last_cost = 10000000\n",
    "    for i in range(self.n_epochs):\n",
    "      self.update_weights(X, y)\n",
    "      new_cost = cost(self.predict(X), y)\n",
    "\n",
    "      if i % (self.n_epochs//100) == 0:\n",
    "        print(f\"cost function = {last_cost}\")\n",
    "\n",
    "      if abs(last_cost - new_cost) < self.thr:\n",
    "        break\n",
    "\n",
    "      last_cost = new_cost"
   ]
  },
  {
   "cell_type": "markdown",
   "metadata": {},
   "source": [
    "Ініціалізація на тренування CustomLinearRegression моделі:"
   ]
  },
  {
   "cell_type": "code",
   "execution_count": 35,
   "metadata": {},
   "outputs": [
    {
     "name": "stdout",
     "output_type": "stream",
     "text": [
      "cost function = 10000000\n",
      "cost function = 10827793277504.66\n",
      "cost function = 8978437435955.99\n",
      "cost function = 7476706039536.387\n",
      "cost function = 6256434303814.798\n",
      "cost function = 5264256183789.982\n",
      "cost function = 4457077772970.173\n",
      "cost function = 3800061891335.545\n",
      "cost function = 3265017465082.2124\n",
      "cost function = 2829110140895.201\n",
      "cost function = 2473828356488.5825\n",
      "cost function = 2184152963482.0762\n",
      "cost function = 1947889352973.0544\n",
      "cost function = 1755129546781.9932\n",
      "cost function = 1597818409726.133\n",
      "cost function = 1469403412167.2605\n",
      "cost function = 1364551537793.0051\n",
      "cost function = 1278920229396.995\n",
      "cost function = 1208971881827.6687\n",
      "cost function = 1151823471415.9045\n",
      "cost function = 1105124568296.2312\n",
      "cost function = 1066958300661.25\n",
      "cost function = 1035760897565.1573\n",
      "cost function = 1010256283988.9911\n",
      "cost function = 989402881488.5161\n",
      "cost function = 972350313813.6798\n",
      "cost function = 958404156284.5621\n",
      "cost function = 946997221743.8922\n",
      "cost function = 937666161519.5428\n",
      "cost function = 930032390513.005\n",
      "cost function = 923786532047.0521\n",
      "cost function = 918675729064.0472\n",
      "cost function = 914493290557.5426\n",
      "cost function = 911070241272.3564\n",
      "cost function = 908268423163.3152\n",
      "cost function = 905974862433.3677\n",
      "cost function = 904097169056.2172\n",
      "cost function = 902559778848.7717\n",
      "cost function = 901300883269.5521\n",
      "cost function = 900269920696.5071\n",
      "cost function = 899425526208.1826\n",
      "cost function = 898733855849.4045\n",
      "cost function = 898167216812.1523\n",
      "cost function = 897702947557.6328\n",
      "cost function = 897322502177.3641\n",
      "cost function = 897010701670.4862\n",
      "cost function = 896755121652.0253\n",
      "cost function = 896545591587.5725\n",
      "cost function = 896373785205.829\n",
      "cost function = 896232885460.6593\n",
      "cost function = 896117310452.5809\n",
      "cost function = 896022489201.447\n",
      "cost function = 895944678189.6495\n",
      "cost function = 895880811251.9084\n",
      "cost function = 895828376741.6025\n",
      "cost function = 895785317010.1217\n",
      "cost function = 895749946140.2317\n",
      "cost function = 895720882613.816\n",
      "cost function = 895696994198.8915\n",
      "cost function = 895677352835.047\n",
      "cost function = 895661197700.636\n",
      "cost function = 895647904975.5596\n",
      "cost function = 895636963083.7888\n",
      "cost function = 895627952420.8616\n",
      "cost function = 895620528752.41\n",
      "cost function = 895614409617.7067\n",
      "cost function = 895609363193.2169\n",
      "cost function = 895605199170.1392\n",
      "cost function = 895601761280.9082\n",
      "cost function = 895598921175.9005\n",
      "cost function = 895596573405.8035\n",
      "cost function = 895594631309.4749\n",
      "cost function = 895593023643.4296\n",
      "cost function = 895591691818.8014\n",
      "cost function = 895590587635.9438\n",
      "cost function = 895589671426.7399\n",
      "cost function = 895588910530.9762\n",
      "cost function = 895588278046.4778\n",
      "cost function = 895587751803.6077\n",
      "cost function = 895587313523.6812\n",
      "cost function = 895586948128.153\n",
      "cost function = 895586643171.4287\n",
      "cost function = 895586388375.06\n",
      "cost function = 895586175245.0946\n",
      "cost function = 895585996757.6458\n",
      "cost function = 895585847100.4375\n",
      "cost function = 895585721460.2913\n",
      "cost function = 895585615848.3252\n",
      "cost function = 895585526956.1195\n",
      "cost function = 895585452037.3158\n",
      "cost function = 895585388810.1096\n",
      "cost function = 895585335376.9164\n",
      "cost function = 895585290158.1495\n",
      "cost function = 895585251837.6088\n",
      "cost function = 895585219317.4152\n",
      "cost function = 895585191680.8055\n",
      "cost function = 895585168161.3944\n",
      "cost function = 895585148117.766\n",
      "cost function = 895585131012.4543\n",
      "cost function = 895585116394.5444\n"
     ]
    }
   ],
   "source": [
    "custom_lr = CustomLinearRegression(lr=0.01, thr=0.00001, n_epochs=1000)\n",
    "w_custom_lr = custom_lr.fit(X_scaled_with_bias, y)"
   ]
  },
  {
   "cell_type": "markdown",
   "metadata": {},
   "source": [
    "Знаходимо ці ж параметри за допомогою аналітичного рішення:"
   ]
  },
  {
   "cell_type": "code",
   "execution_count": 37,
   "metadata": {},
   "outputs": [],
   "source": [
    "def analytical_solution(X, y):\n",
    "    return np.linalg.pinv(X) @ y"
   ]
  },
  {
   "cell_type": "markdown",
   "metadata": {},
   "source": [
    "Застосування аналітичного рішення для пошуку найкращих параметрів:"
   ]
  },
  {
   "cell_type": "code",
   "execution_count": 38,
   "metadata": {},
   "outputs": [],
   "source": [
    "w_analytical = analytical_solution(X_scaled_with_bias, y)"
   ]
  },
  {
   "cell_type": "code",
   "execution_count": 39,
   "metadata": {},
   "outputs": [
    {
     "data": {
      "text/plain": [
       "(None,\n",
       " array([4766729.24770642,  821214.14349519,  299983.57107963,\n",
       "         695808.52272537]))"
      ]
     },
     "execution_count": 39,
     "metadata": {},
     "output_type": "execute_result"
    }
   ],
   "source": [
    "w_custom_lr, w_analytical"
   ]
  }
 ],
 "metadata": {
  "kernelspec": {
   "display_name": "Python 3",
   "language": "python",
   "name": "python3"
  },
  "language_info": {
   "codemirror_mode": {
    "name": "ipython",
    "version": 3
   },
   "file_extension": ".py",
   "mimetype": "text/x-python",
   "name": "python",
   "nbconvert_exporter": "python",
   "pygments_lexer": "ipython3",
   "version": "3.11.7"
  },
  "orig_nbformat": 4
 },
 "nbformat": 4,
 "nbformat_minor": 2
}
