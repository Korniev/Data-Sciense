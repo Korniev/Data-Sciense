{
 "cells": [
  {
   "cell_type": "markdown",
   "metadata": {},
   "source": [
    "                                                 Домашнє завдання N 3"
   ]
  },
  {
   "cell_type": "markdown",
   "metadata": {},
   "source": [
    "                                            Лінійна регресія та її реалізація"
   ]
  },
  {
   "cell_type": "markdown",
   "metadata": {},
   "source": [
    "Імпортуємо потрібні бібліотеки:"
   ]
  },
  {
   "cell_type": "code",
   "execution_count": 57,
   "metadata": {},
   "outputs": [],
   "source": [
    "import numpy as np\n",
    "import pandas as pd\n",
    "from sklearn.linear_model import LinearRegression\n",
    "from sklearn.preprocessing import StandardScaler"
   ]
  },
  {
   "cell_type": "markdown",
   "metadata": {},
   "source": [
    "Завантаження та вивід перших рядків датасету Housing.csv:"
   ]
  },
  {
   "cell_type": "code",
   "execution_count": 58,
   "metadata": {},
   "outputs": [
    {
     "data": {
      "text/html": [
       "<div>\n",
       "<style scoped>\n",
       "    .dataframe tbody tr th:only-of-type {\n",
       "        vertical-align: middle;\n",
       "    }\n",
       "\n",
       "    .dataframe tbody tr th {\n",
       "        vertical-align: top;\n",
       "    }\n",
       "\n",
       "    .dataframe thead th {\n",
       "        text-align: right;\n",
       "    }\n",
       "</style>\n",
       "<table border=\"1\" class=\"dataframe\">\n",
       "  <thead>\n",
       "    <tr style=\"text-align: right;\">\n",
       "      <th></th>\n",
       "      <th>price</th>\n",
       "      <th>area</th>\n",
       "      <th>bedrooms</th>\n",
       "      <th>bathrooms</th>\n",
       "      <th>stories</th>\n",
       "      <th>mainroad</th>\n",
       "      <th>guestroom</th>\n",
       "      <th>basement</th>\n",
       "      <th>hotwaterheating</th>\n",
       "      <th>airconditioning</th>\n",
       "      <th>parking</th>\n",
       "      <th>prefarea</th>\n",
       "      <th>furnishingstatus</th>\n",
       "    </tr>\n",
       "  </thead>\n",
       "  <tbody>\n",
       "    <tr>\n",
       "      <th>0</th>\n",
       "      <td>13300000</td>\n",
       "      <td>7420</td>\n",
       "      <td>4</td>\n",
       "      <td>2</td>\n",
       "      <td>3</td>\n",
       "      <td>yes</td>\n",
       "      <td>no</td>\n",
       "      <td>no</td>\n",
       "      <td>no</td>\n",
       "      <td>yes</td>\n",
       "      <td>2</td>\n",
       "      <td>yes</td>\n",
       "      <td>furnished</td>\n",
       "    </tr>\n",
       "    <tr>\n",
       "      <th>1</th>\n",
       "      <td>12250000</td>\n",
       "      <td>8960</td>\n",
       "      <td>4</td>\n",
       "      <td>4</td>\n",
       "      <td>4</td>\n",
       "      <td>yes</td>\n",
       "      <td>no</td>\n",
       "      <td>no</td>\n",
       "      <td>no</td>\n",
       "      <td>yes</td>\n",
       "      <td>3</td>\n",
       "      <td>no</td>\n",
       "      <td>furnished</td>\n",
       "    </tr>\n",
       "    <tr>\n",
       "      <th>2</th>\n",
       "      <td>12250000</td>\n",
       "      <td>9960</td>\n",
       "      <td>3</td>\n",
       "      <td>2</td>\n",
       "      <td>2</td>\n",
       "      <td>yes</td>\n",
       "      <td>no</td>\n",
       "      <td>yes</td>\n",
       "      <td>no</td>\n",
       "      <td>no</td>\n",
       "      <td>2</td>\n",
       "      <td>yes</td>\n",
       "      <td>semi-furnished</td>\n",
       "    </tr>\n",
       "    <tr>\n",
       "      <th>3</th>\n",
       "      <td>12215000</td>\n",
       "      <td>7500</td>\n",
       "      <td>4</td>\n",
       "      <td>2</td>\n",
       "      <td>2</td>\n",
       "      <td>yes</td>\n",
       "      <td>no</td>\n",
       "      <td>yes</td>\n",
       "      <td>no</td>\n",
       "      <td>yes</td>\n",
       "      <td>3</td>\n",
       "      <td>yes</td>\n",
       "      <td>furnished</td>\n",
       "    </tr>\n",
       "    <tr>\n",
       "      <th>4</th>\n",
       "      <td>11410000</td>\n",
       "      <td>7420</td>\n",
       "      <td>4</td>\n",
       "      <td>1</td>\n",
       "      <td>2</td>\n",
       "      <td>yes</td>\n",
       "      <td>yes</td>\n",
       "      <td>yes</td>\n",
       "      <td>no</td>\n",
       "      <td>yes</td>\n",
       "      <td>2</td>\n",
       "      <td>no</td>\n",
       "      <td>furnished</td>\n",
       "    </tr>\n",
       "  </tbody>\n",
       "</table>\n",
       "</div>"
      ],
      "text/plain": [
       "      price  area  bedrooms  bathrooms  stories mainroad guestroom basement  \\\n",
       "0  13300000  7420         4          2        3      yes        no       no   \n",
       "1  12250000  8960         4          4        4      yes        no       no   \n",
       "2  12250000  9960         3          2        2      yes        no      yes   \n",
       "3  12215000  7500         4          2        2      yes        no      yes   \n",
       "4  11410000  7420         4          1        2      yes       yes      yes   \n",
       "\n",
       "  hotwaterheating airconditioning  parking prefarea furnishingstatus  \n",
       "0              no             yes        2      yes        furnished  \n",
       "1              no             yes        3       no        furnished  \n",
       "2              no              no        2      yes   semi-furnished  \n",
       "3              no             yes        3      yes        furnished  \n",
       "4              no             yes        2       no        furnished  "
      ]
     },
     "execution_count": 58,
     "metadata": {},
     "output_type": "execute_result"
    }
   ],
   "source": [
    "housing_data = pd.read_csv('Housing.csv')\n",
    "\n",
    "housing_data.head()"
   ]
  },
  {
   "cell_type": "markdown",
   "metadata": {},
   "source": [
    "Знаходимо найкращі параметри w(омега) для датасету прогнозуючу ціну на будинок залежно\n",
    " від площі, кількості ванних кімнат та кількості спалень:"
   ]
  },
  {
   "cell_type": "code",
   "execution_count": 68,
   "metadata": {},
   "outputs": [
    {
     "data": {
      "text/plain": [
       "array([[ 1.        ,  1.04672629,  1.40341936,  1.42181174],\n",
       "       [ 1.        ,  1.75700953,  1.40341936,  5.40580863],\n",
       "       [ 1.        ,  2.21823241,  0.04727831,  1.42181174],\n",
       "       [ 1.        ,  1.08362412,  1.40341936,  1.42181174],\n",
       "       [ 1.        ,  1.04672629,  1.40341936, -0.57018671]])"
      ]
     },
     "execution_count": 68,
     "metadata": {},
     "output_type": "execute_result"
    }
   ],
   "source": [
    "# Вибір ознак і цільової змінної\n",
    "X = housing_data[['area', 'bedrooms', 'bathrooms']].values\n",
    "y = housing_data['price'].values\n",
    "\n",
    "# Нормалізація ознак\n",
    "scaler = StandardScaler()\n",
    "X_scaled = scaler.fit_transform(X)\n",
    "\n",
    "# Додавання колонки з одиницями до ознак для врахування вільного члена\n",
    "X_scaled_with_bias = np.c_[np.ones(X_scaled.shape[0]), X_scaled]\n",
    "\n",
    "# Відображення перших 5 рядків нормалізованих даних з одиницями\n",
    "X_scaled_with_bias[:5]"
   ]
  },
  {
   "cell_type": "markdown",
   "metadata": {},
   "source": [
    "Створимо функцію для обчислення функції втрат у векторному вигляді:"
   ]
  },
  {
   "cell_type": "code",
   "execution_count": 69,
   "metadata": {},
   "outputs": [],
   "source": [
    "def cost(h, y):\n",
    "  return np.mean((h-y)**2)/2"
   ]
  },
  {
   "cell_type": "markdown",
   "metadata": {},
   "source": [
    "Створимо клас для лінійної регресії CustomLinearRegression:"
   ]
  },
  {
   "cell_type": "code",
   "execution_count": 70,
   "metadata": {},
   "outputs": [],
   "source": [
    "class CustomLinearRegression:\n",
    "  def __init__(self, lr: float = 0.01, thr=0.00001, n_epochs = 100):\n",
    "    self.lr = lr\n",
    "    self.thr = thr\n",
    "    self.n_epochs = n_epochs\n",
    "    self.w = np.random.rand(X_scaled_with_bias.shape[1])\n",
    "\n",
    "  # Напишіть функцію гіпотези лінійної регресії у векторному вигляді\n",
    "  def predict(self, X):\n",
    "    return self.w@X.T\n",
    "  \n",
    "  # Реалізуйте один крок градієнтного спуску\n",
    "  def update_weights(self, X, y):\n",
    "    m = len(y)\n",
    "    h = self.predict(X)\n",
    "    self.w = self.w - self.lr / m * X.T @ (h-y)\n",
    "\n",
    "  # Виведення вартості функції втрат під час навчання\n",
    "  def fit(self, X, y):\n",
    "    last_cost = 10000000\n",
    "    for i in range(self.n_epochs):\n",
    "      self.update_weights(X, y)\n",
    "      new_cost = cost(self.predict(X), y)\n",
    "\n",
    "      if i % (self.n_epochs//100) == 0:\n",
    "        print(f\"cost function = {last_cost}\")\n",
    "\n",
    "      if abs(last_cost - new_cost) < self.thr:\n",
    "        break\n",
    "\n",
    "      last_cost = new_cost"
   ]
  },
  {
   "cell_type": "markdown",
   "metadata": {},
   "source": [
    "Ініціалізація та тренування CustomLinearRegression моделі:"
   ]
  },
  {
   "cell_type": "code",
   "execution_count": 75,
   "metadata": {},
   "outputs": [
    {
     "name": "stdout",
     "output_type": "stream",
     "text": [
      "cost function = 10000000\n",
      "cost function = 10827794655024.018\n",
      "cost function = 8978438548116.371\n",
      "cost function = 7476706938530.33\n",
      "cost function = 6256435031316.977\n",
      "cost function = 5264256773136.218\n",
      "cost function = 4457078250871.195\n",
      "cost function = 3800062279227.9434\n",
      "cost function = 3265017780195.851\n",
      "cost function = 2829110397098.4517\n",
      "cost function = 2473828564959.069\n",
      "cost function = 2184153133240.022\n",
      "cost function = 1947889491306.2393\n",
      "cost function = 1755129659584.9568\n",
      "cost function = 1597818501771.4338\n",
      "cost function = 1469403487322.752\n",
      "cost function = 1364551599196.1577\n",
      "cost function = 1278920279594.962\n",
      "cost function = 1208971922889.9878\n",
      "cost function = 1151823505025.3076\n",
      "cost function = 1105124595821.895\n",
      "cost function = 1066958323217.9612\n",
      "cost function = 1035760916061.1475\n",
      "cost function = 1010256299164.6465\n",
      "cost function = 989402893947.7452\n",
      "cost function = 972350324049.3387\n",
      "cost function = 958404164699.0923\n",
      "cost function = 946997228666.075\n",
      "cost function = 937666167218.1195\n",
      "cost function = 930032395207.7482\n",
      "cost function = 923786535917.7815\n",
      "cost function = 918675732257.9619\n",
      "cost function = 914493293195.202\n",
      "cost function = 911070243452.5507\n",
      "cost function = 908268424967.0365\n",
      "cost function = 905974863927.0521\n",
      "cost function = 904097170294.3912\n",
      "cost function = 902559779876.2118\n",
      "cost function = 901300884123.0487\n",
      "cost function = 900269921406.3081\n",
      "cost function = 899425526799.1722\n",
      "cost function = 898733856342.0676\n",
      "cost function = 898167217223.3645\n",
      "cost function = 897702947901.3053\n",
      "cost function = 897322502464.9741\n",
      "cost function = 897010701911.5101\n",
      "cost function = 896755121854.2936\n",
      "cost function = 896545591757.5615\n",
      "cost function = 896373785348.9001\n",
      "cost function = 896232885581.2552\n",
      "cost function = 896117310554.3862\n",
      "cost function = 896022489287.5215\n",
      "cost function = 895944678262.5358\n",
      "cost function = 895880811313.7236\n",
      "cost function = 895828376794.1093\n",
      "cost function = 895785317054.7914\n",
      "cost function = 895749946178.2926\n",
      "cost function = 895720882646.2961\n",
      "cost function = 895696994226.6506\n",
      "cost function = 895677352858.8074\n",
      "cost function = 895661197721.0034\n",
      "cost function = 895647904993.0438\n",
      "cost function = 895636963098.8192\n",
      "cost function = 895627952433.8002\n",
      "cost function = 895620528763.5631\n",
      "cost function = 895614409627.333\n",
      "cost function = 895609363201.536\n",
      "cost function = 895605199177.3374\n",
      "cost function = 895601761287.1433\n",
      "cost function = 895598921181.3077\n",
      "cost function = 895596573410.4979\n",
      "cost function = 895594631313.5543\n",
      "cost function = 895593023646.9783\n",
      "cost function = 895591691821.8912\n",
      "cost function = 895590587638.6365\n",
      "cost function = 895589671429.0883\n",
      "cost function = 895588910533.0261\n",
      "cost function = 895588278048.2683\n",
      "cost function = 895587751805.1729\n",
      "cost function = 895587313525.0503\n",
      "cost function = 895586948129.3513\n",
      "cost function = 895586643172.4781\n",
      "cost function = 895586388375.9796\n",
      "cost function = 895586175245.9009\n",
      "cost function = 895585996758.353\n",
      "cost function = 895585847101.058\n",
      "cost function = 895585721460.836\n",
      "cost function = 895585615848.8037\n",
      "cost function = 895585526956.5398\n",
      "cost function = 895585452037.6849\n",
      "cost function = 895585388810.4344\n",
      "cost function = 895585335377.202\n",
      "cost function = 895585290158.4009\n",
      "cost function = 895585251837.8298\n",
      "cost function = 895585219317.6096\n",
      "cost function = 895585191680.9766\n",
      "cost function = 895585168161.545\n",
      "cost function = 895585148117.8987\n",
      "cost function = 895585131012.571\n",
      "cost function = 895585116394.6472\n"
     ]
    }
   ],
   "source": [
    "cust_regression = CustomLinearRegression(lr=0.01, thr=0.00001, n_epochs=1000)\n",
    "w_cust_regression = cust_regression.fit(X_scaled_with_bias, y)\n",
    "w_cust_regression = cust_regression.w"
   ]
  },
  {
   "cell_type": "markdown",
   "metadata": {},
   "source": [
    "Знаходимо ці ж параметри за допомогою аналітичного рішення:"
   ]
  },
  {
   "cell_type": "code",
   "execution_count": 72,
   "metadata": {},
   "outputs": [],
   "source": [
    "def analytical_solution(X, y):\n",
    "    return np.linalg.pinv(X) @ y"
   ]
  },
  {
   "cell_type": "markdown",
   "metadata": {},
   "source": [
    "Застосування аналітичного рішення для пошуку найкращих параметрів:"
   ]
  },
  {
   "cell_type": "code",
   "execution_count": 73,
   "metadata": {},
   "outputs": [],
   "source": [
    "w_analytical = analytical_solution(X_scaled_with_bias, y)"
   ]
  },
  {
   "cell_type": "markdown",
   "metadata": {},
   "source": [
    "Порівняймо отримані результати:"
   ]
  },
  {
   "cell_type": "code",
   "execution_count": 79,
   "metadata": {},
   "outputs": [
    {
     "data": {
      "text/plain": [
       "'Найкращі параметри за допомогою методу градієнтного спуску - [4766523.46208283  821199.26724455  300296.28620694  695515.99555722]'"
      ]
     },
     "execution_count": 79,
     "metadata": {},
     "output_type": "execute_result"
    }
   ],
   "source": [
    "f\"Найкращі параметри за допомогою методу градієнтного спуску - {w_cust_regression}\"\n"
   ]
  },
  {
   "cell_type": "code",
   "execution_count": 80,
   "metadata": {},
   "outputs": [
    {
     "data": {
      "text/plain": [
       "'Найкращі параметри за допомогою аналітичного рішення - [4766729.24770642  821214.14349519  299983.57107963  695808.52272537]'"
      ]
     },
     "execution_count": 80,
     "metadata": {},
     "output_type": "execute_result"
    }
   ],
   "source": [
    "f\"Найкращі параметри за допомогою аналітичного рішення - {w_analytical}\""
   ]
  }
 ],
 "metadata": {
  "kernelspec": {
   "display_name": "Python 3",
   "language": "python",
   "name": "python3"
  },
  "language_info": {
   "codemirror_mode": {
    "name": "ipython",
    "version": 3
   },
   "file_extension": ".py",
   "mimetype": "text/x-python",
   "name": "python",
   "nbconvert_exporter": "python",
   "pygments_lexer": "ipython3",
   "version": "3.11.7"
  },
  "orig_nbformat": 4
 },
 "nbformat": 4,
 "nbformat_minor": 2
}
