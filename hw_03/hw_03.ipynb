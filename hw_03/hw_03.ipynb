{
 "cells": [
  {
   "cell_type": "markdown",
   "metadata": {},
   "source": [
    "                                             Домашнє завдання N 3"
   ]
  },
  {
   "cell_type": "markdown",
   "metadata": {},
   "source": [
    "                                        Лінійна регресія та її реалізація"
   ]
  },
  {
   "cell_type": "markdown",
   "metadata": {},
   "source": [
    "Імпортуємо потрібні бібліотеки:"
   ]
  },
  {
   "cell_type": "code",
   "execution_count": 2,
   "metadata": {},
   "outputs": [],
   "source": [
    "import numpy as np\n",
    "import pandas as pd\n",
    "from sklearn.linear_model import LinearRegression\n",
    "from sklearn.preprocessing import StandardScaler"
   ]
  },
  {
   "cell_type": "markdown",
   "metadata": {},
   "source": [
    "Завантаження та вивід перших рядків датасету Housing.csv:"
   ]
  },
  {
   "cell_type": "code",
   "execution_count": 3,
   "metadata": {},
   "outputs": [
    {
     "data": {
      "text/html": [
       "<div>\n",
       "<style scoped>\n",
       "    .dataframe tbody tr th:only-of-type {\n",
       "        vertical-align: middle;\n",
       "    }\n",
       "\n",
       "    .dataframe tbody tr th {\n",
       "        vertical-align: top;\n",
       "    }\n",
       "\n",
       "    .dataframe thead th {\n",
       "        text-align: right;\n",
       "    }\n",
       "</style>\n",
       "<table border=\"1\" class=\"dataframe\">\n",
       "  <thead>\n",
       "    <tr style=\"text-align: right;\">\n",
       "      <th></th>\n",
       "      <th>price</th>\n",
       "      <th>area</th>\n",
       "      <th>bedrooms</th>\n",
       "      <th>bathrooms</th>\n",
       "      <th>stories</th>\n",
       "      <th>mainroad</th>\n",
       "      <th>guestroom</th>\n",
       "      <th>basement</th>\n",
       "      <th>hotwaterheating</th>\n",
       "      <th>airconditioning</th>\n",
       "      <th>parking</th>\n",
       "      <th>prefarea</th>\n",
       "      <th>furnishingstatus</th>\n",
       "    </tr>\n",
       "  </thead>\n",
       "  <tbody>\n",
       "    <tr>\n",
       "      <th>0</th>\n",
       "      <td>13300000</td>\n",
       "      <td>7420</td>\n",
       "      <td>4</td>\n",
       "      <td>2</td>\n",
       "      <td>3</td>\n",
       "      <td>yes</td>\n",
       "      <td>no</td>\n",
       "      <td>no</td>\n",
       "      <td>no</td>\n",
       "      <td>yes</td>\n",
       "      <td>2</td>\n",
       "      <td>yes</td>\n",
       "      <td>furnished</td>\n",
       "    </tr>\n",
       "    <tr>\n",
       "      <th>1</th>\n",
       "      <td>12250000</td>\n",
       "      <td>8960</td>\n",
       "      <td>4</td>\n",
       "      <td>4</td>\n",
       "      <td>4</td>\n",
       "      <td>yes</td>\n",
       "      <td>no</td>\n",
       "      <td>no</td>\n",
       "      <td>no</td>\n",
       "      <td>yes</td>\n",
       "      <td>3</td>\n",
       "      <td>no</td>\n",
       "      <td>furnished</td>\n",
       "    </tr>\n",
       "    <tr>\n",
       "      <th>2</th>\n",
       "      <td>12250000</td>\n",
       "      <td>9960</td>\n",
       "      <td>3</td>\n",
       "      <td>2</td>\n",
       "      <td>2</td>\n",
       "      <td>yes</td>\n",
       "      <td>no</td>\n",
       "      <td>yes</td>\n",
       "      <td>no</td>\n",
       "      <td>no</td>\n",
       "      <td>2</td>\n",
       "      <td>yes</td>\n",
       "      <td>semi-furnished</td>\n",
       "    </tr>\n",
       "    <tr>\n",
       "      <th>3</th>\n",
       "      <td>12215000</td>\n",
       "      <td>7500</td>\n",
       "      <td>4</td>\n",
       "      <td>2</td>\n",
       "      <td>2</td>\n",
       "      <td>yes</td>\n",
       "      <td>no</td>\n",
       "      <td>yes</td>\n",
       "      <td>no</td>\n",
       "      <td>yes</td>\n",
       "      <td>3</td>\n",
       "      <td>yes</td>\n",
       "      <td>furnished</td>\n",
       "    </tr>\n",
       "    <tr>\n",
       "      <th>4</th>\n",
       "      <td>11410000</td>\n",
       "      <td>7420</td>\n",
       "      <td>4</td>\n",
       "      <td>1</td>\n",
       "      <td>2</td>\n",
       "      <td>yes</td>\n",
       "      <td>yes</td>\n",
       "      <td>yes</td>\n",
       "      <td>no</td>\n",
       "      <td>yes</td>\n",
       "      <td>2</td>\n",
       "      <td>no</td>\n",
       "      <td>furnished</td>\n",
       "    </tr>\n",
       "  </tbody>\n",
       "</table>\n",
       "</div>"
      ],
      "text/plain": [
       "      price  area  bedrooms  bathrooms  stories mainroad guestroom basement  \\\n",
       "0  13300000  7420         4          2        3      yes        no       no   \n",
       "1  12250000  8960         4          4        4      yes        no       no   \n",
       "2  12250000  9960         3          2        2      yes        no      yes   \n",
       "3  12215000  7500         4          2        2      yes        no      yes   \n",
       "4  11410000  7420         4          1        2      yes       yes      yes   \n",
       "\n",
       "  hotwaterheating airconditioning  parking prefarea furnishingstatus  \n",
       "0              no             yes        2      yes        furnished  \n",
       "1              no             yes        3       no        furnished  \n",
       "2              no              no        2      yes   semi-furnished  \n",
       "3              no             yes        3      yes        furnished  \n",
       "4              no             yes        2       no        furnished  "
      ]
     },
     "execution_count": 3,
     "metadata": {},
     "output_type": "execute_result"
    }
   ],
   "source": [
    "housing_data = pd.read_csv('Housing.csv')\n",
    "\n",
    "housing_data.head()"
   ]
  },
  {
   "cell_type": "markdown",
   "metadata": {},
   "source": [
    "Знаходимо найкращі параметри w(омега) для датасету прогнозуючу ціну на будинок залежно\n",
    " від площі, кількості ванних кімнат та кількості спалень:"
   ]
  },
  {
   "cell_type": "code",
   "execution_count": 4,
   "metadata": {},
   "outputs": [],
   "source": [
    "# Вибір ознак і цільової змінної\n",
    "X = housing_data[['area', 'bedrooms', 'bathrooms']].values\n",
    "y = housing_data['price'].values\n",
    "\n",
    "# Нормалізація ознак\n",
    "scaler = StandardScaler()\n",
    "X_scaled = scaler.fit_transform(X)\n",
    "\n",
    "X_scaled_with_bias = np.c_[np.ones(X_scaled.shape[0]), X_scaled]\n"
   ]
  },
  {
   "cell_type": "markdown",
   "metadata": {},
   "source": [
    "Відображення перших 5 рядків нормалізованих даних з одиницями:"
   ]
  },
  {
   "cell_type": "code",
   "execution_count": 5,
   "metadata": {},
   "outputs": [
    {
     "data": {
      "text/plain": [
       "array([[ 1.        ,  1.04672629,  1.40341936,  1.42181174],\n",
       "       [ 1.        ,  1.75700953,  1.40341936,  5.40580863],\n",
       "       [ 1.        ,  2.21823241,  0.04727831,  1.42181174],\n",
       "       [ 1.        ,  1.08362412,  1.40341936,  1.42181174],\n",
       "       [ 1.        ,  1.04672629,  1.40341936, -0.57018671]])"
      ]
     },
     "execution_count": 5,
     "metadata": {},
     "output_type": "execute_result"
    }
   ],
   "source": [
    "X_scaled_with_bias[:5]"
   ]
  },
  {
   "cell_type": "markdown",
   "metadata": {},
   "source": [
    "Створимо функцію для обчислення функції втрат у векторному вигляді:"
   ]
  },
  {
   "cell_type": "code",
   "execution_count": 6,
   "metadata": {},
   "outputs": [],
   "source": [
    "def cost(h, y):\n",
    "  return np.mean((h-y)**2)/2"
   ]
  },
  {
   "cell_type": "markdown",
   "metadata": {},
   "source": [
    "Створимо клас для лінійної регресії CustomLinearRegression:"
   ]
  },
  {
   "cell_type": "code",
   "execution_count": 7,
   "metadata": {},
   "outputs": [],
   "source": [
    "class CustomLinearRegression:\n",
    "  def __init__(self, lr: float = 0.01, thr=0.00001, n_epochs = 100):\n",
    "    self.lr = lr\n",
    "    self.thr = thr\n",
    "    self.n_epochs = n_epochs\n",
    "    self.w = np.random.rand(X_scaled_with_bias.shape[1])\n",
    "\n",
    "  # Функція гіпотези лінійної регресії у векторному вигляді\n",
    "  def predict(self, X):\n",
    "    return self.w@X.T\n",
    "  \n",
    "  # Один крок градієнтного спуску\n",
    "  def update_weights(self, X, y):\n",
    "    m = len(y)\n",
    "    h = self.predict(X)\n",
    "    self.w = self.w - self.lr / m * X.T @ (h-y)\n",
    "\n",
    "  # Навчання моделі та виведення вартості функції втрат під час навчання\n",
    "  def fit(self, X, y):\n",
    "    last_cost = 10000000\n",
    "    for i in range(self.n_epochs):\n",
    "      self.update_weights(X, y)\n",
    "      new_cost = cost(self.predict(X), y)\n",
    "\n",
    "      if i % (self.n_epochs//100) == 0:\n",
    "        print(f\"cost function = {last_cost}\")\n",
    "\n",
    "      if abs(last_cost - new_cost) < self.thr:\n",
    "        break\n",
    "\n",
    "      last_cost = new_cost"
   ]
  },
  {
   "cell_type": "markdown",
   "metadata": {},
   "source": [
    "Ініціалізація та тренування CustomLinearRegression моделі:"
   ]
  },
  {
   "cell_type": "code",
   "execution_count": 8,
   "metadata": {},
   "outputs": [
    {
     "name": "stdout",
     "output_type": "stream",
     "text": [
      "cost function = 10000000\n",
      "cost function = 10827794033917.678\n",
      "cost function = 8978438089031.682\n",
      "cost function = 7476706598948.053\n",
      "cost function = 6256434779873.583\n",
      "cost function = 5264256586702.534\n",
      "cost function = 4457078112394.562\n",
      "cost function = 3800062176138.666\n",
      "cost function = 3265017703230.626\n",
      "cost function = 2829110339431.859\n",
      "cost function = 2473828521562.638\n",
      "cost function = 2184153100409.381\n",
      "cost function = 1947889466312.3572\n",
      "cost function = 1755129640417.0142\n",
      "cost function = 1597818486947.3064\n",
      "cost function = 1469403475749.3835\n",
      "cost function = 1364551590066.7368\n",
      "cost function = 1278920272313.2275\n",
      "cost function = 1208971917014.5317\n",
      "cost function = 1151823500228.6135\n",
      "cost function = 1105124591860.2249\n",
      "cost function = 1066958319909.2323\n",
      "cost function = 1035760913268.678\n",
      "cost function = 1010256296785.2294\n",
      "cost function = 989402891902.8859\n",
      "cost function = 972350322278.8374\n",
      "cost function = 958404163156.3223\n",
      "cost function = 946997227314.5275\n",
      "cost function = 937666166028.8615\n",
      "cost function = 930032394157.5571\n",
      "cost function = 923786534987.7694\n",
      "cost function = 918675731432.5656\n",
      "cost function = 914493292461.4309\n",
      "cost function = 911070242799.4319\n",
      "cost function = 908268424385.2002\n",
      "cost function = 905974863408.4197\n",
      "cost function = 904097169831.9371\n",
      "cost function = 902559779463.7855\n",
      "cost function = 901300883755.2322\n",
      "cost function = 900269921078.3081\n",
      "cost function = 899425526506.7316\n",
      "cost function = 898733856081.3954\n",
      "cost function = 898167216991.0767\n",
      "cost function = 897702947694.378\n",
      "cost function = 897322502280.7023\n",
      "cost function = 897010701747.4716\n",
      "cost function = 896755121708.32\n",
      "cost function = 896545591627.7104\n",
      "cost function = 896373785233.433\n",
      "cost function = 896232885478.6145\n",
      "cost function = 896117310463.179\n",
      "cost function = 896022489206.5007\n",
      "cost function = 895944678190.5878\n",
      "cost function = 895880811249.852\n",
      "cost function = 895828376737.4246\n",
      "cost function = 895785317004.499\n",
      "cost function = 895749946133.6844\n",
      "cost function = 895720882606.7396\n",
      "cost function = 895696994191.5828\n",
      "cost function = 895677352827.726\n",
      "cost function = 895661197693.4618\n",
      "cost function = 895647904968.6436\n",
      "cost function = 895636963077.2069\n",
      "cost function = 895627952414.6609\n",
      "cost function = 895620528746.6166\n",
      "cost function = 895614409612.3309\n",
      "cost function = 895609363188.2576\n",
      "cost function = 895605199165.586\n",
      "cost function = 895601761276.7454\n",
      "cost function = 895598921172.1085\n",
      "cost function = 895596573402.3599\n",
      "cost function = 895594631306.3563\n",
      "cost function = 895593023640.6124\n",
      "cost function = 895591691816.2617\n",
      "cost function = 895590587633.6589\n",
      "cost function = 895589671424.6876\n",
      "cost function = 895588910529.136\n",
      "cost function = 895588278044.8296\n",
      "cost function = 895587751802.1335\n",
      "cost function = 895587313522.3643\n",
      "cost function = 895586948126.9775\n",
      "cost function = 895586643170.3805\n",
      "cost function = 895586388374.126\n",
      "cost function = 895586175244.2631\n",
      "cost function = 895585996756.906\n",
      "cost function = 895585847099.7797\n",
      "cost function = 895585721459.7068\n",
      "cost function = 895585615847.8062\n",
      "cost function = 895585526955.6588\n",
      "cost function = 895585452036.9066\n",
      "cost function = 895585388809.7471\n",
      "cost function = 895585335376.595\n",
      "cost function = 895585290157.8646\n",
      "cost function = 895585251837.3564\n",
      "cost function = 895585219317.1915\n",
      "cost function = 895585191680.6073\n",
      "cost function = 895585168161.2191\n",
      "cost function = 895585148117.611\n",
      "cost function = 895585131012.317\n",
      "cost function = 895585116394.423\n"
     ]
    }
   ],
   "source": [
    "cust_regression = CustomLinearRegression(lr=0.01, thr=0.00001, n_epochs=1000)\n",
    "w_cust_regression = cust_regression.fit(X_scaled_with_bias, y)\n",
    "w_cust_regression = cust_regression.w"
   ]
  },
  {
   "cell_type": "markdown",
   "metadata": {},
   "source": [
    "Знаходимо ці ж параметри за допомогою аналітичного рішення:"
   ]
  },
  {
   "cell_type": "code",
   "execution_count": 9,
   "metadata": {},
   "outputs": [],
   "source": [
    "def analytical_solution(X, y):\n",
    "    return np.linalg.pinv(X) @ y"
   ]
  },
  {
   "cell_type": "markdown",
   "metadata": {},
   "source": [
    "Застосування аналітичного рішення для пошуку найкращих параметрів:"
   ]
  },
  {
   "cell_type": "code",
   "execution_count": 10,
   "metadata": {},
   "outputs": [],
   "source": [
    "w_analytical = analytical_solution(X_scaled_with_bias, y)"
   ]
  },
  {
   "cell_type": "markdown",
   "metadata": {},
   "source": [
    "Порівняймо отримані результати:"
   ]
  },
  {
   "cell_type": "code",
   "execution_count": 11,
   "metadata": {},
   "outputs": [
    {
     "data": {
      "text/plain": [
       "'Найкращі параметри за допомогою методу градієнтного спуску - [4766523.46208285  821199.26714076  300296.2857042   695515.99611495]'"
      ]
     },
     "execution_count": 11,
     "metadata": {},
     "output_type": "execute_result"
    }
   ],
   "source": [
    "f\"Найкращі параметри за допомогою методу градієнтного спуску - {w_cust_regression}\"\n"
   ]
  },
  {
   "cell_type": "code",
   "execution_count": 12,
   "metadata": {},
   "outputs": [
    {
     "data": {
      "text/plain": [
       "'Найкращі параметри за допомогою аналітичного рішення - [4766729.24770642  821214.14349519  299983.57107963  695808.52272537]'"
      ]
     },
     "execution_count": 12,
     "metadata": {},
     "output_type": "execute_result"
    }
   ],
   "source": [
    "f\"Найкращі параметри за допомогою аналітичного рішення - {w_analytical}\""
   ]
  }
 ],
 "metadata": {
  "kernelspec": {
   "display_name": "Python 3",
   "language": "python",
   "name": "python3"
  },
  "language_info": {
   "codemirror_mode": {
    "name": "ipython",
    "version": 3
   },
   "file_extension": ".py",
   "mimetype": "text/x-python",
   "name": "python",
   "nbconvert_exporter": "python",
   "pygments_lexer": "ipython3",
   "version": "3.11.7"
  },
  "orig_nbformat": 4
 },
 "nbformat": 4,
 "nbformat_minor": 2
}
