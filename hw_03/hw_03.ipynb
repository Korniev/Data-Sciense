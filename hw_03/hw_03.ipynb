{
 "cells": [
  {
   "cell_type": "markdown",
   "metadata": {},
   "source": [
    "                                             Домашнє завдання N 3"
   ]
  },
  {
   "cell_type": "markdown",
   "metadata": {},
   "source": [
    "                                        Лінійна регресія та її реалізація"
   ]
  },
  {
   "cell_type": "markdown",
   "metadata": {},
   "source": [
    "Імпортуємо потрібні бібліотеки:"
   ]
  },
  {
   "cell_type": "code",
   "execution_count": 1,
   "metadata": {},
   "outputs": [],
   "source": [
    "import numpy as np\n",
    "import pandas as pd\n",
    "import matplotlib.pyplot as plt\n",
    "from sklearn.linear_model import LinearRegression\n",
    "from sklearn.preprocessing import StandardScaler"
   ]
  },
  {
   "cell_type": "markdown",
   "metadata": {},
   "source": [
    "Завантаження та вивід перших рядків датасету Housing.csv:"
   ]
  },
  {
   "cell_type": "code",
   "execution_count": 2,
   "metadata": {},
   "outputs": [
    {
     "data": {
      "text/html": [
       "<div>\n",
       "<style scoped>\n",
       "    .dataframe tbody tr th:only-of-type {\n",
       "        vertical-align: middle;\n",
       "    }\n",
       "\n",
       "    .dataframe tbody tr th {\n",
       "        vertical-align: top;\n",
       "    }\n",
       "\n",
       "    .dataframe thead th {\n",
       "        text-align: right;\n",
       "    }\n",
       "</style>\n",
       "<table border=\"1\" class=\"dataframe\">\n",
       "  <thead>\n",
       "    <tr style=\"text-align: right;\">\n",
       "      <th></th>\n",
       "      <th>price</th>\n",
       "      <th>area</th>\n",
       "      <th>bedrooms</th>\n",
       "      <th>bathrooms</th>\n",
       "      <th>stories</th>\n",
       "      <th>mainroad</th>\n",
       "      <th>guestroom</th>\n",
       "      <th>basement</th>\n",
       "      <th>hotwaterheating</th>\n",
       "      <th>airconditioning</th>\n",
       "      <th>parking</th>\n",
       "      <th>prefarea</th>\n",
       "      <th>furnishingstatus</th>\n",
       "    </tr>\n",
       "  </thead>\n",
       "  <tbody>\n",
       "    <tr>\n",
       "      <th>0</th>\n",
       "      <td>13300000</td>\n",
       "      <td>7420</td>\n",
       "      <td>4</td>\n",
       "      <td>2</td>\n",
       "      <td>3</td>\n",
       "      <td>yes</td>\n",
       "      <td>no</td>\n",
       "      <td>no</td>\n",
       "      <td>no</td>\n",
       "      <td>yes</td>\n",
       "      <td>2</td>\n",
       "      <td>yes</td>\n",
       "      <td>furnished</td>\n",
       "    </tr>\n",
       "    <tr>\n",
       "      <th>1</th>\n",
       "      <td>12250000</td>\n",
       "      <td>8960</td>\n",
       "      <td>4</td>\n",
       "      <td>4</td>\n",
       "      <td>4</td>\n",
       "      <td>yes</td>\n",
       "      <td>no</td>\n",
       "      <td>no</td>\n",
       "      <td>no</td>\n",
       "      <td>yes</td>\n",
       "      <td>3</td>\n",
       "      <td>no</td>\n",
       "      <td>furnished</td>\n",
       "    </tr>\n",
       "    <tr>\n",
       "      <th>2</th>\n",
       "      <td>12250000</td>\n",
       "      <td>9960</td>\n",
       "      <td>3</td>\n",
       "      <td>2</td>\n",
       "      <td>2</td>\n",
       "      <td>yes</td>\n",
       "      <td>no</td>\n",
       "      <td>yes</td>\n",
       "      <td>no</td>\n",
       "      <td>no</td>\n",
       "      <td>2</td>\n",
       "      <td>yes</td>\n",
       "      <td>semi-furnished</td>\n",
       "    </tr>\n",
       "    <tr>\n",
       "      <th>3</th>\n",
       "      <td>12215000</td>\n",
       "      <td>7500</td>\n",
       "      <td>4</td>\n",
       "      <td>2</td>\n",
       "      <td>2</td>\n",
       "      <td>yes</td>\n",
       "      <td>no</td>\n",
       "      <td>yes</td>\n",
       "      <td>no</td>\n",
       "      <td>yes</td>\n",
       "      <td>3</td>\n",
       "      <td>yes</td>\n",
       "      <td>furnished</td>\n",
       "    </tr>\n",
       "    <tr>\n",
       "      <th>4</th>\n",
       "      <td>11410000</td>\n",
       "      <td>7420</td>\n",
       "      <td>4</td>\n",
       "      <td>1</td>\n",
       "      <td>2</td>\n",
       "      <td>yes</td>\n",
       "      <td>yes</td>\n",
       "      <td>yes</td>\n",
       "      <td>no</td>\n",
       "      <td>yes</td>\n",
       "      <td>2</td>\n",
       "      <td>no</td>\n",
       "      <td>furnished</td>\n",
       "    </tr>\n",
       "  </tbody>\n",
       "</table>\n",
       "</div>"
      ],
      "text/plain": [
       "      price  area  bedrooms  bathrooms  stories mainroad guestroom basement  \\\n",
       "0  13300000  7420         4          2        3      yes        no       no   \n",
       "1  12250000  8960         4          4        4      yes        no       no   \n",
       "2  12250000  9960         3          2        2      yes        no      yes   \n",
       "3  12215000  7500         4          2        2      yes        no      yes   \n",
       "4  11410000  7420         4          1        2      yes       yes      yes   \n",
       "\n",
       "  hotwaterheating airconditioning  parking prefarea furnishingstatus  \n",
       "0              no             yes        2      yes        furnished  \n",
       "1              no             yes        3       no        furnished  \n",
       "2              no              no        2      yes   semi-furnished  \n",
       "3              no             yes        3      yes        furnished  \n",
       "4              no             yes        2       no        furnished  "
      ]
     },
     "execution_count": 2,
     "metadata": {},
     "output_type": "execute_result"
    }
   ],
   "source": [
    "housing_data = pd.read_csv('Housing.csv')\n",
    "\n",
    "housing_data.head()"
   ]
  },
  {
   "cell_type": "markdown",
   "metadata": {},
   "source": [
    "Знаходимо найкращі параметри w(омега) для датасету прогнозуючу ціну на будинок залежно\n",
    " від площі, кількості ванних кімнат та кількості спалень:"
   ]
  },
  {
   "cell_type": "code",
   "execution_count": 3,
   "metadata": {},
   "outputs": [],
   "source": [
    "# Вибір ознак і цільової змінної\n",
    "X = housing_data[['area', 'bedrooms', 'bathrooms']].values\n",
    "y = housing_data['price'].values\n",
    "\n",
    "# Нормалізація ознак\n",
    "scaler = StandardScaler()\n",
    "X_scaled = scaler.fit_transform(X)\n",
    "\n",
    "X_scaled_with_bias = np.c_[np.ones(X_scaled.shape[0]), X_scaled]\n"
   ]
  },
  {
   "cell_type": "markdown",
   "metadata": {},
   "source": [
    "Відображення перших 5 рядків нормалізованих даних з одиницями:"
   ]
  },
  {
   "cell_type": "code",
   "execution_count": 4,
   "metadata": {},
   "outputs": [
    {
     "data": {
      "text/plain": [
       "array([[ 1.        ,  1.04672629,  1.40341936,  1.42181174],\n",
       "       [ 1.        ,  1.75700953,  1.40341936,  5.40580863],\n",
       "       [ 1.        ,  2.21823241,  0.04727831,  1.42181174],\n",
       "       [ 1.        ,  1.08362412,  1.40341936,  1.42181174],\n",
       "       [ 1.        ,  1.04672629,  1.40341936, -0.57018671]])"
      ]
     },
     "execution_count": 4,
     "metadata": {},
     "output_type": "execute_result"
    }
   ],
   "source": [
    "X_scaled_with_bias[:5]"
   ]
  },
  {
   "cell_type": "markdown",
   "metadata": {},
   "source": [
    "Створимо функцію для обчислення функції втрат у векторному вигляді:"
   ]
  },
  {
   "cell_type": "code",
   "execution_count": 5,
   "metadata": {},
   "outputs": [],
   "source": [
    "def cost(h, y):\n",
    "  return np.mean((h-y)**2)/2"
   ]
  },
  {
   "cell_type": "markdown",
   "metadata": {},
   "source": [
    "Створимо клас для лінійної регресії CustomLinearRegression:"
   ]
  },
  {
   "cell_type": "code",
   "execution_count": 6,
   "metadata": {},
   "outputs": [],
   "source": [
    "class CustomLinearRegression:\n",
    "  def __init__(self, lr: float = 0.01, thr=0.00001, n_epochs = 100):\n",
    "    self.lr = lr\n",
    "    self.thr = thr\n",
    "    self.n_epochs = n_epochs\n",
    "    self.w = np.random.rand(X_scaled_with_bias.shape[1])\n",
    "\n",
    "  # Функція гіпотези лінійної регресії у векторному вигляді\n",
    "  def predict(self, X):\n",
    "    return self.w@X.T\n",
    "  \n",
    "  # Один крок градієнтного спуску\n",
    "  def update_weights(self, X, y):\n",
    "    m = len(y)\n",
    "    h = self.predict(X)\n",
    "    self.w = self.w - self.lr / m * X.T @ (h-y)\n",
    "\n",
    "  # Навчання моделі та виведення вартості функції втрат під час навчання\n",
    "  def fit(self, X, y):\n",
    "    last_cost = 10000000\n",
    "    for i in range(self.n_epochs):\n",
    "      self.update_weights(X, y)\n",
    "      new_cost = cost(self.predict(X), y)\n",
    "\n",
    "      if i % (self.n_epochs//100) == 0:\n",
    "        print(f\"cost function = {last_cost}\")\n",
    "\n",
    "      if abs(last_cost - new_cost) < self.thr:\n",
    "        break\n",
    "\n",
    "      last_cost = new_cost"
   ]
  },
  {
   "cell_type": "markdown",
   "metadata": {},
   "source": [
    "Ініціалізація та тренування CustomLinearRegression моделі:"
   ]
  },
  {
   "cell_type": "code",
   "execution_count": 7,
   "metadata": {},
   "outputs": [
    {
     "name": "stdout",
     "output_type": "stream",
     "text": [
      "cost function = 10000000\n",
      "cost function = 10827794087170.5\n",
      "cost function = 8978438081470.844\n",
      "cost function = 7476706555093.808\n",
      "cost function = 6256434716273.174\n",
      "cost function = 5264256514294.554\n",
      "cost function = 4457078038205.603\n",
      "cost function = 3800062104495.492\n",
      "cost function = 3265017636621.7\n",
      "cost function = 2829110279115.831\n",
      "cost function = 2473828467994.8647\n",
      "cost function = 2184153053538.0945\n",
      "cost function = 1947889425781.9192\n",
      "cost function = 1755129605705.2974\n",
      "cost function = 1597818457456.6948\n",
      "cost function = 1469403450865.3992\n",
      "cost function = 1364551569194.284\n",
      "cost function = 1278920254897.5808\n",
      "cost function = 1208971902552.0955\n",
      "cost function = 1151823488270.9756\n",
      "cost function = 1105124582013.9722\n",
      "cost function = 1066958311833.2009\n",
      "cost function = 1035760906669.7863\n",
      "cost function = 1010256291413.6539\n",
      "cost function = 989402887547.0708\n",
      "cost function = 972350318760.6279\n",
      "cost function = 958404160326.4303\n",
      "cost function = 946997225048.3895\n",
      "cost function = 937666164222.9485\n",
      "cost function = 930032392726.126\n",
      "cost function = 923786533860.0397\n",
      "cost function = 918675730550.2886\n",
      "cost function = 914493291776.8112\n",
      "cost function = 911070242273.3635\n",
      "cost function = 908268423985.7793\n",
      "cost function = 905974863109.6897\n",
      "cost function = 904097169612.8433\n",
      "cost function = 902559779307.2993\n",
      "cost function = 901300883647.6266\n",
      "cost function = 900269921008.5546\n",
      "cost function = 899425526466.002\n",
      "cost function = 898733856062.6522\n",
      "cost function = 898167216988.7352\n",
      "cost function = 897702947704.0295\n",
      "cost function = 897322502298.8867\n",
      "cost function = 897010701771.4922\n",
      "cost function = 896755121736.0922\n",
      "cost function = 896545591657.6393\n",
      "cost function = 896373785264.3125\n",
      "cost function = 896232885509.5477\n",
      "cost function = 896117310493.512\n",
      "cost function = 896022489235.7701\n",
      "cost function = 895944678218.4784\n",
      "cost function = 895880811276.1632\n",
      "cost function = 895828376762.0428\n",
      "cost function = 895785317027.3773\n",
      "cost function = 895749946154.8237\n",
      "cost function = 895720882626.1772\n",
      "cost function = 895696994209.3812\n",
      "cost function = 895677352843.964\n",
      "cost function = 895661197708.2295\n",
      "cost function = 895647904982.037\n",
      "cost function = 895636963089.3235\n",
      "cost function = 895627952425.5988\n",
      "cost function = 895620528756.4711\n",
      "cost function = 895614409621.194\n",
      "cost function = 895609363196.2163\n",
      "cost function = 895605199172.7228\n",
      "cost function = 895601761283.137\n",
      "cost function = 895598921177.8257\n",
      "cost function = 895596573407.4688\n",
      "cost function = 895594631310.9172\n",
      "cost function = 895593023644.6805\n",
      "cost function = 895591691819.8875\n",
      "cost function = 895590587636.8878\n",
      "cost function = 895589671427.5614\n",
      "cost function = 895588910531.6919\n",
      "cost function = 895588278047.1018\n",
      "cost function = 895587751804.1523\n",
      "cost function = 895587313524.157\n",
      "cost function = 895586948128.5688\n",
      "cost function = 895586643171.7925\n",
      "cost function = 895586388375.3783\n",
      "cost function = 895586175245.3737\n",
      "cost function = 895585996757.8904\n",
      "cost function = 895585847100.6521\n",
      "cost function = 895585721460.4796\n",
      "cost function = 895585615848.4906\n",
      "cost function = 895585526956.2646\n",
      "cost function = 895585452037.4432\n",
      "cost function = 895585388810.2218\n",
      "cost function = 895585335377.0151\n",
      "cost function = 895585290158.2365\n",
      "cost function = 895585251837.6852\n",
      "cost function = 895585219317.4823\n",
      "cost function = 895585191680.8645\n",
      "cost function = 895585168161.4465\n",
      "cost function = 895585148117.8119\n",
      "cost function = 895585131012.4948\n",
      "cost function = 895585116394.5801\n"
     ]
    }
   ],
   "source": [
    "cust_regression = CustomLinearRegression(lr=0.01, thr=0.00001, n_epochs=1000)\n",
    "w_cust_regression = cust_regression.fit(X_scaled_with_bias, y)\n",
    "w_cust_regression = cust_regression.w"
   ]
  },
  {
   "cell_type": "markdown",
   "metadata": {},
   "source": [
    "Знаходимо ці ж параметри за допомогою аналітичного рішення:"
   ]
  },
  {
   "cell_type": "code",
   "execution_count": 8,
   "metadata": {},
   "outputs": [],
   "source": [
    "def analytical_solution(X, y):\n",
    "    return np.linalg.pinv(X) @ y"
   ]
  },
  {
   "cell_type": "markdown",
   "metadata": {},
   "source": [
    "Застосування аналітичного рішення для пошуку найкращих параметрів:"
   ]
  },
  {
   "cell_type": "code",
   "execution_count": 9,
   "metadata": {},
   "outputs": [],
   "source": [
    "w_analytical = analytical_solution(X_scaled_with_bias, y)"
   ]
  },
  {
   "cell_type": "markdown",
   "metadata": {},
   "source": [
    "Порівняймо отримані результати:"
   ]
  },
  {
   "cell_type": "code",
   "execution_count": 10,
   "metadata": {},
   "outputs": [
    {
     "data": {
      "text/plain": [
       "'Найкращі параметри за допомогою методу градієнтного спуску - [4766523.46208905  821199.2672256   300296.28605662  695515.99571558]'"
      ]
     },
     "execution_count": 10,
     "metadata": {},
     "output_type": "execute_result"
    }
   ],
   "source": [
    "f\"Найкращі параметри за допомогою методу градієнтного спуску - {w_cust_regression}\"\n"
   ]
  },
  {
   "cell_type": "code",
   "execution_count": 11,
   "metadata": {},
   "outputs": [
    {
     "data": {
      "text/plain": [
       "'Найкращі параметри за допомогою аналітичного рішення - [4766729.24770642  821214.14349519  299983.57107963  695808.52272537]'"
      ]
     },
     "execution_count": 11,
     "metadata": {},
     "output_type": "execute_result"
    }
   ],
   "source": [
    "f\"Найкращі параметри за допомогою аналітичного рішення - {w_analytical}\""
   ]
  },
  {
   "cell_type": "markdown",
   "metadata": {},
   "source": [
    "Графік порівняння реальних і прогнозованих цін:"
   ]
  },
  {
   "cell_type": "code",
   "execution_count": 19,
   "metadata": {},
   "outputs": [
    {
     "data": {
      "image/png": "[encoded data removed]",
      "text/plain": [
       "<Figure size 1000x600 with 1 Axes>"
      ]
     },
     "metadata": {},
     "output_type": "display_data"
    }
   ],
   "source": [
    "# Вибір підмножини даних для порівняння прогнозів\n",
    "subset_indices = np.random.choice(np.arange(len(y)), size=100, replace=False)\n",
    "X_subset = X_scaled_with_bias[subset_indices]\n",
    "y_subset = y[subset_indices]\n",
    "\n",
    "# Розрахунок прогнозів\n",
    "predictions_gradient_descent = cust_regression.predict(X_subset)\n",
    "predictions_analytical = np.dot(X_subset, w_analytical)\n",
    "\n",
    "\n",
    "plt.figure(figsize=(10, 6))\n",
    "plt.scatter(np.arange(len(y_subset)), y_subset, color='blue', label='Актуальні ціни', alpha=0.6)\n",
    "plt.scatter(np.arange(len(y_subset)), predictions_gradient_descent, color='red', marker='x', label='Прогнозування (градієнтний спуск)', alpha=0.6)\n",
    "plt.scatter(np.arange(len(y_subset)), predictions_analytical, color='green', marker='o', label='Прогнозуаання (аналітичне рішення)', alpha=0.6)\n",
    "plt.xlabel('Простий індекс')\n",
    "plt.ylabel('Ціна')\n",
    "plt.title('Порівняння актуальних і прогнозованих цін')\n",
    "plt.legend()\n",
    "plt.grid(True)\n",
    "plt.show()"
   ]
  }
 ],
 "metadata": {
  "kernelspec": {
   "display_name": "Python 3",
   "language": "python",
   "name": "python3"
  },
  "language_info": {
   "codemirror_mode": {
    "name": "ipython",
    "version": 3
   },
   "file_extension": ".py",
   "mimetype": "text/x-python",
   "name": "python",
   "nbconvert_exporter": "python",
   "pygments_lexer": "ipython3",
   "version": "3.11.7"
  },
  "orig_nbformat": 4
 },
 "nbformat": 4,
 "nbformat_minor": 2
}
