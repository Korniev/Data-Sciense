{
 "cells": [
  {
   "cell_type": "markdown",
   "metadata": {},
   "source": [
    "                                                Домашнє завдання N 5"
   ]
  },
  {
   "cell_type": "markdown",
   "metadata": {},
   "source": [
    "За даними акселерометра з мобільного телефону потрібно класифікувати, якою діяльністю займається людина: йде, стоїть, біжить чи йде по сходах.\n",
    "\n",
    "Використайте алгоритми SVM та випадковий ліс з бібліотеки scikit-learn. Як характеристики можете брати показники з акселерометра, проте щоб покращити результати роботи алгоритмів, спочатку можна підготувати наш датасет і розрахувати часові ознаки (time domain features)."
   ]
  },
  {
   "cell_type": "markdown",
   "metadata": {},
   "source": [
    "Почнемо з імпорту потрібних бібліотек:"
   ]
  },
  {
   "cell_type": "code",
   "execution_count": 17,
   "metadata": {},
   "outputs": [],
   "source": [
    "import pandas as pd\n",
    "import numpy as np\n",
    "from matplotlib import pyplot as plt\n",
    "import seaborn as sns\n",
    "import os\n",
    "\n",
    "from sklearn.model_selection import train_test_split\n",
    "from sklearn.preprocessing import StandardScaler\n",
    "from sklearn.svm import SVC\n",
    "from sklearn.ensemble import RandomForestClassifier\n",
    "from sklearn.metrics import classification_report"
   ]
  },
  {
   "cell_type": "markdown",
   "metadata": {},
   "source": [
    "Давайте зараз подивимось які саме підпапки з даними в нас зберігаються у датасеті data:"
   ]
  },
  {
   "cell_type": "code",
   "execution_count": 18,
   "metadata": {},
   "outputs": [
    {
     "data": {
      "text/plain": [
       "['running', 'idle', '.DS_Store', 'walking', 'stairs']"
      ]
     },
     "execution_count": 18,
     "metadata": {},
     "output_type": "execute_result"
    }
   ],
   "source": [
    "data_dir_path = os.path.join('data')\n",
    "data_files = os.listdir(data_dir_path)\n",
    "\n",
    "data_files"
   ]
  },
  {
   "cell_type": "markdown",
   "metadata": {},
   "source": [
    "Як бачимо, у піддиректорії \"walking\" знаходяться файли з даними, названі за шаблоном \"walking-<номер>\".csv. Це означає, що дані з акселерометра для кожної діяльності зберігаються у форматі CSV файлів, причому кожен файл відповідає окремій сесії або запису цієї діяльності:"
   ]
  },
  {
   "cell_type": "code",
   "execution_count": 19,
   "metadata": {},
   "outputs": [
    {
     "data": {
      "text/plain": [
       "['walking-576.csv',\n",
       " 'walking-210.csv',\n",
       " 'walking-204.csv',\n",
       " 'walking-1429.csv',\n",
       " 'walking-562.csv']"
      ]
     },
     "execution_count": 19,
     "metadata": {},
     "output_type": "execute_result"
    }
   ],
   "source": [
    "sample_activity_dir = os.path.join(data_dir_path, 'walking')\n",
    "sample_files = os.listdir(sample_activity_dir)\n",
    "\n",
    "sample_files[:5]"
   ]
  },
  {
   "cell_type": "markdown",
   "metadata": {},
   "source": [
    "Прочитаємо один з csv-файлів, щоб зрозуміти, які саме дані нам надані:"
   ]
  },
  {
   "cell_type": "code",
   "execution_count": 20,
   "metadata": {},
   "outputs": [
    {
     "data": {
      "text/html": [
       "<div>\n",
       "<style scoped>\n",
       "    .dataframe tbody tr th:only-of-type {\n",
       "        vertical-align: middle;\n",
       "    }\n",
       "\n",
       "    .dataframe tbody tr th {\n",
       "        vertical-align: top;\n",
       "    }\n",
       "\n",
       "    .dataframe thead th {\n",
       "        text-align: right;\n",
       "    }\n",
       "</style>\n",
       "<table border=\"1\" class=\"dataframe\">\n",
       "  <thead>\n",
       "    <tr style=\"text-align: right;\">\n",
       "      <th></th>\n",
       "      <th>accelerometer_X</th>\n",
       "      <th>accelerometer_Y</th>\n",
       "      <th>accelerometer_Z</th>\n",
       "    </tr>\n",
       "  </thead>\n",
       "  <tbody>\n",
       "    <tr>\n",
       "      <th>0</th>\n",
       "      <td>2.322376</td>\n",
       "      <td>3.643975</td>\n",
       "      <td>11.827356</td>\n",
       "    </tr>\n",
       "    <tr>\n",
       "      <th>1</th>\n",
       "      <td>1.781286</td>\n",
       "      <td>4.668694</td>\n",
       "      <td>6.148310</td>\n",
       "    </tr>\n",
       "    <tr>\n",
       "      <th>2</th>\n",
       "      <td>7.963115</td>\n",
       "      <td>-4.113238</td>\n",
       "      <td>1.359907</td>\n",
       "    </tr>\n",
       "    <tr>\n",
       "      <th>3</th>\n",
       "      <td>1.996764</td>\n",
       "      <td>-1.398214</td>\n",
       "      <td>1.163582</td>\n",
       "    </tr>\n",
       "    <tr>\n",
       "      <th>4</th>\n",
       "      <td>5.185841</td>\n",
       "      <td>-12.143391</td>\n",
       "      <td>4.687847</td>\n",
       "    </tr>\n",
       "  </tbody>\n",
       "</table>\n",
       "</div>"
      ],
      "text/plain": [
       "   accelerometer_X  accelerometer_Y  accelerometer_Z\n",
       "0         2.322376         3.643975        11.827356\n",
       "1         1.781286         4.668694         6.148310\n",
       "2         7.963115        -4.113238         1.359907\n",
       "3         1.996764        -1.398214         1.163582\n",
       "4         5.185841       -12.143391         4.687847"
      ]
     },
     "execution_count": 20,
     "metadata": {},
     "output_type": "execute_result"
    }
   ],
   "source": [
    "sample_file_path = os.path.join(sample_activity_dir, 'walking-1.csv')\n",
    "df = pd.read_csv(sample_file_path)\n",
    "\n",
    "# Подивимося на перші 5 рядків датасету\n",
    "df.head()"
   ]
  },
  {
   "cell_type": "markdown",
   "metadata": {},
   "source": [
    "Перш за все, потрібно об'єднати всі файли в єдиний датасет. Це включає завантаження даних з кожного файлу, додавання мітки класу (діяльності) до кожного рядка, та об'єднання цих даних в один DataFrame:"
   ]
  },
  {
   "cell_type": "markdown",
   "metadata": {},
   "source": [
    "Спочатку напишемо функцію, яка буде зчитувати дані з кожної підпапки:"
   ]
  },
  {
   "cell_type": "code",
   "execution_count": 21,
   "metadata": {},
   "outputs": [],
   "source": [
    "def load_data_from_directory(directory, label):\n",
    "    files = os.listdir(directory)\n",
    "    data_list = []\n",
    "    for file in files:\n",
    "        file_path = os.path.join(directory, file)\n",
    "        data = pd.read_csv(file_path)\n",
    "        data['Activity'] = label\n",
    "        data_list.append(data)\n",
    "    return pd.concat(data_list, ignore_index=True)"
   ]
  },
  {
   "cell_type": "markdown",
   "metadata": {},
   "source": [
    "Далі зчитуємо дані з кожної підпапки активності та записуємо їх в єдиний датафрейм:"
   ]
  },
  {
   "cell_type": "code",
   "execution_count": 22,
   "metadata": {},
   "outputs": [
    {
     "data": {
      "text/plain": [
       "((193860, 4),\n",
       "    accelerometer_X  accelerometer_Y  accelerometer_Z Activity\n",
       " 0         0.009577         5.937620         7.570466     idle\n",
       " 1         0.086191         6.555324         7.785944     idle\n",
       " 2         0.004788         6.440403         7.139510     idle\n",
       " 3         0.277727         6.430826         7.690176     idle\n",
       " 4        -0.047884         6.239290         7.340623     idle)"
      ]
     },
     "execution_count": 22,
     "metadata": {},
     "output_type": "execute_result"
    }
   ],
   "source": [
    "activities = ['idle', 'running', 'stairs', 'walking']\n",
    "data_frames = []\n",
    "for activity in activities:\n",
    "    directory_path = os.path.join('data', activity)\n",
    "    df = load_data_from_directory(directory_path, activity)\n",
    "    data_frames.append(df)\n",
    "\n",
    "complete_data = pd.concat(data_frames, ignore_index=True)\n",
    "\n",
    "complete_data.shape, complete_data.head()"
   ]
  },
  {
   "cell_type": "markdown",
   "metadata": {},
   "source": [
    "Тепер потрібно нормалізувати дані, щоб можна було потім з ними працювати. Для цьго використаємо класс StandardScaler:"
   ]
  },
  {
   "cell_type": "code",
   "execution_count": 24,
   "metadata": {},
   "outputs": [
    {
     "data": {
      "text/html": [
       "<div>\n",
       "<style scoped>\n",
       "    .dataframe tbody tr th:only-of-type {\n",
       "        vertical-align: middle;\n",
       "    }\n",
       "\n",
       "    .dataframe tbody tr th {\n",
       "        vertical-align: top;\n",
       "    }\n",
       "\n",
       "    .dataframe thead th {\n",
       "        text-align: right;\n",
       "    }\n",
       "</style>\n",
       "<table border=\"1\" class=\"dataframe\">\n",
       "  <thead>\n",
       "    <tr style=\"text-align: right;\">\n",
       "      <th></th>\n",
       "      <th>accelerometer_X</th>\n",
       "      <th>accelerometer_Y</th>\n",
       "      <th>accelerometer_Z</th>\n",
       "      <th>Activity</th>\n",
       "    </tr>\n",
       "  </thead>\n",
       "  <tbody>\n",
       "    <tr>\n",
       "      <th>0</th>\n",
       "      <td>-0.227723</td>\n",
       "      <td>0.347865</td>\n",
       "      <td>0.801712</td>\n",
       "      <td>idle</td>\n",
       "    </tr>\n",
       "    <tr>\n",
       "      <th>1</th>\n",
       "      <td>-0.218607</td>\n",
       "      <td>0.397385</td>\n",
       "      <td>0.831675</td>\n",
       "      <td>idle</td>\n",
       "    </tr>\n",
       "    <tr>\n",
       "      <th>2</th>\n",
       "      <td>-0.228292</td>\n",
       "      <td>0.388172</td>\n",
       "      <td>0.741787</td>\n",
       "      <td>idle</td>\n",
       "    </tr>\n",
       "    <tr>\n",
       "      <th>3</th>\n",
       "      <td>-0.195818</td>\n",
       "      <td>0.387404</td>\n",
       "      <td>0.818358</td>\n",
       "      <td>idle</td>\n",
       "    </tr>\n",
       "    <tr>\n",
       "      <th>4</th>\n",
       "      <td>-0.234559</td>\n",
       "      <td>0.372049</td>\n",
       "      <td>0.769752</td>\n",
       "      <td>idle</td>\n",
       "    </tr>\n",
       "    <tr>\n",
       "      <th>...</th>\n",
       "      <td>...</td>\n",
       "      <td>...</td>\n",
       "      <td>...</td>\n",
       "      <td>...</td>\n",
       "    </tr>\n",
       "    <tr>\n",
       "      <th>193855</th>\n",
       "      <td>-0.452192</td>\n",
       "      <td>-0.883975</td>\n",
       "      <td>-0.598540</td>\n",
       "      <td>walking</td>\n",
       "    </tr>\n",
       "    <tr>\n",
       "      <th>193856</th>\n",
       "      <td>-1.429830</td>\n",
       "      <td>-1.235984</td>\n",
       "      <td>-0.416767</td>\n",
       "      <td>walking</td>\n",
       "    </tr>\n",
       "    <tr>\n",
       "      <th>193857</th>\n",
       "      <td>-0.338248</td>\n",
       "      <td>-0.290895</td>\n",
       "      <td>2.896430</td>\n",
       "      <td>walking</td>\n",
       "    </tr>\n",
       "    <tr>\n",
       "      <th>193858</th>\n",
       "      <td>-0.204934</td>\n",
       "      <td>-1.132723</td>\n",
       "      <td>-0.197707</td>\n",
       "      <td>walking</td>\n",
       "    </tr>\n",
       "    <tr>\n",
       "      <th>193859</th>\n",
       "      <td>-1.916940</td>\n",
       "      <td>-1.723116</td>\n",
       "      <td>-1.811026</td>\n",
       "      <td>walking</td>\n",
       "    </tr>\n",
       "  </tbody>\n",
       "</table>\n",
       "<p>193860 rows × 4 columns</p>\n",
       "</div>"
      ],
      "text/plain": [
       "        accelerometer_X  accelerometer_Y  accelerometer_Z Activity\n",
       "0             -0.227723         0.347865         0.801712     idle\n",
       "1             -0.218607         0.397385         0.831675     idle\n",
       "2             -0.228292         0.388172         0.741787     idle\n",
       "3             -0.195818         0.387404         0.818358     idle\n",
       "4             -0.234559         0.372049         0.769752     idle\n",
       "...                 ...              ...              ...      ...\n",
       "193855        -0.452192        -0.883975        -0.598540  walking\n",
       "193856        -1.429830        -1.235984        -0.416767  walking\n",
       "193857        -0.338248        -0.290895         2.896430  walking\n",
       "193858        -0.204934        -1.132723        -0.197707  walking\n",
       "193859        -1.916940        -1.723116        -1.811026  walking\n",
       "\n",
       "[193860 rows x 4 columns]"
      ]
     },
     "execution_count": 24,
     "metadata": {},
     "output_type": "execute_result"
    }
   ],
   "source": [
    "scaler = StandardScaler()\n",
    "features = ['accelerometer_X', 'accelerometer_Y', 'accelerometer_Z']\n",
    "complete_data[features] = scaler.fit_transform(complete_data[features])\n",
    "\n",
    "complete_data"
   ]
  }
 ],
 "metadata": {
  "kernelspec": {
   "display_name": "Python 3",
   "language": "python",
   "name": "python3"
  },
  "language_info": {
   "codemirror_mode": {
    "name": "ipython",
    "version": 3
   },
   "file_extension": ".py",
   "mimetype": "text/x-python",
   "name": "python",
   "nbconvert_exporter": "python",
   "pygments_lexer": "ipython3",
   "version": "3.11.7"
  },
  "orig_nbformat": 4
 },
 "nbformat": 4,
 "nbformat_minor": 2
}
