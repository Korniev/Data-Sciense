{
 "cells": [
  {
   "cell_type": "markdown",
   "metadata": {},
   "source": [
    "                                                Домашнє завдання N 5"
   ]
  },
  {
   "cell_type": "markdown",
   "metadata": {},
   "source": [
    "За даними акселерометра з мобільного телефону потрібно класифікувати, якою діяльністю займається людина: йде, стоїть, біжить чи йде по сходах.\n",
    "\n",
    "Використайте алгоритми SVM та випадковий ліс з бібліотеки scikit-learn. Як характеристики можете брати показники з акселерометра, проте щоб покращити результати роботи алгоритмів, спочатку можна підготувати наш датасет і розрахувати часові ознаки (time domain features)."
   ]
  },
  {
   "cell_type": "markdown",
   "metadata": {},
   "source": [
    "Почнемо з імпорту потрібних бібліотек:"
   ]
  },
  {
   "cell_type": "code",
   "execution_count": 8,
   "metadata": {},
   "outputs": [],
   "source": [
    "import pandas as pd\n",
    "import numpy as np\n",
    "from matplotlib import pyplot as plt\n",
    "import seaborn as sns\n",
    "import os"
   ]
  },
  {
   "cell_type": "markdown",
   "metadata": {},
   "source": [
    "Давайте зараз подивимось які саме підпапки з даними в нас зберігаються у датасеті data:"
   ]
  },
  {
   "cell_type": "code",
   "execution_count": 9,
   "metadata": {},
   "outputs": [
    {
     "data": {
      "text/plain": [
       "['running', 'idle', 'walking', 'stairs']"
      ]
     },
     "execution_count": 9,
     "metadata": {},
     "output_type": "execute_result"
    }
   ],
   "source": [
    "data_dir_path = os.path.join('data')\n",
    "data_files = os.listdir(data_dir_path)\n",
    "\n",
    "data_files"
   ]
  },
  {
   "cell_type": "markdown",
   "metadata": {},
   "source": [
    "Як бачимо, у піддиректорії \"walking\" знаходяться файли з даними, названі за шаблоном \"walking-<номер>\".csv. Це означає, що дані з акселерометра для кожної діяльності зберігаються у форматі CSV файлів, причому кожен файл відповідає окремій сесії або запису цієї діяльності:"
   ]
  },
  {
   "cell_type": "code",
   "execution_count": 10,
   "metadata": {},
   "outputs": [
    {
     "data": {
      "text/plain": [
       "['walking-576.csv',\n",
       " 'walking-210.csv',\n",
       " 'walking-204.csv',\n",
       " 'walking-1429.csv',\n",
       " 'walking-562.csv']"
      ]
     },
     "execution_count": 10,
     "metadata": {},
     "output_type": "execute_result"
    }
   ],
   "source": [
    "sample_activity_dir = os.path.join(data_dir_path, 'walking')\n",
    "sample_files = os.listdir(sample_activity_dir)\n",
    "\n",
    "sample_files[:5]"
   ]
  },
  {
   "cell_type": "markdown",
   "metadata": {},
   "source": [
    "Прочитаємо один з csv-файлів, щоб зрозуміти, які саме дані нам надані:"
   ]
  },
  {
   "cell_type": "code",
   "execution_count": 13,
   "metadata": {},
   "outputs": [
    {
     "data": {
      "text/html": [
       "<div>\n",
       "<style scoped>\n",
       "    .dataframe tbody tr th:only-of-type {\n",
       "        vertical-align: middle;\n",
       "    }\n",
       "\n",
       "    .dataframe tbody tr th {\n",
       "        vertical-align: top;\n",
       "    }\n",
       "\n",
       "    .dataframe thead th {\n",
       "        text-align: right;\n",
       "    }\n",
       "</style>\n",
       "<table border=\"1\" class=\"dataframe\">\n",
       "  <thead>\n",
       "    <tr style=\"text-align: right;\">\n",
       "      <th></th>\n",
       "      <th>accelerometer_X</th>\n",
       "      <th>accelerometer_Y</th>\n",
       "      <th>accelerometer_Z</th>\n",
       "    </tr>\n",
       "  </thead>\n",
       "  <tbody>\n",
       "    <tr>\n",
       "      <th>0</th>\n",
       "      <td>2.322376</td>\n",
       "      <td>3.643975</td>\n",
       "      <td>11.827356</td>\n",
       "    </tr>\n",
       "    <tr>\n",
       "      <th>1</th>\n",
       "      <td>1.781286</td>\n",
       "      <td>4.668694</td>\n",
       "      <td>6.148310</td>\n",
       "    </tr>\n",
       "    <tr>\n",
       "      <th>2</th>\n",
       "      <td>7.963115</td>\n",
       "      <td>-4.113238</td>\n",
       "      <td>1.359907</td>\n",
       "    </tr>\n",
       "    <tr>\n",
       "      <th>3</th>\n",
       "      <td>1.996764</td>\n",
       "      <td>-1.398214</td>\n",
       "      <td>1.163582</td>\n",
       "    </tr>\n",
       "    <tr>\n",
       "      <th>4</th>\n",
       "      <td>5.185841</td>\n",
       "      <td>-12.143391</td>\n",
       "      <td>4.687847</td>\n",
       "    </tr>\n",
       "  </tbody>\n",
       "</table>\n",
       "</div>"
      ],
      "text/plain": [
       "   accelerometer_X  accelerometer_Y  accelerometer_Z\n",
       "0         2.322376         3.643975        11.827356\n",
       "1         1.781286         4.668694         6.148310\n",
       "2         7.963115        -4.113238         1.359907\n",
       "3         1.996764        -1.398214         1.163582\n",
       "4         5.185841       -12.143391         4.687847"
      ]
     },
     "execution_count": 13,
     "metadata": {},
     "output_type": "execute_result"
    }
   ],
   "source": [
    "sample_file_path = os.path.join(sample_activity_dir, 'walking-1.csv')\n",
    "df = pd.read_csv(sample_file_path)\n",
    "\n",
    "# Подивимося на перші 5 рядків датасету\n",
    "df.head()"
   ]
  }
 ],
 "metadata": {
  "kernelspec": {
   "display_name": "Python 3",
   "language": "python",
   "name": "python3"
  },
  "language_info": {
   "codemirror_mode": {
    "name": "ipython",
    "version": 3
   },
   "file_extension": ".py",
   "mimetype": "text/x-python",
   "name": "python",
   "nbconvert_exporter": "python",
   "pygments_lexer": "ipython3",
   "version": "3.11.7"
  },
  "orig_nbformat": 4
 },
 "nbformat": 4,
 "nbformat_minor": 2
}
