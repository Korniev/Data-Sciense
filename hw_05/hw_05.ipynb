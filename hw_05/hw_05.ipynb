{
 "cells": [
  {
   "cell_type": "markdown",
   "metadata": {},
   "source": [
    "                                                Домашнє завдання N 5"
   ]
  },
  {
   "cell_type": "markdown",
   "metadata": {},
   "source": [
    "За даними акселерометра з мобільного телефону потрібно класифікувати, якою діяльністю займається людина: йде, стоїть, біжить чи йде по сходах.\n",
    "\n",
    "Використайте алгоритми SVM та випадковий ліс з бібліотеки scikit-learn. Як характеристики можете брати показники з акселерометра, проте щоб покращити результати роботи алгоритмів, спочатку можна підготувати наш датасет і розрахувати часові ознаки (time domain features)."
   ]
  },
  {
   "cell_type": "markdown",
   "metadata": {},
   "source": [
    "Почнемо з імпорту потрібних бібліотек:"
   ]
  },
  {
   "cell_type": "code",
   "execution_count": 48,
   "metadata": {},
   "outputs": [],
   "source": [
    "import pandas as pd\n",
    "import numpy as np\n",
    "from matplotlib import pyplot as plt\n",
    "import seaborn as sns\n",
    "import os\n",
    "\n",
    "from sklearn.model_selection import train_test_split\n",
    "from sklearn.preprocessing import StandardScaler\n",
    "from sklearn.svm import SVC\n",
    "from sklearn.ensemble import RandomForestClassifier\n",
    "from sklearn.metrics import classification_report, accuracy_score, ConfusionMatrixDisplay"
   ]
  },
  {
   "cell_type": "markdown",
   "metadata": {},
   "source": [
    "Давайте зараз подивимось які саме підпапки з даними в нас зберігаються у датасеті data:"
   ]
  },
  {
   "cell_type": "code",
   "execution_count": 18,
   "metadata": {},
   "outputs": [
    {
     "data": {
      "text/plain": [
       "['running', 'idle', '.DS_Store', 'walking', 'stairs']"
      ]
     },
     "execution_count": 18,
     "metadata": {},
     "output_type": "execute_result"
    }
   ],
   "source": [
    "data_dir_path = os.path.join('data')\n",
    "data_files = os.listdir(data_dir_path)\n",
    "\n",
    "data_files"
   ]
  },
  {
   "cell_type": "markdown",
   "metadata": {},
   "source": [
    "Як бачимо, у піддиректорії \"walking\" знаходяться файли з даними, названі за шаблоном \"walking-<номер>\".csv. Це означає, що дані з акселерометра для кожної діяльності зберігаються у форматі CSV файлів, причому кожен файл відповідає окремій сесії або запису цієї діяльності:"
   ]
  },
  {
   "cell_type": "code",
   "execution_count": 19,
   "metadata": {},
   "outputs": [
    {
     "data": {
      "text/plain": [
       "['walking-576.csv',\n",
       " 'walking-210.csv',\n",
       " 'walking-204.csv',\n",
       " 'walking-1429.csv',\n",
       " 'walking-562.csv']"
      ]
     },
     "execution_count": 19,
     "metadata": {},
     "output_type": "execute_result"
    }
   ],
   "source": [
    "sample_activity_dir = os.path.join(data_dir_path, 'walking')\n",
    "sample_files = os.listdir(sample_activity_dir)\n",
    "\n",
    "sample_files[:5]"
   ]
  },
  {
   "cell_type": "markdown",
   "metadata": {},
   "source": [
    "Прочитаємо один з csv-файлів, щоб зрозуміти, які саме дані нам надані:"
   ]
  },
  {
   "cell_type": "code",
   "execution_count": 20,
   "metadata": {},
   "outputs": [
    {
     "data": {
      "text/html": [
       "<div>\n",
       "<style scoped>\n",
       "    .dataframe tbody tr th:only-of-type {\n",
       "        vertical-align: middle;\n",
       "    }\n",
       "\n",
       "    .dataframe tbody tr th {\n",
       "        vertical-align: top;\n",
       "    }\n",
       "\n",
       "    .dataframe thead th {\n",
       "        text-align: right;\n",
       "    }\n",
       "</style>\n",
       "<table border=\"1\" class=\"dataframe\">\n",
       "  <thead>\n",
       "    <tr style=\"text-align: right;\">\n",
       "      <th></th>\n",
       "      <th>accelerometer_X</th>\n",
       "      <th>accelerometer_Y</th>\n",
       "      <th>accelerometer_Z</th>\n",
       "    </tr>\n",
       "  </thead>\n",
       "  <tbody>\n",
       "    <tr>\n",
       "      <th>0</th>\n",
       "      <td>2.322376</td>\n",
       "      <td>3.643975</td>\n",
       "      <td>11.827356</td>\n",
       "    </tr>\n",
       "    <tr>\n",
       "      <th>1</th>\n",
       "      <td>1.781286</td>\n",
       "      <td>4.668694</td>\n",
       "      <td>6.148310</td>\n",
       "    </tr>\n",
       "    <tr>\n",
       "      <th>2</th>\n",
       "      <td>7.963115</td>\n",
       "      <td>-4.113238</td>\n",
       "      <td>1.359907</td>\n",
       "    </tr>\n",
       "    <tr>\n",
       "      <th>3</th>\n",
       "      <td>1.996764</td>\n",
       "      <td>-1.398214</td>\n",
       "      <td>1.163582</td>\n",
       "    </tr>\n",
       "    <tr>\n",
       "      <th>4</th>\n",
       "      <td>5.185841</td>\n",
       "      <td>-12.143391</td>\n",
       "      <td>4.687847</td>\n",
       "    </tr>\n",
       "  </tbody>\n",
       "</table>\n",
       "</div>"
      ],
      "text/plain": [
       "   accelerometer_X  accelerometer_Y  accelerometer_Z\n",
       "0         2.322376         3.643975        11.827356\n",
       "1         1.781286         4.668694         6.148310\n",
       "2         7.963115        -4.113238         1.359907\n",
       "3         1.996764        -1.398214         1.163582\n",
       "4         5.185841       -12.143391         4.687847"
      ]
     },
     "execution_count": 20,
     "metadata": {},
     "output_type": "execute_result"
    }
   ],
   "source": [
    "sample_file_path = os.path.join(sample_activity_dir, 'walking-1.csv')\n",
    "df = pd.read_csv(sample_file_path)\n",
    "\n",
    "# Подивимося на перші 5 рядків датасету\n",
    "df.head()"
   ]
  },
  {
   "cell_type": "markdown",
   "metadata": {},
   "source": [
    "Перш за все, потрібно об'єднати всі файли в єдиний датасет. Це включає завантаження даних з кожного файлу, додавання мітки класу (діяльності) до кожного рядка, та об'єднання цих даних в один DataFrame:"
   ]
  },
  {
   "cell_type": "markdown",
   "metadata": {},
   "source": [
    "Спочатку напишемо функцію, яка буде зчитувати дані з кожної підпапки:"
   ]
  },
  {
   "cell_type": "code",
   "execution_count": 21,
   "metadata": {},
   "outputs": [],
   "source": [
    "def load_data_from_directory(directory, label):\n",
    "    files = os.listdir(directory)\n",
    "    data_list = []\n",
    "    for file in files:\n",
    "        file_path = os.path.join(directory, file)\n",
    "        data = pd.read_csv(file_path)\n",
    "        data['Activity'] = label\n",
    "        data_list.append(data)\n",
    "    return pd.concat(data_list, ignore_index=True)"
   ]
  },
  {
   "cell_type": "markdown",
   "metadata": {},
   "source": [
    "Далі зчитуємо дані з кожної підпапки активності та записуємо їх в єдиний датафрейм:"
   ]
  },
  {
   "cell_type": "code",
   "execution_count": 22,
   "metadata": {},
   "outputs": [
    {
     "data": {
      "text/plain": [
       "((193860, 4),\n",
       "    accelerometer_X  accelerometer_Y  accelerometer_Z Activity\n",
       " 0         0.009577         5.937620         7.570466     idle\n",
       " 1         0.086191         6.555324         7.785944     idle\n",
       " 2         0.004788         6.440403         7.139510     idle\n",
       " 3         0.277727         6.430826         7.690176     idle\n",
       " 4        -0.047884         6.239290         7.340623     idle)"
      ]
     },
     "execution_count": 22,
     "metadata": {},
     "output_type": "execute_result"
    }
   ],
   "source": [
    "activities = ['idle', 'running', 'stairs', 'walking']\n",
    "data_frames = []\n",
    "for activity in activities:\n",
    "    directory_path = os.path.join('data', activity)\n",
    "    df = load_data_from_directory(directory_path, activity)\n",
    "    data_frames.append(df)\n",
    "\n",
    "complete_data = pd.concat(data_frames, ignore_index=True)\n",
    "\n",
    "complete_data.shape, complete_data.head()"
   ]
  },
  {
   "cell_type": "markdown",
   "metadata": {},
   "source": [
    "Тепер потрібно нормалізувати дані, щоб можна було потім з ними працювати. Для цьго використаємо класс StandardScaler:"
   ]
  },
  {
   "cell_type": "code",
   "execution_count": 24,
   "metadata": {},
   "outputs": [
    {
     "data": {
      "text/html": [
       "<div>\n",
       "<style scoped>\n",
       "    .dataframe tbody tr th:only-of-type {\n",
       "        vertical-align: middle;\n",
       "    }\n",
       "\n",
       "    .dataframe tbody tr th {\n",
       "        vertical-align: top;\n",
       "    }\n",
       "\n",
       "    .dataframe thead th {\n",
       "        text-align: right;\n",
       "    }\n",
       "</style>\n",
       "<table border=\"1\" class=\"dataframe\">\n",
       "  <thead>\n",
       "    <tr style=\"text-align: right;\">\n",
       "      <th></th>\n",
       "      <th>accelerometer_X</th>\n",
       "      <th>accelerometer_Y</th>\n",
       "      <th>accelerometer_Z</th>\n",
       "      <th>Activity</th>\n",
       "    </tr>\n",
       "  </thead>\n",
       "  <tbody>\n",
       "    <tr>\n",
       "      <th>0</th>\n",
       "      <td>-0.227723</td>\n",
       "      <td>0.347865</td>\n",
       "      <td>0.801712</td>\n",
       "      <td>idle</td>\n",
       "    </tr>\n",
       "    <tr>\n",
       "      <th>1</th>\n",
       "      <td>-0.218607</td>\n",
       "      <td>0.397385</td>\n",
       "      <td>0.831675</td>\n",
       "      <td>idle</td>\n",
       "    </tr>\n",
       "    <tr>\n",
       "      <th>2</th>\n",
       "      <td>-0.228292</td>\n",
       "      <td>0.388172</td>\n",
       "      <td>0.741787</td>\n",
       "      <td>idle</td>\n",
       "    </tr>\n",
       "    <tr>\n",
       "      <th>3</th>\n",
       "      <td>-0.195818</td>\n",
       "      <td>0.387404</td>\n",
       "      <td>0.818358</td>\n",
       "      <td>idle</td>\n",
       "    </tr>\n",
       "    <tr>\n",
       "      <th>4</th>\n",
       "      <td>-0.234559</td>\n",
       "      <td>0.372049</td>\n",
       "      <td>0.769752</td>\n",
       "      <td>idle</td>\n",
       "    </tr>\n",
       "    <tr>\n",
       "      <th>...</th>\n",
       "      <td>...</td>\n",
       "      <td>...</td>\n",
       "      <td>...</td>\n",
       "      <td>...</td>\n",
       "    </tr>\n",
       "    <tr>\n",
       "      <th>193855</th>\n",
       "      <td>-0.452192</td>\n",
       "      <td>-0.883975</td>\n",
       "      <td>-0.598540</td>\n",
       "      <td>walking</td>\n",
       "    </tr>\n",
       "    <tr>\n",
       "      <th>193856</th>\n",
       "      <td>-1.429830</td>\n",
       "      <td>-1.235984</td>\n",
       "      <td>-0.416767</td>\n",
       "      <td>walking</td>\n",
       "    </tr>\n",
       "    <tr>\n",
       "      <th>193857</th>\n",
       "      <td>-0.338248</td>\n",
       "      <td>-0.290895</td>\n",
       "      <td>2.896430</td>\n",
       "      <td>walking</td>\n",
       "    </tr>\n",
       "    <tr>\n",
       "      <th>193858</th>\n",
       "      <td>-0.204934</td>\n",
       "      <td>-1.132723</td>\n",
       "      <td>-0.197707</td>\n",
       "      <td>walking</td>\n",
       "    </tr>\n",
       "    <tr>\n",
       "      <th>193859</th>\n",
       "      <td>-1.916940</td>\n",
       "      <td>-1.723116</td>\n",
       "      <td>-1.811026</td>\n",
       "      <td>walking</td>\n",
       "    </tr>\n",
       "  </tbody>\n",
       "</table>\n",
       "<p>193860 rows × 4 columns</p>\n",
       "</div>"
      ],
      "text/plain": [
       "        accelerometer_X  accelerometer_Y  accelerometer_Z Activity\n",
       "0             -0.227723         0.347865         0.801712     idle\n",
       "1             -0.218607         0.397385         0.831675     idle\n",
       "2             -0.228292         0.388172         0.741787     idle\n",
       "3             -0.195818         0.387404         0.818358     idle\n",
       "4             -0.234559         0.372049         0.769752     idle\n",
       "...                 ...              ...              ...      ...\n",
       "193855        -0.452192        -0.883975        -0.598540  walking\n",
       "193856        -1.429830        -1.235984        -0.416767  walking\n",
       "193857        -0.338248        -0.290895         2.896430  walking\n",
       "193858        -0.204934        -1.132723        -0.197707  walking\n",
       "193859        -1.916940        -1.723116        -1.811026  walking\n",
       "\n",
       "[193860 rows x 4 columns]"
      ]
     },
     "execution_count": 24,
     "metadata": {},
     "output_type": "execute_result"
    }
   ],
   "source": [
    "scaler = StandardScaler()\n",
    "features = ['accelerometer_X', 'accelerometer_Y', 'accelerometer_Z']\n",
    "complete_data[features] = scaler.fit_transform(complete_data[features])\n",
    "\n",
    "complete_data"
   ]
  },
  {
   "cell_type": "markdown",
   "metadata": {},
   "source": [
    "Далі нам потрібно розрахувати часові ознаки (time domain features). \n",
    "\n",
    "Для цього ми розділимо наш датасет на сегменти по 208 записів з перекриттям у 50% та розрахуємо часові ознаки для кожного сегмента.\n",
    "\n",
    "Розрахуємо такі показники:\n",
    "\n",
    "Середнє значення (mean), \n",
    "Стандартне відхилення (std), \n",
    "Медіана (median), \n",
    "Максимальне значення (max), \n",
    "Мінімальне значення (min), \n",
    "Діапазон (range), \n",
    "Квартилі (25% та 75%)"
   ]
  },
  {
   "cell_type": "code",
   "execution_count": 28,
   "metadata": {},
   "outputs": [
    {
     "data": {
      "text/html": [
       "<div>\n",
       "<style scoped>\n",
       "    .dataframe tbody tr th:only-of-type {\n",
       "        vertical-align: middle;\n",
       "    }\n",
       "\n",
       "    .dataframe tbody tr th {\n",
       "        vertical-align: top;\n",
       "    }\n",
       "\n",
       "    .dataframe thead th {\n",
       "        text-align: right;\n",
       "    }\n",
       "</style>\n",
       "<table border=\"1\" class=\"dataframe\">\n",
       "  <thead>\n",
       "    <tr style=\"text-align: right;\">\n",
       "      <th></th>\n",
       "      <th>mean_X</th>\n",
       "      <th>std_X</th>\n",
       "      <th>median_X</th>\n",
       "      <th>max_X</th>\n",
       "      <th>min_X</th>\n",
       "      <th>range_X</th>\n",
       "      <th>25%_X</th>\n",
       "      <th>75%_X</th>\n",
       "      <th>mean_Y</th>\n",
       "      <th>std_Y</th>\n",
       "      <th>...</th>\n",
       "      <th>75%_Y</th>\n",
       "      <th>mean_Z</th>\n",
       "      <th>std_Z</th>\n",
       "      <th>median_Z</th>\n",
       "      <th>max_Z</th>\n",
       "      <th>min_Z</th>\n",
       "      <th>range_Z</th>\n",
       "      <th>25%_Z</th>\n",
       "      <th>75%_Z</th>\n",
       "      <th>Activity</th>\n",
       "    </tr>\n",
       "  </thead>\n",
       "  <tbody>\n",
       "    <tr>\n",
       "      <th>0</th>\n",
       "      <td>-0.212513</td>\n",
       "      <td>0.032946</td>\n",
       "      <td>-0.200946</td>\n",
       "      <td>-0.108651</td>\n",
       "      <td>-0.334260</td>\n",
       "      <td>0.225609</td>\n",
       "      <td>-0.230714</td>\n",
       "      <td>-0.196388</td>\n",
       "      <td>0.085123</td>\n",
       "      <td>0.256828</td>\n",
       "      <td>...</td>\n",
       "      <td>0.376176</td>\n",
       "      <td>0.962012</td>\n",
       "      <td>0.174827</td>\n",
       "      <td>1.104001</td>\n",
       "      <td>1.113989</td>\n",
       "      <td>0.589311</td>\n",
       "      <td>0.524678</td>\n",
       "      <td>0.785066</td>\n",
       "      <td>1.107331</td>\n",
       "      <td>idle</td>\n",
       "    </tr>\n",
       "    <tr>\n",
       "      <th>1</th>\n",
       "      <td>-0.213625</td>\n",
       "      <td>0.036182</td>\n",
       "      <td>-0.201516</td>\n",
       "      <td>-0.108651</td>\n",
       "      <td>-0.398638</td>\n",
       "      <td>0.289987</td>\n",
       "      <td>-0.227295</td>\n",
       "      <td>-0.197527</td>\n",
       "      <td>0.017541</td>\n",
       "      <td>0.209479</td>\n",
       "      <td>...</td>\n",
       "      <td>0.245756</td>\n",
       "      <td>1.024040</td>\n",
       "      <td>0.126321</td>\n",
       "      <td>1.104667</td>\n",
       "      <td>1.113989</td>\n",
       "      <td>0.589311</td>\n",
       "      <td>0.524678</td>\n",
       "      <td>0.940872</td>\n",
       "      <td>1.107331</td>\n",
       "      <td>idle</td>\n",
       "    </tr>\n",
       "    <tr>\n",
       "      <th>2</th>\n",
       "      <td>-0.216224</td>\n",
       "      <td>0.096938</td>\n",
       "      <td>-0.205503</td>\n",
       "      <td>0.679840</td>\n",
       "      <td>-0.684068</td>\n",
       "      <td>1.363908</td>\n",
       "      <td>-0.250511</td>\n",
       "      <td>-0.197955</td>\n",
       "      <td>0.164523</td>\n",
       "      <td>0.203131</td>\n",
       "      <td>...</td>\n",
       "      <td>0.316484</td>\n",
       "      <td>0.941659</td>\n",
       "      <td>0.159143</td>\n",
       "      <td>0.931550</td>\n",
       "      <td>1.159266</td>\n",
       "      <td>-0.292256</td>\n",
       "      <td>1.451521</td>\n",
       "      <td>0.853314</td>\n",
       "      <td>1.103003</td>\n",
       "      <td>idle</td>\n",
       "    </tr>\n",
       "    <tr>\n",
       "      <th>3</th>\n",
       "      <td>-0.218106</td>\n",
       "      <td>0.105243</td>\n",
       "      <td>-0.204079</td>\n",
       "      <td>0.679840</td>\n",
       "      <td>-0.684068</td>\n",
       "      <td>1.363908</td>\n",
       "      <td>-0.266321</td>\n",
       "      <td>-0.194536</td>\n",
       "      <td>0.210584</td>\n",
       "      <td>0.202597</td>\n",
       "      <td>...</td>\n",
       "      <td>0.344891</td>\n",
       "      <td>0.901146</td>\n",
       "      <td>0.167426</td>\n",
       "      <td>0.893597</td>\n",
       "      <td>1.211201</td>\n",
       "      <td>-0.292256</td>\n",
       "      <td>1.503456</td>\n",
       "      <td>0.792723</td>\n",
       "      <td>1.049070</td>\n",
       "      <td>idle</td>\n",
       "    </tr>\n",
       "    <tr>\n",
       "      <th>4</th>\n",
       "      <td>-0.217659</td>\n",
       "      <td>0.059832</td>\n",
       "      <td>-0.199806</td>\n",
       "      <td>0.049731</td>\n",
       "      <td>-0.449913</td>\n",
       "      <td>0.499644</td>\n",
       "      <td>-0.235841</td>\n",
       "      <td>-0.196815</td>\n",
       "      <td>0.062364</td>\n",
       "      <td>0.246669</td>\n",
       "      <td>...</td>\n",
       "      <td>0.328192</td>\n",
       "      <td>0.979429</td>\n",
       "      <td>0.173129</td>\n",
       "      <td>1.104667</td>\n",
       "      <td>1.211201</td>\n",
       "      <td>0.552690</td>\n",
       "      <td>0.658511</td>\n",
       "      <td>0.832507</td>\n",
       "      <td>1.107996</td>\n",
       "      <td>idle</td>\n",
       "    </tr>\n",
       "    <tr>\n",
       "      <th>...</th>\n",
       "      <td>...</td>\n",
       "      <td>...</td>\n",
       "      <td>...</td>\n",
       "      <td>...</td>\n",
       "      <td>...</td>\n",
       "      <td>...</td>\n",
       "      <td>...</td>\n",
       "      <td>...</td>\n",
       "      <td>...</td>\n",
       "      <td>...</td>\n",
       "      <td>...</td>\n",
       "      <td>...</td>\n",
       "      <td>...</td>\n",
       "      <td>...</td>\n",
       "      <td>...</td>\n",
       "      <td>...</td>\n",
       "      <td>...</td>\n",
       "      <td>...</td>\n",
       "      <td>...</td>\n",
       "      <td>...</td>\n",
       "      <td>...</td>\n",
       "    </tr>\n",
       "    <tr>\n",
       "      <th>1858</th>\n",
       "      <td>-0.506036</td>\n",
       "      <td>0.567687</td>\n",
       "      <td>-0.490363</td>\n",
       "      <td>1.541256</td>\n",
       "      <td>-2.604022</td>\n",
       "      <td>4.145278</td>\n",
       "      <td>-0.749443</td>\n",
       "      <td>-0.216186</td>\n",
       "      <td>-0.967910</td>\n",
       "      <td>0.497356</td>\n",
       "      <td>...</td>\n",
       "      <td>-0.682059</td>\n",
       "      <td>-0.398434</td>\n",
       "      <td>0.881130</td>\n",
       "      <td>-0.344524</td>\n",
       "      <td>3.324563</td>\n",
       "      <td>-3.752602</td>\n",
       "      <td>7.077165</td>\n",
       "      <td>-0.691757</td>\n",
       "      <td>0.022019</td>\n",
       "      <td>walking</td>\n",
       "    </tr>\n",
       "    <tr>\n",
       "      <th>1859</th>\n",
       "      <td>-0.607060</td>\n",
       "      <td>0.559584</td>\n",
       "      <td>-0.531953</td>\n",
       "      <td>1.541256</td>\n",
       "      <td>-2.441652</td>\n",
       "      <td>3.982908</td>\n",
       "      <td>-0.840598</td>\n",
       "      <td>-0.327993</td>\n",
       "      <td>-0.942709</td>\n",
       "      <td>0.469070</td>\n",
       "      <td>...</td>\n",
       "      <td>-0.690120</td>\n",
       "      <td>-0.384573</td>\n",
       "      <td>1.014656</td>\n",
       "      <td>-0.314894</td>\n",
       "      <td>4.513079</td>\n",
       "      <td>-3.752602</td>\n",
       "      <td>8.265681</td>\n",
       "      <td>-0.684599</td>\n",
       "      <td>0.018024</td>\n",
       "      <td>walking</td>\n",
       "    </tr>\n",
       "    <tr>\n",
       "      <th>1860</th>\n",
       "      <td>-0.681803</td>\n",
       "      <td>0.533568</td>\n",
       "      <td>-0.544487</td>\n",
       "      <td>0.217228</td>\n",
       "      <td>-3.282558</td>\n",
       "      <td>3.499786</td>\n",
       "      <td>-0.901701</td>\n",
       "      <td>-0.358473</td>\n",
       "      <td>-0.862585</td>\n",
       "      <td>0.430156</td>\n",
       "      <td>...</td>\n",
       "      <td>-0.611523</td>\n",
       "      <td>-0.383968</td>\n",
       "      <td>0.928449</td>\n",
       "      <td>-0.324881</td>\n",
       "      <td>4.513079</td>\n",
       "      <td>-3.843822</td>\n",
       "      <td>8.356900</td>\n",
       "      <td>-0.617017</td>\n",
       "      <td>-0.055052</td>\n",
       "      <td>walking</td>\n",
       "    </tr>\n",
       "    <tr>\n",
       "      <th>1861</th>\n",
       "      <td>-0.744735</td>\n",
       "      <td>0.575763</td>\n",
       "      <td>-0.594052</td>\n",
       "      <td>0.201276</td>\n",
       "      <td>-3.282558</td>\n",
       "      <td>3.483834</td>\n",
       "      <td>-0.971349</td>\n",
       "      <td>-0.431540</td>\n",
       "      <td>-0.906750</td>\n",
       "      <td>0.415963</td>\n",
       "      <td>...</td>\n",
       "      <td>-0.666128</td>\n",
       "      <td>-0.430929</td>\n",
       "      <td>0.957865</td>\n",
       "      <td>-0.372822</td>\n",
       "      <td>4.913246</td>\n",
       "      <td>-3.843822</td>\n",
       "      <td>8.757068</td>\n",
       "      <td>-0.622510</td>\n",
       "      <td>-0.085347</td>\n",
       "      <td>walking</td>\n",
       "    </tr>\n",
       "    <tr>\n",
       "      <th>1862</th>\n",
       "      <td>-0.744348</td>\n",
       "      <td>0.557724</td>\n",
       "      <td>-0.628520</td>\n",
       "      <td>0.572733</td>\n",
       "      <td>-3.282558</td>\n",
       "      <td>3.855291</td>\n",
       "      <td>-1.001971</td>\n",
       "      <td>-0.431540</td>\n",
       "      <td>-0.939104</td>\n",
       "      <td>0.379989</td>\n",
       "      <td>...</td>\n",
       "      <td>-0.720446</td>\n",
       "      <td>-0.402294</td>\n",
       "      <td>1.014550</td>\n",
       "      <td>-0.367828</td>\n",
       "      <td>4.913246</td>\n",
       "      <td>-3.843822</td>\n",
       "      <td>8.757068</td>\n",
       "      <td>-0.623176</td>\n",
       "      <td>-0.099163</td>\n",
       "      <td>walking</td>\n",
       "    </tr>\n",
       "  </tbody>\n",
       "</table>\n",
       "<p>1863 rows × 25 columns</p>\n",
       "</div>"
      ],
      "text/plain": [
       "        mean_X     std_X  median_X     max_X     min_X   range_X     25%_X  \\\n",
       "0    -0.212513  0.032946 -0.200946 -0.108651 -0.334260  0.225609 -0.230714   \n",
       "1    -0.213625  0.036182 -0.201516 -0.108651 -0.398638  0.289987 -0.227295   \n",
       "2    -0.216224  0.096938 -0.205503  0.679840 -0.684068  1.363908 -0.250511   \n",
       "3    -0.218106  0.105243 -0.204079  0.679840 -0.684068  1.363908 -0.266321   \n",
       "4    -0.217659  0.059832 -0.199806  0.049731 -0.449913  0.499644 -0.235841   \n",
       "...        ...       ...       ...       ...       ...       ...       ...   \n",
       "1858 -0.506036  0.567687 -0.490363  1.541256 -2.604022  4.145278 -0.749443   \n",
       "1859 -0.607060  0.559584 -0.531953  1.541256 -2.441652  3.982908 -0.840598   \n",
       "1860 -0.681803  0.533568 -0.544487  0.217228 -3.282558  3.499786 -0.901701   \n",
       "1861 -0.744735  0.575763 -0.594052  0.201276 -3.282558  3.483834 -0.971349   \n",
       "1862 -0.744348  0.557724 -0.628520  0.572733 -3.282558  3.855291 -1.001971   \n",
       "\n",
       "         75%_X    mean_Y     std_Y  ...     75%_Y    mean_Z     std_Z  \\\n",
       "0    -0.196388  0.085123  0.256828  ...  0.376176  0.962012  0.174827   \n",
       "1    -0.197527  0.017541  0.209479  ...  0.245756  1.024040  0.126321   \n",
       "2    -0.197955  0.164523  0.203131  ...  0.316484  0.941659  0.159143   \n",
       "3    -0.194536  0.210584  0.202597  ...  0.344891  0.901146  0.167426   \n",
       "4    -0.196815  0.062364  0.246669  ...  0.328192  0.979429  0.173129   \n",
       "...        ...       ...       ...  ...       ...       ...       ...   \n",
       "1858 -0.216186 -0.967910  0.497356  ... -0.682059 -0.398434  0.881130   \n",
       "1859 -0.327993 -0.942709  0.469070  ... -0.690120 -0.384573  1.014656   \n",
       "1860 -0.358473 -0.862585  0.430156  ... -0.611523 -0.383968  0.928449   \n",
       "1861 -0.431540 -0.906750  0.415963  ... -0.666128 -0.430929  0.957865   \n",
       "1862 -0.431540 -0.939104  0.379989  ... -0.720446 -0.402294  1.014550   \n",
       "\n",
       "      median_Z     max_Z     min_Z   range_Z     25%_Z     75%_Z  Activity  \n",
       "0     1.104001  1.113989  0.589311  0.524678  0.785066  1.107331      idle  \n",
       "1     1.104667  1.113989  0.589311  0.524678  0.940872  1.107331      idle  \n",
       "2     0.931550  1.159266 -0.292256  1.451521  0.853314  1.103003      idle  \n",
       "3     0.893597  1.211201 -0.292256  1.503456  0.792723  1.049070      idle  \n",
       "4     1.104667  1.211201  0.552690  0.658511  0.832507  1.107996      idle  \n",
       "...        ...       ...       ...       ...       ...       ...       ...  \n",
       "1858 -0.344524  3.324563 -3.752602  7.077165 -0.691757  0.022019   walking  \n",
       "1859 -0.314894  4.513079 -3.752602  8.265681 -0.684599  0.018024   walking  \n",
       "1860 -0.324881  4.513079 -3.843822  8.356900 -0.617017 -0.055052   walking  \n",
       "1861 -0.372822  4.913246 -3.843822  8.757068 -0.622510 -0.085347   walking  \n",
       "1862 -0.367828  4.913246 -3.843822  8.757068 -0.623176 -0.099163   walking  \n",
       "\n",
       "[1863 rows x 25 columns]"
      ]
     },
     "execution_count": 28,
     "metadata": {},
     "output_type": "execute_result"
    }
   ],
   "source": [
    "segment_length = 208\n",
    "step = 104\n",
    "segments = []\n",
    "labels = []\n",
    "\n",
    "for start_pos in range(0, len(complete_data) - segment_length + 1, step):\n",
    "    segment = complete_data.iloc[start_pos:start_pos + segment_length]\n",
    "\n",
    "    features = {\n",
    "        'mean_X': segment['accelerometer_X'].mean(),\n",
    "        'std_X': segment['accelerometer_X'].std(),\n",
    "        'median_X': segment['accelerometer_X'].median(),\n",
    "        'max_X': segment['accelerometer_X'].max(),\n",
    "        'min_X': segment['accelerometer_X'].min(),\n",
    "        'range_X': segment['accelerometer_X'].max() - segment['accelerometer_X'].min(),\n",
    "        '25%_X': segment['accelerometer_X'].quantile(0.25),\n",
    "        '75%_X': segment['accelerometer_X'].quantile(0.75),\n",
    "        'mean_Y': segment['accelerometer_Y'].mean(),\n",
    "        'std_Y': segment['accelerometer_Y'].std(),\n",
    "        'median_Y': segment['accelerometer_Y'].median(),\n",
    "        'max_Y': segment['accelerometer_Y'].max(),\n",
    "        'min_Y': segment['accelerometer_Y'].min(),\n",
    "        'range_Y': segment['accelerometer_Y'].max() - segment['accelerometer_Y'].min(),\n",
    "        '25%_Y': segment['accelerometer_Y'].quantile(0.25),\n",
    "        '75%_Y': segment['accelerometer_Y'].quantile(0.75),\n",
    "        'mean_Z': segment['accelerometer_Z'].mean(),\n",
    "        'std_Z': segment['accelerometer_Z'].std(),\n",
    "        'median_Z': segment['accelerometer_Z'].median(),\n",
    "        'max_Z': segment['accelerometer_Z'].max(),\n",
    "        'min_Z': segment['accelerometer_Z'].min(),\n",
    "        'range_Z': segment['accelerometer_Z'].max() - segment['accelerometer_Z'].min(),\n",
    "        '25%_Z': segment['accelerometer_Z'].quantile(0.25),\n",
    "        '75%_Z': segment['accelerometer_Z'].quantile(0.75)\n",
    "    }\n",
    "\n",
    "    segments.append(features)\n",
    "    labels.append(segment['Activity'].iloc[0])\n",
    "\n",
    "features_df = pd.DataFrame(segments)\n",
    "features_df['Activity'] = labels\n",
    "\n",
    "features_df"
   ]
  },
  {
   "cell_type": "markdown",
   "metadata": {},
   "source": [
    "Тепер нам потрібно розділити наш набір даних на тренувальну та тестову вибірку:"
   ]
  },
  {
   "cell_type": "code",
   "execution_count": 58,
   "metadata": {},
   "outputs": [],
   "source": [
    "X = features_df.drop('Activity', axis=1)\n",
    "y = features_df['Activity']\n",
    "\n",
    "X_train, X_test, y_train, y_test = train_test_split(X, y, test_size=0.33, random_state=42)"
   ]
  },
  {
   "cell_type": "markdown",
   "metadata": {},
   "source": [
    "Тепер застосуємо метод Support Vector Machine для тренування нашої моделі:"
   ]
  },
  {
   "cell_type": "code",
   "execution_count": 62,
   "metadata": {},
   "outputs": [
    {
     "data": {
      "text/html": [
       "<style>#sk-container-id-8 {color: black;background-color: white;}#sk-container-id-8 pre{padding: 0;}#sk-container-id-8 div.sk-toggleable {background-color: white;}#sk-container-id-8 label.sk-toggleable__label {cursor: pointer;display: block;width: 100%;margin-bottom: 0;padding: 0.3em;box-sizing: border-box;text-align: center;}#sk-container-id-8 label.sk-toggleable__label-arrow:before {content: \"▸\";float: left;margin-right: 0.25em;color: #696969;}#sk-container-id-8 label.sk-toggleable__label-arrow:hover:before {color: black;}#sk-container-id-8 div.sk-estimator:hover label.sk-toggleable__label-arrow:before {color: black;}#sk-container-id-8 div.sk-toggleable__content {max-height: 0;max-width: 0;overflow: hidden;text-align: left;background-color: #f0f8ff;}#sk-container-id-8 div.sk-toggleable__content pre {margin: 0.2em;color: black;border-radius: 0.25em;background-color: #f0f8ff;}#sk-container-id-8 input.sk-toggleable__control:checked~div.sk-toggleable__content {max-height: 200px;max-width: 100%;overflow: auto;}#sk-container-id-8 input.sk-toggleable__control:checked~label.sk-toggleable__label-arrow:before {content: \"▾\";}#sk-container-id-8 div.sk-estimator input.sk-toggleable__control:checked~label.sk-toggleable__label {background-color: #d4ebff;}#sk-container-id-8 div.sk-label input.sk-toggleable__control:checked~label.sk-toggleable__label {background-color: #d4ebff;}#sk-container-id-8 input.sk-hidden--visually {border: 0;clip: rect(1px 1px 1px 1px);clip: rect(1px, 1px, 1px, 1px);height: 1px;margin: -1px;overflow: hidden;padding: 0;position: absolute;width: 1px;}#sk-container-id-8 div.sk-estimator {font-family: monospace;background-color: #f0f8ff;border: 1px dotted black;border-radius: 0.25em;box-sizing: border-box;margin-bottom: 0.5em;}#sk-container-id-8 div.sk-estimator:hover {background-color: #d4ebff;}#sk-container-id-8 div.sk-parallel-item::after {content: \"\";width: 100%;border-bottom: 1px solid gray;flex-grow: 1;}#sk-container-id-8 div.sk-label:hover label.sk-toggleable__label {background-color: #d4ebff;}#sk-container-id-8 div.sk-serial::before {content: \"\";position: absolute;border-left: 1px solid gray;box-sizing: border-box;top: 0;bottom: 0;left: 50%;z-index: 0;}#sk-container-id-8 div.sk-serial {display: flex;flex-direction: column;align-items: center;background-color: white;padding-right: 0.2em;padding-left: 0.2em;position: relative;}#sk-container-id-8 div.sk-item {position: relative;z-index: 1;}#sk-container-id-8 div.sk-parallel {display: flex;align-items: stretch;justify-content: center;background-color: white;position: relative;}#sk-container-id-8 div.sk-item::before, #sk-container-id-8 div.sk-parallel-item::before {content: \"\";position: absolute;border-left: 1px solid gray;box-sizing: border-box;top: 0;bottom: 0;left: 50%;z-index: -1;}#sk-container-id-8 div.sk-parallel-item {display: flex;flex-direction: column;z-index: 1;position: relative;background-color: white;}#sk-container-id-8 div.sk-parallel-item:first-child::after {align-self: flex-end;width: 50%;}#sk-container-id-8 div.sk-parallel-item:last-child::after {align-self: flex-start;width: 50%;}#sk-container-id-8 div.sk-parallel-item:only-child::after {width: 0;}#sk-container-id-8 div.sk-dashed-wrapped {border: 1px dashed gray;margin: 0 0.4em 0.5em 0.4em;box-sizing: border-box;padding-bottom: 0.4em;background-color: white;}#sk-container-id-8 div.sk-label label {font-family: monospace;font-weight: bold;display: inline-block;line-height: 1.2em;}#sk-container-id-8 div.sk-label-container {text-align: center;}#sk-container-id-8 div.sk-container {/* jupyter's `normalize.less` sets `[hidden] { display: none; }` but bootstrap.min.css set `[hidden] { display: none !important; }` so we also need the `!important` here to be able to override the default hidden behavior on the sphinx rendered scikit-learn.org. See: https://github.com/scikit-learn/scikit-learn/issues/21755 */display: inline-block !important;position: relative;}#sk-container-id-8 div.sk-text-repr-fallback {display: none;}</style><div id=\"sk-container-id-8\" class=\"sk-top-container\"><div class=\"sk-text-repr-fallback\"><pre>SVC(kernel=&#x27;linear&#x27;, random_state=42)</pre><b>In a Jupyter environment, please rerun this cell to show the HTML representation or trust the notebook. <br />On GitHub, the HTML representation is unable to render, please try loading this page with nbviewer.org.</b></div><div class=\"sk-container\" hidden><div class=\"sk-item\"><div class=\"sk-estimator sk-toggleable\"><input class=\"sk-toggleable__control sk-hidden--visually\" id=\"sk-estimator-id-8\" type=\"checkbox\" checked><label for=\"sk-estimator-id-8\" class=\"sk-toggleable__label sk-toggleable__label-arrow\">SVC</label><div class=\"sk-toggleable__content\"><pre>SVC(kernel=&#x27;linear&#x27;, random_state=42)</pre></div></div></div></div></div>"
      ],
      "text/plain": [
       "SVC(kernel='linear', random_state=42)"
      ]
     },
     "execution_count": 62,
     "metadata": {},
     "output_type": "execute_result"
    }
   ],
   "source": [
    "svc_linear_clf = SVC(kernel='linear', C=1.0, random_state=42)\n",
    "svc_linear_clf.fit(X_train, y_train)"
   ]
  },
  {
   "cell_type": "markdown",
   "metadata": {},
   "source": [
    "Проведемо прогнозування та оцінку моделі:"
   ]
  },
  {
   "cell_type": "code",
   "execution_count": 63,
   "metadata": {},
   "outputs": [
    {
     "name": "stdout",
     "output_type": "stream",
     "text": [
      "accuracy score on training sample = 0.9983974358974359\n",
      "accuracy score on test sample = 0.9983739837398374\n",
      "\n",
      "              precision    recall  f1-score   support\n",
      "\n",
      "        idle       1.00      1.00      1.00        86\n",
      "     running       1.00      1.00      1.00       328\n",
      "      stairs       1.00      0.95      0.97        19\n",
      "     walking       0.99      1.00      1.00       182\n",
      "\n",
      "    accuracy                           1.00       615\n",
      "   macro avg       1.00      0.99      0.99       615\n",
      "weighted avg       1.00      1.00      1.00       615\n",
      "\n"
     ]
    }
   ],
   "source": [
    "y_predict_svc = svc_linear_clf.predict(X_test)\n",
    "\n",
    "print(f\"accuracy score on training sample = {accuracy_score(svc_linear_clf.predict(X_train), y_train)}\")\n",
    "print(f\"accuracy score on test sample = {accuracy_score(svc_linear_clf.predict(X_test), y_test)}\\n\")\n",
    "\n",
    "print(classification_report(y_test, y_predict_svc))"
   ]
  },
  {
   "cell_type": "markdown",
   "metadata": {},
   "source": [
    "Також зробимо візуальну оцінку за допомогою Confusion Matrix:"
   ]
  },
  {
   "cell_type": "code",
   "execution_count": 65,
   "metadata": {},
   "outputs": [
    {
     "data": {
      "image/png": "[encoded data removed]",
      "text/plain": [
       "<Figure size 640x480 with 2 Axes>"
      ]
     },
     "metadata": {},
     "output_type": "display_data"
    },
    {
     "data": {
      "image/png": "[encoded data removed]",
      "text/plain": [
       "<Figure size 640x480 with 2 Axes>"
      ]
     },
     "metadata": {},
     "output_type": "display_data"
    }
   ],
   "source": [
    "matrix_train=ConfusionMatrixDisplay.from_estimator(svc_linear_clf, X_train, y_train, normalize='true')\n",
    "matrix_test=ConfusionMatrixDisplay.from_estimator(svc_linear_clf, X_test, y_test, normalize='true')"
   ]
  },
  {
   "cell_type": "markdown",
   "metadata": {},
   "source": [
    "Давайте зробимо те саме, але використаємо не Лінійну функція ядра а Радіальну базисну функцію ядра(RBF) для тренування нашої моделі:"
   ]
  },
  {
   "cell_type": "code",
   "execution_count": 67,
   "metadata": {},
   "outputs": [
    {
     "data": {
      "text/html": [
       "<style>#sk-container-id-10 {color: black;background-color: white;}#sk-container-id-10 pre{padding: 0;}#sk-container-id-10 div.sk-toggleable {background-color: white;}#sk-container-id-10 label.sk-toggleable__label {cursor: pointer;display: block;width: 100%;margin-bottom: 0;padding: 0.3em;box-sizing: border-box;text-align: center;}#sk-container-id-10 label.sk-toggleable__label-arrow:before {content: \"▸\";float: left;margin-right: 0.25em;color: #696969;}#sk-container-id-10 label.sk-toggleable__label-arrow:hover:before {color: black;}#sk-container-id-10 div.sk-estimator:hover label.sk-toggleable__label-arrow:before {color: black;}#sk-container-id-10 div.sk-toggleable__content {max-height: 0;max-width: 0;overflow: hidden;text-align: left;background-color: #f0f8ff;}#sk-container-id-10 div.sk-toggleable__content pre {margin: 0.2em;color: black;border-radius: 0.25em;background-color: #f0f8ff;}#sk-container-id-10 input.sk-toggleable__control:checked~div.sk-toggleable__content {max-height: 200px;max-width: 100%;overflow: auto;}#sk-container-id-10 input.sk-toggleable__control:checked~label.sk-toggleable__label-arrow:before {content: \"▾\";}#sk-container-id-10 div.sk-estimator input.sk-toggleable__control:checked~label.sk-toggleable__label {background-color: #d4ebff;}#sk-container-id-10 div.sk-label input.sk-toggleable__control:checked~label.sk-toggleable__label {background-color: #d4ebff;}#sk-container-id-10 input.sk-hidden--visually {border: 0;clip: rect(1px 1px 1px 1px);clip: rect(1px, 1px, 1px, 1px);height: 1px;margin: -1px;overflow: hidden;padding: 0;position: absolute;width: 1px;}#sk-container-id-10 div.sk-estimator {font-family: monospace;background-color: #f0f8ff;border: 1px dotted black;border-radius: 0.25em;box-sizing: border-box;margin-bottom: 0.5em;}#sk-container-id-10 div.sk-estimator:hover {background-color: #d4ebff;}#sk-container-id-10 div.sk-parallel-item::after {content: \"\";width: 100%;border-bottom: 1px solid gray;flex-grow: 1;}#sk-container-id-10 div.sk-label:hover label.sk-toggleable__label {background-color: #d4ebff;}#sk-container-id-10 div.sk-serial::before {content: \"\";position: absolute;border-left: 1px solid gray;box-sizing: border-box;top: 0;bottom: 0;left: 50%;z-index: 0;}#sk-container-id-10 div.sk-serial {display: flex;flex-direction: column;align-items: center;background-color: white;padding-right: 0.2em;padding-left: 0.2em;position: relative;}#sk-container-id-10 div.sk-item {position: relative;z-index: 1;}#sk-container-id-10 div.sk-parallel {display: flex;align-items: stretch;justify-content: center;background-color: white;position: relative;}#sk-container-id-10 div.sk-item::before, #sk-container-id-10 div.sk-parallel-item::before {content: \"\";position: absolute;border-left: 1px solid gray;box-sizing: border-box;top: 0;bottom: 0;left: 50%;z-index: -1;}#sk-container-id-10 div.sk-parallel-item {display: flex;flex-direction: column;z-index: 1;position: relative;background-color: white;}#sk-container-id-10 div.sk-parallel-item:first-child::after {align-self: flex-end;width: 50%;}#sk-container-id-10 div.sk-parallel-item:last-child::after {align-self: flex-start;width: 50%;}#sk-container-id-10 div.sk-parallel-item:only-child::after {width: 0;}#sk-container-id-10 div.sk-dashed-wrapped {border: 1px dashed gray;margin: 0 0.4em 0.5em 0.4em;box-sizing: border-box;padding-bottom: 0.4em;background-color: white;}#sk-container-id-10 div.sk-label label {font-family: monospace;font-weight: bold;display: inline-block;line-height: 1.2em;}#sk-container-id-10 div.sk-label-container {text-align: center;}#sk-container-id-10 div.sk-container {/* jupyter's `normalize.less` sets `[hidden] { display: none; }` but bootstrap.min.css set `[hidden] { display: none !important; }` so we also need the `!important` here to be able to override the default hidden behavior on the sphinx rendered scikit-learn.org. See: https://github.com/scikit-learn/scikit-learn/issues/21755 */display: inline-block !important;position: relative;}#sk-container-id-10 div.sk-text-repr-fallback {display: none;}</style><div id=\"sk-container-id-10\" class=\"sk-top-container\"><div class=\"sk-text-repr-fallback\"><pre>SVC(random_state=42)</pre><b>In a Jupyter environment, please rerun this cell to show the HTML representation or trust the notebook. <br />On GitHub, the HTML representation is unable to render, please try loading this page with nbviewer.org.</b></div><div class=\"sk-container\" hidden><div class=\"sk-item\"><div class=\"sk-estimator sk-toggleable\"><input class=\"sk-toggleable__control sk-hidden--visually\" id=\"sk-estimator-id-10\" type=\"checkbox\" checked><label for=\"sk-estimator-id-10\" class=\"sk-toggleable__label sk-toggleable__label-arrow\">SVC</label><div class=\"sk-toggleable__content\"><pre>SVC(random_state=42)</pre></div></div></div></div></div>"
      ],
      "text/plain": [
       "SVC(random_state=42)"
      ]
     },
     "execution_count": 67,
     "metadata": {},
     "output_type": "execute_result"
    }
   ],
   "source": [
    "svc_rbf_clf = SVC(kernel='rbf', random_state=42)\n",
    "svc_rbf_clf.fit(X_train, y_train)"
   ]
  },
  {
   "cell_type": "code",
   "execution_count": 68,
   "metadata": {},
   "outputs": [
    {
     "name": "stdout",
     "output_type": "stream",
     "text": [
      "accuracy score on training sample = 0.9983974358974359\n",
      "accuracy score on test sample = 0.9967479674796748\n",
      "\n",
      "              precision    recall  f1-score   support\n",
      "\n",
      "        idle       1.00      0.99      0.99        86\n",
      "     running       1.00      1.00      1.00       328\n",
      "      stairs       1.00      0.95      0.97        19\n",
      "     walking       0.99      1.00      1.00       182\n",
      "\n",
      "    accuracy                           1.00       615\n",
      "   macro avg       1.00      0.98      0.99       615\n",
      "weighted avg       1.00      1.00      1.00       615\n",
      "\n"
     ]
    }
   ],
   "source": [
    "y_predict_svc_rbf = svc_rbf_clf.predict(X_test)\n",
    "\n",
    "print(f\"accuracy score on training sample = {accuracy_score(svc_rbf_clf.predict(X_train), y_train)}\")\n",
    "print(f\"accuracy score on test sample = {accuracy_score(svc_rbf_clf.predict(X_test), y_test)}\\n\")\n",
    "\n",
    "print(classification_report(y_test, y_predict_svc_rbf))"
   ]
  },
  {
   "cell_type": "markdown",
   "metadata": {},
   "source": [
    "І також зробимо візуальну оцінку за допомогою Confusion Matrix:"
   ]
  },
  {
   "cell_type": "code",
   "execution_count": 69,
   "metadata": {},
   "outputs": [
    {
     "data": {
      "image/png": "[encoded data removed]",
      "text/plain": [
       "<Figure size 640x480 with 2 Axes>"
      ]
     },
     "metadata": {},
     "output_type": "display_data"
    },
    {
     "data": {
      "image/png": "[encoded data removed]",
      "text/plain": [
       "<Figure size 640x480 with 2 Axes>"
      ]
     },
     "metadata": {},
     "output_type": "display_data"
    }
   ],
   "source": [
    "matrix_train=ConfusionMatrixDisplay.from_estimator(svc_rbf_clf, X_train, y_train, normalize='true')\n",
    "matrix_test=ConfusionMatrixDisplay.from_estimator(svc_rbf_clf, X_test, y_test, normalize='true')"
   ]
  }
 ],
 "metadata": {
  "kernelspec": {
   "display_name": "Python 3",
   "language": "python",
   "name": "python3"
  },
  "language_info": {
   "codemirror_mode": {
    "name": "ipython",
    "version": 3
   },
   "file_extension": ".py",
   "mimetype": "text/x-python",
   "name": "python",
   "nbconvert_exporter": "python",
   "pygments_lexer": "ipython3",
   "version": "3.11.7"
  },
  "orig_nbformat": 4
 },
 "nbformat": 4,
 "nbformat_minor": 2
}
