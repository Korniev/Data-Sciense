{
  "nbformat": 4,
  "nbformat_minor": 0,
  "metadata": {
    "colab": {
      "provenance": [],
      "authorship_tag": "ABX9TyN9ucfCiTsr8gRly0bfsjTF",
      "include_colab_link": true
    },
    "kernelspec": {
      "name": "python3",
      "display_name": "Python 3"
    },
    "language_info": {
      "name": "python"
    }
  },
  "cells": [
    {
      "cell_type": "markdown",
      "metadata": {
        "id": "view-in-github",
        "colab_type": "text"
      },
      "source": [
        "<a href=\"https://colab.research.google.com/github/Korniev/Data-Sciense/blob/main/hw_09/hw_09.ipynb\" target=\"_parent\"><img src=\"https://colab.research.google.com/assets/colab-badge.svg\" alt=\"Open In Colab\"/></a>"
      ]
    },
    {
      "cell_type": "markdown",
      "source": [
        "В якості домашнього завдання вам пропонується створити нейронну мережу за допомогою механізмів Keras, яка буде класифікувати товари із датасету fasion_mnist."
      ],
      "metadata": {
        "id": "5gIOxaQv-CxD"
      }
    },
    {
      "cell_type": "markdown",
      "source": [
        "#Завантаження та підготовка даних"
      ],
      "metadata": {
        "id": "Nshty1mG-IEa"
      }
    },
    {
      "cell_type": "markdown",
      "source": [
        "Перше, з чого нам потрібно почати – це завантажити датасет Fashion MNIST. Він доступний безпосередньо через Keras:"
      ],
      "metadata": {
        "id": "4-KDzApY-OtI"
      }
    },
    {
      "cell_type": "code",
      "source": [
        "#Імпортуємо потрібну бібліотеку\n",
        "from tensorflow.keras.datasets import fashion_mnist"
      ],
      "metadata": {
        "id": "qAFy_cmB-ZQt"
      },
      "execution_count": null,
      "outputs": []
    }
  ]
}