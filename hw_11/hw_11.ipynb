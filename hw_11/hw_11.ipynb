{
  "nbformat": 4,
  "nbformat_minor": 0,
  "metadata": {
    "colab": {
      "provenance": [],
      "authorship_tag": "ABX9TyPRNCXbo2/8FrVaVZbS/EwO",
      "include_colab_link": true
    },
    "kernelspec": {
      "name": "python3",
      "display_name": "Python 3"
    },
    "language_info": {
      "name": "python"
    }
  },
  "cells": [
    {
      "cell_type": "markdown",
      "metadata": {
        "id": "view-in-github",
        "colab_type": "text"
      },
      "source": [
        "<a href=\"https://colab.research.google.com/github/Korniev/Data-Sciense/blob/main/hw_11/hw_11.ipynb\" target=\"_parent\"><img src=\"https://colab.research.google.com/assets/colab-badge.svg\" alt=\"Open In Colab\"/></a>"
      ]
    },
    {
      "cell_type": "markdown",
      "source": [
        "#Домашнє завдання № 11"
      ],
      "metadata": {
        "id": "1XUWc7_4J_-U"
      }
    },
    {
      "cell_type": "markdown",
      "source": [
        "В якості домашнього завдання вам пропонується створити рекурентну нейронну мережу за допомогою механізмів Keras, яка буде класифікувати рецензії із датасету imdb.\n",
        "\n",
        "На відміну від прикладу в модулі 9 ми використаємо рекурентну нейронну мережу. Поекспериментуйте з будовою мережі - RNN, LSTM, двостороння та глибока.\n",
        "\n",
        "Порівняйте результати та зробіть висновки."
      ],
      "metadata": {
        "id": "bB69VGsPKDgo"
      }
    },
    {
      "cell_type": "markdown",
      "source": [
        "Імпортуємо усі потрібні нам бібліотеки:"
      ],
      "metadata": {
        "id": "F93yQ496M7bU"
      }
    },
    {
      "cell_type": "code",
      "source": [
        "import matplotlib.pyplot as plt\n",
        "from keras.datasets import imdb\n",
        "from keras.utils import pad_sequences\n",
        "from keras.models import Sequential\n",
        "from keras.layers import Embedding, SimpleRNN, Dense"
      ],
      "metadata": {
        "id": "h3Sg0ya4NA42"
      },
      "execution_count": 1,
      "outputs": []
    },
    {
      "cell_type": "markdown",
      "source": [
        "##Звичайна RNN"
      ],
      "metadata": {
        "id": "_Bnp7BdyKIOu"
      }
    },
    {
      "cell_type": "markdown",
      "source": [
        "Супер, почнемо з реалізаціїї звичайної базової RNN і подивимось на результати, які ми отримаємо.\n",
        "\n",
        "Для початку потрібно завантажити датасет imdb"
      ],
      "metadata": {
        "id": "029BAqoNMGcY"
      }
    },
    {
      "cell_type": "markdown",
      "source": [
        "Для цього встановлюємо гіперпараметри:"
      ],
      "metadata": {
        "id": "b6giFg4JNdDW"
      }
    },
    {
      "cell_type": "code",
      "source": [
        "max_features = 10000\n",
        "maxlen = 500"
      ],
      "metadata": {
        "id": "rXnZdEfNNgK1"
      },
      "execution_count": 2,
      "outputs": []
    },
    {
      "cell_type": "markdown",
      "source": [
        "І завантажимо датасет imdb:"
      ],
      "metadata": {
        "id": "4JwrVluNNlHn"
      }
    },
    {
      "cell_type": "code",
      "source": [
        "(x_train, y_train), (x_test, y_test) = imdb.load_data(num_words=max_features)"
      ],
      "metadata": {
        "colab": {
          "base_uri": "https://localhost:8080/"
        },
        "id": "Dh_wS30hMlwQ",
        "outputId": "5db29318-166f-4fb9-be16-e11ac380957b"
      },
      "execution_count": 3,
      "outputs": [
        {
          "output_type": "stream",
          "name": "stdout",
          "text": [
            "Downloading data from https://storage.googleapis.com/tensorflow/tf-keras-datasets/imdb.npz\n",
            "17464789/17464789 [==============================] - 0s 0us/step\n"
          ]
        }
      ]
    }
  ]
}