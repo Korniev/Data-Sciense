{
  "cells": [
    {
      "cell_type": "markdown",
      "metadata": {
        "id": "view-in-github",
        "colab_type": "text"
      },
      "source": [
        "<a href=\"https://colab.research.google.com/github/Korniev/Data-Sciense/blob/main/hw_08/hw_08.ipynb\" target=\"_parent\"><img src=\"https://colab.research.google.com/assets/colab-badge.svg\" alt=\"Open In Colab\"/></a>"
      ]
    },
    {
      "cell_type": "markdown",
      "metadata": {
        "id": "b0Yf4NBJUSNM"
      },
      "source": [
        "# Створення нейронної мережі\n",
        "\n",
        "У цьому завданні ми створимо повнозв'язну нейронну мережу, використовуючи при цьому низькорівневі механізми tensorflow.\n",
        "\n",
        "Архітектура нейромережі представлена на наступному малюнку. Як бачиш, у ній є один вхідний шар, два приховані, а також вихідний шар. В якості активаційної функції у прихованих шарах буде використовуватись сигмоїда. На вихідному шарі ми використовуємо softmax.\n",
        "\n",
        "Частина коду зі створення мережі вже написана, тобі потрібно заповнити пропуски у вказаних місцях."
      ]
    },
    {
      "cell_type": "markdown",
      "metadata": {
        "id": "01rZWUu0USNQ"
      },
      "source": [
        "## Архітектура нейронної мережі\n",
        "\n",
        "<img src=\"http://cs231n.github.io/assets/nn1/neural_net2.jpeg\" alt=\"nn\" style=\"width: 400px;\"/>\n"
      ]
    },
    {
      "cell_type": "markdown",
      "metadata": {
        "id": "LLvIZ705Qw_V"
      },
      "source": [
        "## Про датасет MNIST\n",
        "\n",
        "Дану нейромережу ми будемо вивчати на датасеті MNIST. Цей датасет являє собою велику кількість зображень рукописних цифр розміром $28 \\times 28$ пікселів. Кожен піксель приймає значення від 0 до 255.\n",
        "\n",
        "Як і раніше, датасет буде розділений на навчальну та тестову вибірки. При цьому ми виконаємо нормалізацію всіх зображень, щоб значення пікселів знаходилось у проміжку від 0 до 1, розділивши яскравість кожного пікселя на 255.\n",
        "\n",
        "Окрім того, архітектура нейронної мережі очікує на вхід вектор. У нашому ж випадку кожен об'єкт вибірки являє собою матрицю. Що ж робити? У цьому завданні ми \"розтягнемо\" матрицю $28 \\times 28$, отримавши при цьому вектор, що складається з 784 елементів.\n",
        "\n",
        "![MNIST Dataset](https://www.researchgate.net/profile/Steven-Young-5/publication/306056875/figure/fig1/AS:393921575309346@1470929630835/Example-images-from-the-MNIST-dataset.png)\n",
        "\n",
        "Більше інформації про датасет можна знайти [тут](http://yann.lecun.com/exdb/mnist/)."
      ]
    },
    {
      "cell_type": "code",
      "execution_count": 9,
      "metadata": {
        "id": "il_0_5OyUSNR"
      },
      "outputs": [],
      "source": [
        "import tensorflow as tf\n",
        "import numpy as np\n",
        "import pandas as pd\n",
        "import matplotlib.pyplot as plt\n",
        "import random\n",
        "import keras as K\n",
        "import seaborn as sns\n",
        "from sklearn.metrics import confusion_matrix"
      ]
    },
    {
      "cell_type": "code",
      "execution_count": 10,
      "metadata": {
        "id": "cd-1_abTUSNS"
      },
      "outputs": [],
      "source": [
        "num_classes = 10 # загальна кількість класів, у нашому випадку це цифри від 0 до 9\n",
        "num_features = 784 # кількість атрибутів вхідного вектора 28 * 28 = 784\n",
        "\n",
        "learning_rate = 0.001 # швидкість навчання нейронної мережі\n",
        "training_steps = 3000 # максимальне число епох\n",
        "batch_size = 256 # перераховувати ваги мережі ми будемо не на всій вибірці, а на її випадковій підмножині з batch_size елементів\n",
        "display_step = 100 # кожні 100 ітерацій ми будемо показувати поточне значення функції втрат і точності\n",
        "\n",
        "n_hidden_1 = 128 # кількість нейронів 1-го шару\n",
        "n_hidden_2 = 256 # кількість нейронів 2-го шару"
      ]
    },
    {
      "cell_type": "code",
      "execution_count": 12,
      "metadata": {
        "id": "pGTXiRyTUSNT"
      },
      "outputs": [],
      "source": [
        "# from tensorflow.keras.datasets import mnist\n",
        "from keras.datasets import mnist\n",
        "\n",
        "# Завантажуємо датасет\n",
        "(x_train, y_train), (x_test, y_test) = mnist.load_data()\n",
        "\n",
        "# Перетворюємо цілочисельні пікселі на тип float32\n",
        "x_train, x_test = np.array(x_train, np.float32), np.array(x_test, np.float32)\n",
        "\n",
        "# Перетворюємо матриці розміром 28x28 пікселів у вектор з 784 елементів\n",
        "x_train, x_test = x_train.reshape([-1, num_features]), x_test.reshape([-1, num_features])\n",
        "\n",
        "# Нормалізуємо значення пікселів\n",
        "x_train, x_test = x_train / 255., x_test / 255.\n",
        "\n",
        "# Перемішаємо тренувальні дані\n",
        "train_data = tf.data.Dataset.from_tensor_slices((x_train, y_train))\n",
        "train_data = train_data.repeat().shuffle(5000).batch(batch_size).prefetch(1)"
      ]
    },
    {
      "cell_type": "code",
      "execution_count": 13,
      "metadata": {
        "id": "FkRmCQjnUSNV"
      },
      "outputs": [],
      "source": [
        "# Створимо нейронну мережу\n",
        "\n",
        "class DenseLayer(tf.Module):\n",
        "    def __init__(self, in_features, out_features, activation=None, name=None):\n",
        "        super().__init__(name=name)\n",
        "        self.w = tf.Variable(\n",
        "            tf.random.normal([in_features, out_features]), name=\"w\"\n",
        "        )\n",
        "        self.b = tf.Variable(tf.zeros([out_features]), name=\"b\")\n",
        "        self.activation = activation\n",
        "\n",
        "    def __call__(self, x):\n",
        "        y = tf.matmul(x, self.w) + self.b\n",
        "        if self.activation:\n",
        "            y = self.activation(y)\n",
        "        return y\n",
        "\n",
        "class NN(tf.Module):\n",
        "    def __init__(self, name=None):\n",
        "        super().__init__(name=name)\n",
        "        # Перший шар, який складається з 128 нейронів\n",
        "        self.layer1 = DenseLayer(num_features, n_hidden_1, tf.nn.sigmoid)\n",
        "        # Другий шар, який складається з 256 нейронів\n",
        "        self.layer2 = DenseLayer(n_hidden_1, n_hidden_2, tf.nn.sigmoid)\n",
        "        # Вихідний шар\n",
        "        self.out_layer = DenseLayer(n_hidden_2, num_classes, tf.nn.softmax)\n",
        "\n",
        "    def __call__(self, x):\n",
        "        # Передача даних через перші два шари та вихідний шар з функцією активації softmax\n",
        "        x = self.layer1(x)\n",
        "        x = self.layer2(x)\n",
        "        x = self.out_layer(x)\n",
        "\n",
        "        return x"
      ]
    },
    {
      "cell_type": "code",
      "execution_count": 15,
      "metadata": {
        "id": "LIf3o7VAUSNV"
      },
      "outputs": [],
      "source": [
        "# В якості функції помилки в даному випадку зручно взяти крос-ентропію\n",
        "def cross_entropy(y_pred, y_true):\n",
        "    # Закодувати label в one hot vector\n",
        "    y_true = tf.one_hot(y_true, depth=num_classes)\n",
        "\n",
        "    # Значення передбачення, щоб уникнути помилки log(0).\n",
        "    y_pred = tf.clip_by_value(y_pred, 1e-9, 1.)\n",
        "\n",
        "    # Обчислення крос-ентропії\n",
        "    return tf.reduce_mean(-tf.reduce_sum(y_true * tf.math.log(y_pred)))\n",
        "\n",
        "# Як метрику якості використовуємо точність\n",
        "def accuracy(y_pred, y_true):\n",
        "    # Визначаємо передбачений клас як індекс з найвищим значенням в передбаченнях\n",
        "    predicted_class = tf.argmax(y_pred, axis=1)\n",
        "\n",
        "    # Переконуємося, що y_true має тип int64 для сумісності з predicted_class\n",
        "    y_true = tf.cast(y_true, tf.int64)\n",
        "\n",
        "    # Порівнюємо передбачений клас з фактичним класом\n",
        "    correct_prediction = tf.equal(predicted_class, y_true)\n",
        "    # Обчислюємо точність\n",
        "    accuracy = tf.reduce_mean(tf.cast(correct_prediction, tf.float32))\n",
        "    return accuracy"
      ]
    },
    {
      "cell_type": "code",
      "execution_count": 16,
      "metadata": {
        "id": "MQeT1yatUSNW"
      },
      "outputs": [],
      "source": [
        "# Створимо екземпляр нейронної мережі\n",
        "neural_net = NN(name=\"mnist\")\n",
        "\n",
        "# Функція навчання нейромережі\n",
        "def train(neural_net, input_x, output_y):\n",
        "  # Для налаштування вагів мережі будемо використовувати стохастичний градієнтний спуск\n",
        "  optimizer = tf.optimizers.SGD(learning_rate)\n",
        "\n",
        "  # Активація автоматичного диференціювання\n",
        "  with tf.GradientTape() as g:\n",
        "    pred = neural_net(input_x)\n",
        "    loss = cross_entropy(pred, output_y)\n",
        "\n",
        "    # Отримаємо список оптимізованих параметрів\n",
        "    trainable_variables = neural_net.trainable_variables\n",
        "    # Обчислимо за ними значення градієнта\n",
        "    gradients = g.gradient(loss, trainable_variables)\n",
        "\n",
        "    # Модифікуємо параметри\n",
        "    optimizer.apply_gradients(zip(gradients, trainable_variables))"
      ]
    },
    {
      "cell_type": "code",
      "execution_count": 17,
      "metadata": {
        "id": "fnyns9lBfpQZ",
        "colab": {
          "base_uri": "https://localhost:8080/"
        },
        "outputId": "2fea0f35-0fdf-434d-e108-5ab0a21a3c67"
      },
      "outputs": [
        {
          "output_type": "stream",
          "name": "stdout",
          "text": [
            "Крок: 100 Помилка: 399.17273 Точність: 0.65625\n",
            "Крок: 200 Помилка: 197.1155 Точність: 0.7734375\n",
            "Крок: 300 Помилка: 135.93994 Точність: 0.8203125\n",
            "Крок: 400 Помилка: 204.00974 Точність: 0.7734375\n",
            "Крок: 500 Помилка: 130.12808 Точність: 0.859375\n",
            "Крок: 600 Помилка: 135.7799 Точність: 0.84375\n",
            "Крок: 700 Помилка: 111.890564 Точність: 0.88671875\n",
            "Крок: 800 Помилка: 113.47334 Точність: 0.87890625\n",
            "Крок: 900 Помилка: 98.36864 Точність: 0.87890625\n",
            "Крок: 1000 Помилка: 92.56278 Точність: 0.890625\n",
            "Крок: 1100 Помилка: 80.467575 Точність: 0.87109375\n",
            "Крок: 1200 Помилка: 109.33264 Точність: 0.88671875\n",
            "Крок: 1300 Помилка: 94.57013 Точність: 0.91015625\n",
            "Крок: 1400 Помилка: 67.84363 Точність: 0.91015625\n",
            "Крок: 1500 Помилка: 96.60971 Точність: 0.9140625\n",
            "Крок: 1600 Помилка: 90.03128 Точність: 0.890625\n",
            "Крок: 1700 Помилка: 77.70955 Точність: 0.90234375\n",
            "Крок: 1800 Помилка: 57.43437 Точність: 0.92578125\n",
            "Крок: 1900 Помилка: 98.68747 Точність: 0.88671875\n",
            "Крок: 2000 Помилка: 59.880497 Точність: 0.94140625\n",
            "Крок: 2100 Помилка: 79.41987 Точність: 0.8984375\n",
            "Крок: 2200 Помилка: 87.36763 Точність: 0.89453125\n",
            "Крок: 2300 Помилка: 74.35203 Точність: 0.91796875\n",
            "Крок: 2400 Помилка: 85.56114 Точність: 0.9140625\n",
            "Крок: 2500 Помилка: 70.1886 Точність: 0.91796875\n",
            "Крок: 2600 Помилка: 69.8865 Точність: 0.9140625\n",
            "Крок: 2700 Помилка: 75.372025 Точність: 0.90625\n",
            "Крок: 2800 Помилка: 86.67937 Точність: 0.9140625\n",
            "Крок: 2900 Помилка: 63.056545 Точність: 0.93359375\n",
            "Крок: 3000 Помилка: 61.793285 Точність: 0.92578125\n"
          ]
        }
      ],
      "source": [
        "# Тренування мережі\n",
        "\n",
        "loss_history = []  # кожні display_step кроків зберігай в цьому списку поточну помилку нейромережі\n",
        "accuracy_history = [] # кожні display_step кроків зберігай в цьому списку поточну точність нейромережі\n",
        "\n",
        "# У цьому циклі ми будемо проводити навчання нейронної мережі\n",
        "# із тренувального датасета train_data вилучи випадкову підмножину, на якій\n",
        "# відбудеться тренування. Використовуй метод take, доступний для тренувального датасета.\n",
        "for step, (batch_x, batch_y) in enumerate(train_data.take(training_steps), 1):\n",
        "    # Оновлюємо ваги нейронної мережі\n",
        "    train(neural_net, batch_x, batch_y)\n",
        "\n",
        "    if step % display_step == 0:\n",
        "        pred = neural_net(batch_x)\n",
        "        loss = cross_entropy(pred, batch_y)\n",
        "        acc = accuracy(pred, batch_y)\n",
        "        loss_history.append(loss.numpy())  # Додаємо поточну помилку до історії\n",
        "        accuracy_history.append(acc.numpy())  # Додаємо поточну точність до історії\n",
        "        print(\"Крок:\", step, \"Помилка:\", loss.numpy(), \"Точність:\", acc.numpy())\n"
      ]
    },
    {
      "cell_type": "code",
      "execution_count": null,
      "metadata": {
        "id": "_yCBfG6MbQB2"
      },
      "outputs": [],
      "source": [
        "# Виведіть графіки залежності зміни точності і втрат від кроку\n",
        "# Якщо все зроблено правильно, то точність повинна зростати, а втрати зменшуватись\n",
        "\n",
        "import matplotlib.pyplot as plt\n",
        "\n",
        "# Виведіть графік функції втрат\n",
        "# Місце для вашого коду\n",
        "\n",
        "# Виведіть графік точності\n",
        "# Місце для вашого коду\n"
      ]
    },
    {
      "cell_type": "code",
      "execution_count": null,
      "metadata": {
        "id": "LE3g4gDyUSNY"
      },
      "outputs": [],
      "source": [
        "# Обчисліть точність навченої нейромережі\n",
        "# Місце для вашого коду\n",
        "# Тестування моделі на тестових даних\n",
        "# Місце для вашого коду"
      ]
    },
    {
      "cell_type": "code",
      "execution_count": null,
      "metadata": {
        "id": "_EEHAubOUSNY"
      },
      "outputs": [],
      "source": [
        "# Протестуйте навчену нейромережу на 10 зображеннях. З тестової вибірки візьміть 5\n",
        "# випадкових зображень і передайте їх у нейронну мережу.\n",
        "# Виведіть зображення та випишіть  поруч відповідь нейромережі.\n",
        "# Зробіть висновок про те, чи помиляється твоя нейронна мережа, і якщо так, то як часто?\n",
        "\n",
        "# Місце для вашого коду\n",
        "\n",
        "\n"
      ]
    }
  ],
  "metadata": {
    "colab": {
      "provenance": [],
      "include_colab_link": true
    },
    "kernelspec": {
      "display_name": "Python 3",
      "name": "python3"
    },
    "language_info": {
      "codemirror_mode": {
        "name": "ipython",
        "version": 3
      },
      "file_extension": ".py",
      "mimetype": "text/x-python",
      "name": "python",
      "nbconvert_exporter": "python",
      "pygments_lexer": "ipython3",
      "version": "3.9.2"
    }
  },
  "nbformat": 4,
  "nbformat_minor": 0
}