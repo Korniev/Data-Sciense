{
 "cells": [
  {
   "cell_type": "markdown",
   "metadata": {},
   "source": [
    "                                                 Домашнє завдання N 7"
   ]
  },
  {
   "cell_type": "markdown",
   "metadata": {},
   "source": [
    "Так як ми працюємо з рекомендованними системами, по завданню нам радять використовувати бібліотеку Surprise, котра якраз є по суті додатком до знайомої нам бібліотеки scikit-learn для тренування моделей рекомендаційних систем.\n",
    "\n",
    "Тому давайте імпортуємо цю бібліотеку і також завантажимо потрібний датасет movielens на 100 к даних. Думаю, нам буде достатньо цих даних для виконання домашнього завдання:"
   ]
  },
  {
   "cell_type": "code",
   "execution_count": 4,
   "metadata": {},
   "outputs": [],
   "source": [
    "from surprise import Dataset, Reader, SVD, SVDpp, NMF\n",
    "from surprise.model_selection import cross_validate"
   ]
  },
  {
   "cell_type": "code",
   "execution_count": 5,
   "metadata": {},
   "outputs": [
    {
     "data": {
      "text/plain": [
       "<surprise.dataset.DatasetAutoFolds at 0x1195ad310>"
      ]
     },
     "execution_count": 5,
     "metadata": {},
     "output_type": "execute_result"
    }
   ],
   "source": [
    "dataset_path = './ml-100k/u.data'\n",
    "reader = Reader(line_format='user item rating timestamp', sep='\\t')\n",
    "data = Dataset.load_from_file(dataset_path, reader=reader)\n",
    "\n",
    "data"
   ]
  },
  {
   "cell_type": "markdown",
   "metadata": {},
   "source": [
    "Давайте спробуємо вивести перші 5 рядків, щоб побачити, які дані містить наш датасет. Для цього використаємо трохи інший ніж зазвичай метод виводу:"
   ]
  },
  {
   "cell_type": "code",
   "execution_count": 6,
   "metadata": {},
   "outputs": [
    {
     "name": "stdout",
     "output_type": "stream",
     "text": [
      "('196', '242', 3.0, '881250949')\n",
      "('186', '302', 3.0, '891717742')\n",
      "('22', '377', 1.0, '878887116')\n",
      "('244', '51', 2.0, '880606923')\n",
      "('166', '346', 1.0, '886397596')\n"
     ]
    }
   ],
   "source": [
    "N = 5\n",
    "data_raw = data.raw_ratings\n",
    "\n",
    "for i in range(N):\n",
    "    print(data_raw[i])\n",
    "\n"
   ]
  },
  {
   "cell_type": "markdown",
   "metadata": {},
   "source": [
    "Окей, супер!\n",
    "\n",
    "Тепер давайте побудуємо модел за допомогою 3 алгоритмів розграхунків: SVD, SVD++, NMF.\n",
    "\n",
    "Почнемо з SVD:"
   ]
  },
  {
   "cell_type": "code",
   "execution_count": 7,
   "metadata": {},
   "outputs": [
    {
     "name": "stdout",
     "output_type": "stream",
     "text": [
      "Evaluating RMSE, MAE of algorithm SVD on 5 split(s).\n",
      "\n",
      "                  Fold 1  Fold 2  Fold 3  Fold 4  Fold 5  Mean    Std     \n",
      "RMSE (testset)    0.9360  0.9307  0.9292  0.9380  0.9384  0.9345  0.0038  \n",
      "MAE (testset)     0.7374  0.7366  0.7319  0.7406  0.7400  0.7373  0.0031  \n",
      "Fit time          0.39    0.40    0.38    0.39    0.40    0.39    0.01    \n",
      "Test time         0.04    0.04    0.06    0.06    0.04    0.05    0.01    \n"
     ]
    },
    {
     "data": {
      "text/plain": [
       "{'test_rmse': array([0.93596623, 0.93071379, 0.92916717, 0.9380197 , 0.93841958]),\n",
       " 'test_mae': array([0.73743657, 0.73664825, 0.7319266 , 0.74056852, 0.73999327]),\n",
       " 'fit_time': (0.39029908180236816,\n",
       "  0.4037020206451416,\n",
       "  0.3790609836578369,\n",
       "  0.3901810646057129,\n",
       "  0.3962550163269043),\n",
       " 'test_time': (0.038311004638671875,\n",
       "  0.03725600242614746,\n",
       "  0.0580441951751709,\n",
       "  0.06064009666442871,\n",
       "  0.03810715675354004)}"
      ]
     },
     "execution_count": 7,
     "metadata": {},
     "output_type": "execute_result"
    }
   ],
   "source": [
    "algo = SVD()\n",
    "\n",
    "cross_validate(algo, data, measures=['RMSE', 'MAE'], cv=5, verbose=True)"
   ]
  },
  {
   "cell_type": "markdown",
   "metadata": {},
   "source": [
    "Тепер те саме зробимо з SVD++:"
   ]
  },
  {
   "cell_type": "code",
   "execution_count": 8,
   "metadata": {},
   "outputs": [
    {
     "name": "stdout",
     "output_type": "stream",
     "text": [
      "Evaluating RMSE, MAE of algorithm SVDpp on 5 split(s).\n",
      "\n",
      "                  Fold 1  Fold 2  Fold 3  Fold 4  Fold 5  Mean    Std     \n",
      "RMSE (testset)    0.9200  0.9208  0.9175  0.9180  0.9205  0.9194  0.0013  \n",
      "MAE (testset)     0.7197  0.7225  0.7192  0.7210  0.7241  0.7213  0.0018  \n",
      "Fit time          6.09    6.13    6.18    6.15    6.22    6.15    0.04    \n",
      "Test time         1.25    1.26    1.27    1.28    1.28    1.27    0.01    \n"
     ]
    },
    {
     "data": {
      "text/plain": [
       "{'test_rmse': array([0.91999709, 0.92078641, 0.91752432, 0.91800438, 0.92047225]),\n",
       " 'test_mae': array([0.71967915, 0.72254102, 0.71920926, 0.72097416, 0.72414852]),\n",
       " 'fit_time': (6.088117837905884,\n",
       "  6.129518270492554,\n",
       "  6.179074048995972,\n",
       "  6.150877952575684,\n",
       "  6.2154762744903564),\n",
       " 'test_time': (1.2491528987884521,\n",
       "  1.2640938758850098,\n",
       "  1.2745099067687988,\n",
       "  1.2801599502563477,\n",
       "  1.2845590114593506)}"
      ]
     },
     "execution_count": 8,
     "metadata": {},
     "output_type": "execute_result"
    }
   ],
   "source": [
    "algo_svdpp = SVDpp()\n",
    "\n",
    "cross_validate(algo_svdpp, data, measures=['RMSE', 'MAE'], cv=5, verbose=True)"
   ]
  },
  {
   "cell_type": "markdown",
   "metadata": {},
   "source": [
    "І також використовуючи NMF модель:"
   ]
  },
  {
   "cell_type": "code",
   "execution_count": 9,
   "metadata": {},
   "outputs": [
    {
     "name": "stdout",
     "output_type": "stream",
     "text": [
      "Evaluating RMSE, MAE of algorithm NMF on 5 split(s).\n",
      "\n",
      "                  Fold 1  Fold 2  Fold 3  Fold 4  Fold 5  Mean    Std     \n",
      "RMSE (testset)    0.9671  0.9687  0.9629  0.9582  0.9672  0.9648  0.0038  \n",
      "MAE (testset)     0.7620  0.7588  0.7551  0.7533  0.7568  0.7572  0.0030  \n",
      "Fit time          0.50    0.53    0.49    0.48    0.48    0.49    0.02    \n",
      "Test time         0.06    0.06    0.06    0.03    0.06    0.06    0.01    \n"
     ]
    },
    {
     "data": {
      "text/plain": [
       "{'test_rmse': array([0.96706594, 0.96874293, 0.96292619, 0.95823171, 0.96720778]),\n",
       " 'test_mae': array([0.76195328, 0.75875549, 0.75505491, 0.75328049, 0.75682189]),\n",
       " 'fit_time': (0.4980957508087158,\n",
       "  0.5279371738433838,\n",
       "  0.48900413513183594,\n",
       "  0.47606587409973145,\n",
       "  0.4817488193511963),\n",
       " 'test_time': (0.06377315521240234,\n",
       "  0.05922102928161621,\n",
       "  0.06195688247680664,\n",
       "  0.030456066131591797,\n",
       "  0.05999398231506348)}"
      ]
     },
     "execution_count": 9,
     "metadata": {},
     "output_type": "execute_result"
    }
   ],
   "source": [
    "algo_nmf = NMF()\n",
    "\n",
    "cross_validate(algo_nmf, data, measures=['RMSE', 'MAE'], cv=5, verbose=True)"
   ]
  },
  {
   "cell_type": "markdown",
   "metadata": {},
   "source": [
    "Ми отримали результати оцінок RMSE та MAE всіх 3 алгоритмів. Давайте проаналізуємо отримані дані та зробимо висновки:\n",
    "\n",
    "Алгоритм SVD: Має середнє значення RMSE приблизно 0.9345 і MAE приблизно 0.7373. Цей алгоритм показав непогані результати з помірним часом навчання та тестування.\n",
    "\n",
    "Алгоритм SVD++: Показав кращі результати за RMSE (середнє 0.9194) та MAE (середнє 0.7213) порівняно з SVD, що свідчить про вищу точність прогнозування. Однак, час навчання та тестування значно вищий, що є важливим аспектом для великих наборів даних або обмежених обчислювальних ресурсів.\n",
    "\n",
    "Алгоритм NMF: Має найвищі значення помилок RMSE (середнє 0.9648) та MAE (середнє 0.7572) серед трьох розглянутих алгоритмів, що вказує на нижчу точність прогнозування порівняно з SVD та SVD++. Час навчання та тестування подібний до SVD.\n",
    "\n",
    "Як висновок, можемо зазначити, що найбільш вдалим тут здається вибір алгоритму SVD++, так як в нас датасет не такий великий. Якби ми взяли датасет не на 100к а на 1М даних, то досить велика ймовірність, що краще б було тоді застосовувати алгоритм SVD."
   ]
  }
 ],
 "metadata": {
  "kernelspec": {
   "display_name": "Python 3",
   "language": "python",
   "name": "python3"
  },
  "language_info": {
   "codemirror_mode": {
    "name": "ipython",
    "version": 3
   },
   "file_extension": ".py",
   "mimetype": "text/x-python",
   "name": "python",
   "nbconvert_exporter": "python",
   "pygments_lexer": "ipython3",
   "version": "3.11.8"
  },
  "orig_nbformat": 4
 },
 "nbformat": 4,
 "nbformat_minor": 2
}
