{
 "cells": [
  {
   "cell_type": "markdown",
   "metadata": {},
   "source": [
    "                                                 Домашнє завдання N 7"
   ]
  },
  {
   "cell_type": "markdown",
   "metadata": {},
   "source": [
    "Так як ми працюємо з рекомендованними системами, по завданню нам радять використовувати бібліотеку Surprise, котра якраз є по суті додатком до знайомої нам бібліотеки scikit-learn для тренування моделей рекомендаційних систем.\n",
    "\n",
    "Тому давайте імпортуємо цю бібліотеку і також завантажимо потрібний датасет movielens на 100 к даних. Думаю, нам буде достатньо цих даних для виконання домашнього завдання:"
   ]
  },
  {
   "cell_type": "code",
   "execution_count": 14,
   "metadata": {},
   "outputs": [],
   "source": [
    "from surprise import Dataset, Reader, SVD, SVDpp, NMF, accuracy\n",
    "from surprise.model_selection import cross_validate, GridSearchCV, train_test_split"
   ]
  },
  {
   "cell_type": "code",
   "execution_count": 15,
   "metadata": {},
   "outputs": [
    {
     "data": {
      "text/plain": [
       "<surprise.dataset.DatasetAutoFolds at 0x166cf63d0>"
      ]
     },
     "execution_count": 15,
     "metadata": {},
     "output_type": "execute_result"
    }
   ],
   "source": [
    "dataset_path = './ml-100k/u.data'\n",
    "reader = Reader(line_format='user item rating timestamp', sep='\\t')\n",
    "data = Dataset.load_from_file(dataset_path, reader=reader)\n",
    "\n",
    "data"
   ]
  },
  {
   "cell_type": "markdown",
   "metadata": {},
   "source": [
    "Давайте спробуємо вивести перші 5 рядків, щоб побачити, які дані містить наш датасет. Для цього використаємо трохи інший ніж зазвичай метод виводу:"
   ]
  },
  {
   "cell_type": "code",
   "execution_count": 16,
   "metadata": {},
   "outputs": [
    {
     "name": "stdout",
     "output_type": "stream",
     "text": [
      "('196', '242', 3.0, '881250949')\n",
      "('186', '302', 3.0, '891717742')\n",
      "('22', '377', 1.0, '878887116')\n",
      "('244', '51', 2.0, '880606923')\n",
      "('166', '346', 1.0, '886397596')\n"
     ]
    }
   ],
   "source": [
    "N = 5\n",
    "data_raw = data.raw_ratings\n",
    "\n",
    "for i in range(N):\n",
    "    print(data_raw[i])\n",
    "\n"
   ]
  },
  {
   "cell_type": "markdown",
   "metadata": {},
   "source": [
    "Окей, супер!\n",
    "\n",
    "Тепер давайте побудуємо модел за допомогою 3 алгоритмів розграхунків: SVD, SVD++, NMF.\n",
    "\n",
    "Почнемо з SVD:"
   ]
  },
  {
   "cell_type": "code",
   "execution_count": 17,
   "metadata": {},
   "outputs": [
    {
     "name": "stdout",
     "output_type": "stream",
     "text": [
      "Evaluating RMSE, MAE of algorithm SVD on 5 split(s).\n",
      "\n",
      "                  Fold 1  Fold 2  Fold 3  Fold 4  Fold 5  Mean    Std     \n",
      "RMSE (testset)    0.9436  0.9458  0.9264  0.9307  0.9321  0.9357  0.0076  \n",
      "MAE (testset)     0.7439  0.7452  0.7310  0.7323  0.7327  0.7370  0.0062  \n",
      "Fit time          0.40    0.42    0.40    0.41    0.39    0.40    0.01    \n",
      "Test time         0.04    0.08    0.04    0.07    0.04    0.05    0.02    \n"
     ]
    },
    {
     "data": {
      "text/plain": [
       "{'test_rmse': array([0.94355891, 0.94580925, 0.92637042, 0.9307119 , 0.93206893]),\n",
       " 'test_mae': array([0.74391797, 0.74518466, 0.73096687, 0.73230874, 0.73274906]),\n",
       " 'fit_time': (0.3966357707977295,\n",
       "  0.41954708099365234,\n",
       "  0.40049099922180176,\n",
       "  0.4140768051147461,\n",
       "  0.3933539390563965),\n",
       " 'test_time': (0.04121708869934082,\n",
       "  0.07804298400878906,\n",
       "  0.04050016403198242,\n",
       "  0.06846475601196289,\n",
       "  0.03858208656311035)}"
      ]
     },
     "execution_count": 17,
     "metadata": {},
     "output_type": "execute_result"
    }
   ],
   "source": [
    "algo = SVD()\n",
    "\n",
    "cross_validate(algo, data, measures=['RMSE', 'MAE'], cv=5, verbose=True)"
   ]
  },
  {
   "cell_type": "markdown",
   "metadata": {},
   "source": [
    "Тепер те саме зробимо з SVD++:"
   ]
  },
  {
   "cell_type": "code",
   "execution_count": 19,
   "metadata": {},
   "outputs": [
    {
     "name": "stdout",
     "output_type": "stream",
     "text": [
      "Evaluating RMSE, MAE of algorithm SVDpp on 5 split(s).\n",
      "\n",
      "                  Fold 1  Fold 2  Fold 3  Fold 4  Fold 5  Mean    Std     \n",
      "RMSE (testset)    0.9129  0.9245  0.9243  0.9185  0.9173  0.9195  0.0044  \n",
      "MAE (testset)     0.7172  0.7251  0.7274  0.7207  0.7189  0.7219  0.0038  \n",
      "Fit time          6.22    6.20    6.17    6.20    6.20    6.20    0.02    \n",
      "Test time         1.27    1.39    1.27    1.27    1.24    1.29    0.05    \n"
     ]
    },
    {
     "data": {
      "text/plain": [
       "{'test_rmse': array([0.91290831, 0.9245108 , 0.92433798, 0.91847836, 0.91729666]),\n",
       " 'test_mae': array([0.71717114, 0.72509072, 0.72744894, 0.72069261, 0.71889752]),\n",
       " 'fit_time': (6.219732999801636,\n",
       "  6.20491886138916,\n",
       "  6.173144102096558,\n",
       "  6.197020769119263,\n",
       "  6.202402114868164),\n",
       " 'test_time': (1.272925853729248,\n",
       "  1.3863019943237305,\n",
       "  1.2734310626983643,\n",
       "  1.2732832431793213,\n",
       "  1.2384650707244873)}"
      ]
     },
     "execution_count": 19,
     "metadata": {},
     "output_type": "execute_result"
    }
   ],
   "source": [
    "algo_svdpp = SVDpp()\n",
    "\n",
    "cross_validate(algo_svdpp, data, measures=['RMSE', 'MAE'], cv=5, verbose=True)"
   ]
  },
  {
   "cell_type": "markdown",
   "metadata": {},
   "source": [
    "І також використовуючи NMF модель:"
   ]
  },
  {
   "cell_type": "code",
   "execution_count": 18,
   "metadata": {},
   "outputs": [
    {
     "name": "stdout",
     "output_type": "stream",
     "text": [
      "Evaluating RMSE, MAE of algorithm NMF on 5 split(s).\n",
      "\n",
      "                  Fold 1  Fold 2  Fold 3  Fold 4  Fold 5  Mean    Std     \n",
      "RMSE (testset)    0.9598  0.9682  0.9562  0.9636  0.9705  0.9637  0.0053  \n",
      "MAE (testset)     0.7541  0.7606  0.7538  0.7575  0.7602  0.7572  0.0029  \n",
      "Fit time          0.49    0.53    0.56    0.52    0.50    0.52    0.02    \n",
      "Test time         0.03    0.07    0.03    0.06    0.07    0.05    0.02    \n"
     ]
    },
    {
     "data": {
      "text/plain": [
       "{'test_rmse': array([0.9598035 , 0.96819726, 0.95619876, 0.96356991, 0.97052899]),\n",
       " 'test_mae': array([0.75412418, 0.76059835, 0.75377835, 0.75751824, 0.76021553]),\n",
       " 'fit_time': (0.4933629035949707,\n",
       "  0.5319468975067139,\n",
       "  0.5617573261260986,\n",
       "  0.5234808921813965,\n",
       "  0.500504732131958),\n",
       " 'test_time': (0.03200697898864746,\n",
       "  0.0690619945526123,\n",
       "  0.03126978874206543,\n",
       "  0.06434202194213867,\n",
       "  0.06702733039855957)}"
      ]
     },
     "execution_count": 18,
     "metadata": {},
     "output_type": "execute_result"
    }
   ],
   "source": [
    "algo_nmf = NMF()\n",
    "\n",
    "cross_validate(algo_nmf, data, measures=['RMSE', 'MAE'], cv=5, verbose=True)"
   ]
  },
  {
   "cell_type": "markdown",
   "metadata": {},
   "source": [
    "Ми отримали результати оцінок RMSE та MAE всіх 3 алгоритмів. Давайте проаналізуємо отримані дані та зробимо висновки:\n",
    "\n",
    "Алгоритм SVD: Має середнє значення RMSE приблизно 0.9345 і MAE приблизно 0.7373. Цей алгоритм показав непогані результати з помірним часом навчання та тестування.\n",
    "\n",
    "Алгоритм SVD++: Показав кращі результати за RMSE (середнє 0.9194) та MAE (середнє 0.7213) порівняно з SVD, що свідчить про вищу точність прогнозування. Однак, час навчання та тестування значно вищий, що є важливим аспектом для великих наборів даних або обмежених обчислювальних ресурсів.\n",
    "\n",
    "Алгоритм NMF: Має найвищі значення помилок RMSE (середнє 0.9648) та MAE (середнє 0.7572) серед трьох розглянутих алгоритмів, що вказує на нижчу точність прогнозування порівняно з SVD та SVD++. Час навчання та тестування подібний до SVD.\n",
    "\n",
    "Як висновок, можемо зазначити, що найбільш вдалим тут здається вибір алгоритму SVD++, так як в нас датасет не такий великий. Якби ми взяли датасет не на 100к а на 1М даних, то досить велика ймовірність, що краще б було тоді застосовувати алгоритм SVD."
   ]
  },
  {
   "cell_type": "markdown",
   "metadata": {},
   "source": [
    "Ми знайшли оптимальний алгоритм на основі пошуку параметрів RMSE,MAE через cross_validation.\n",
    "\n",
    "Тепер же давайте застосуємо метод GridSearchCV для пошуку оптимальних гіперпараметрів. Для цього використаємо розділ документації бібліотеки surprise: Tune algorithm parameters with GridSearchCV.\n",
    "\n",
    "Зробимо це для алгоритму SVD++, так як він показався найбільш оптимальним, хоча достатньо ресурсно-залежний:"
   ]
  },
  {
   "cell_type": "code",
   "execution_count": 25,
   "metadata": {},
   "outputs": [
    {
     "name": "stdout",
     "output_type": "stream",
     "text": [
      "RMSE for SVD++: 0.9639470856624867\n",
      "{'n_epochs': 10, 'lr_all': 0.005, 'reg_all': 0.4}\n",
      "MAE for SVD++: 0.7725249391418725\n",
      "{'n_epochs': 10, 'lr_all': 0.005, 'reg_all': 0.4}\n"
     ]
    }
   ],
   "source": [
    "param_grid = {\"n_epochs\": [5, 10], \"lr_all\": [0.002, 0.005], \"reg_all\": [0.4, 0.6]}\n",
    "gs = GridSearchCV(SVDpp, param_grid, measures=[\"rmse\", \"mae\"], cv=3)\n",
    "\n",
    "gs.fit(data)\n",
    "\n",
    "print(f\"RMSE for SVD++: {gs.best_score['rmse']}\")\n",
    "print(gs.best_params['rmse'])\n",
    "print(f\"MAE for SVD++: {gs.best_score['mae']}\")\n",
    "print(gs.best_params['mae'])\n",
    "\n",
    "algo_rmse_svd_pp = SVDpp(**gs.best_params['rmse'])\n",
    "algo_mae_svd_pp = SVDpp(**gs.best_params['mae'])"
   ]
  },
  {
   "cell_type": "markdown",
   "metadata": {},
   "source": [
    "Тепер, коли у нас є модель, яка оптимізована за обома метриками і підібрані гіперпараметри, ми можемо провести оцінку на тестовому наборі для перевірки точності. Для цього розділимо наш датасет на тренувальний і тестовий у пропорції 80 на 20:"
   ]
  },
  {
   "cell_type": "code",
   "execution_count": 26,
   "metadata": {},
   "outputs": [],
   "source": [
    "trainset, testset = train_test_split(data, test_size=0.2)"
   ]
  },
  {
   "cell_type": "markdown",
   "metadata": {},
   "source": [
    "Тепер навчимо нашу модель на тренувальному наборі:"
   ]
  },
  {
   "cell_type": "code",
   "execution_count": 27,
   "metadata": {},
   "outputs": [
    {
     "data": {
      "text/plain": [
       "<surprise.prediction_algorithms.matrix_factorization.SVDpp at 0x30287c410>"
      ]
     },
     "execution_count": 27,
     "metadata": {},
     "output_type": "execute_result"
    }
   ],
   "source": [
    "algo_rmse_svd_pp.fit(trainset)\n",
    "algo_mae_svd_pp.fit(trainset)"
   ]
  },
  {
   "cell_type": "markdown",
   "metadata": {},
   "source": [
    "Тепер отримаємо прогнози на нашому тестовому наборі:"
   ]
  },
  {
   "cell_type": "code",
   "execution_count": 28,
   "metadata": {},
   "outputs": [],
   "source": [
    "predictions_rmse = algo_rmse_svd_pp.test(testset)\n",
    "predictions_mae = algo_mae_svd_pp.test(testset)"
   ]
  },
  {
   "cell_type": "markdown",
   "metadata": {},
   "source": [
    "І тепер проведемо оцінку моделі:"
   ]
  },
  {
   "cell_type": "code",
   "execution_count": 29,
   "metadata": {},
   "outputs": [
    {
     "name": "stdout",
     "output_type": "stream",
     "text": [
      "RMSE: 0.9660\n",
      "MAE:  0.7739\n"
     ]
    }
   ],
   "source": [
    "accuracy_rmse_svd_pp = accuracy.rmse(predictions_rmse)\n",
    "accuracy_mae_svd_pp = accuracy.mae(predictions_mae)"
   ]
  },
  {
   "cell_type": "markdown",
   "metadata": {},
   "source": [
    "Давайте зробимо пошук оптимальних гіперпараметрів для алгоритмів SVD та NMF і потім оцінимо отримані результати.\n",
    "\n",
    "Для алгоритму SVD:"
   ]
  },
  {
   "cell_type": "code",
   "execution_count": 31,
   "metadata": {},
   "outputs": [
    {
     "name": "stdout",
     "output_type": "stream",
     "text": [
      "RMSE for SVD: 0.9639574246997262\n",
      "{'n_epochs': 10, 'lr_all': 0.005, 'reg_all': 0.4}\n",
      "MAE for SVD: 0.772689612058347\n",
      "{'n_epochs': 10, 'lr_all': 0.005, 'reg_all': 0.4}\n"
     ]
    }
   ],
   "source": [
    "param_grid = {\"n_epochs\": [5, 10], \"lr_all\": [0.002, 0.005], \"reg_all\": [0.4, 0.6]}\n",
    "gs = GridSearchCV(SVD, param_grid, measures=[\"rmse\", \"mae\"], cv=3)\n",
    "\n",
    "gs.fit(data)\n",
    "\n",
    "print(f\"RMSE for SVD: {gs.best_score['rmse']}\")\n",
    "print(gs.best_params['rmse'])\n",
    "print(f\"MAE for SVD: {gs.best_score['mae']}\")\n",
    "print(gs.best_params['mae'])\n",
    "\n",
    "algo_rmse_svd = SVD(**gs.best_params['rmse'])\n",
    "algo_mae_svd = SVD(**gs.best_params['mae'])"
   ]
  },
  {
   "cell_type": "code",
   "execution_count": 32,
   "metadata": {},
   "outputs": [
    {
     "name": "stdout",
     "output_type": "stream",
     "text": [
      "RMSE: 0.9573\n",
      "MAE:  0.7693\n"
     ]
    }
   ],
   "source": [
    "trainset, testset = train_test_split(data, test_size=0.2)\n",
    "\n",
    "algo_rmse_svd.fit(trainset)\n",
    "algo_mae_svd.fit(trainset)\n",
    "\n",
    "predictions_rmse = algo_rmse_svd.test(testset)\n",
    "predictions_mae = algo_mae_svd.test(testset)\n",
    "\n",
    "accuracy_rmse_svd = accuracy.rmse(predictions_rmse)\n",
    "accuracy_mae_svd = accuracy.mae(predictions_mae)"
   ]
  },
  {
   "cell_type": "markdown",
   "metadata": {},
   "source": [
    "Для алгоритму NMF:"
   ]
  },
  {
   "cell_type": "code",
   "execution_count": 34,
   "metadata": {},
   "outputs": [
    {
     "name": "stdout",
     "output_type": "stream",
     "text": [
      "RMSE for NMF: 0.9688716985963349\n",
      "{'n_epochs': 10, 'n_factors': 15, 'reg_pu': 0.15, 'reg_qi': 0.15}\n",
      "MAE for NMF: 0.7622409007043022\n",
      "{'n_epochs': 10, 'n_factors': 15, 'reg_pu': 0.1, 'reg_qi': 0.15}\n"
     ]
    }
   ],
   "source": [
    "param_grid = {\"n_epochs\": [5, 10], \"n_factors\": [15, 50, 100], \"reg_pu\": [0.05, 0.1, 0.15], \"reg_qi\": [0.05, 0.1, 0.15]}\n",
    "gs = GridSearchCV(NMF, param_grid, measures=[\"rmse\", \"mae\"], cv=3)\n",
    "\n",
    "gs.fit(data)\n",
    "\n",
    "print(f\"RMSE for NMF: {gs.best_score['rmse']}\")\n",
    "print(gs.best_params['rmse'])\n",
    "print(f\"MAE for NMF: {gs.best_score['mae']}\")\n",
    "print(gs.best_params['mae'])\n",
    "\n",
    "algo_rmse_nmf = NMF(**gs.best_params['rmse'])\n",
    "algo_mae_nmf = NMF(**gs.best_params['mae'])"
   ]
  },
  {
   "cell_type": "code",
   "execution_count": 35,
   "metadata": {},
   "outputs": [
    {
     "name": "stdout",
     "output_type": "stream",
     "text": [
      "RMSE: 0.9618\n",
      "MAE:  0.7550\n"
     ]
    }
   ],
   "source": [
    "trainset, testset = train_test_split(data, test_size=0.2)\n",
    "\n",
    "algo_rmse_nmf.fit(trainset)\n",
    "algo_mae_nmf.fit(trainset)\n",
    "\n",
    "predictions_rmse = algo_rmse_nmf.test(testset)\n",
    "predictions_mae = algo_mae_nmf.test(testset)\n",
    "\n",
    "accuracy_rmse_nmf = accuracy.rmse(predictions_rmse)\n",
    "accuracy_mae_nmf = accuracy.mae(predictions_mae)"
   ]
  },
  {
   "cell_type": "markdown",
   "metadata": {},
   "source": [
    "Тепер виведемо усі RMSE,MAE для всіх 3-х алгоритмів:"
   ]
  },
  {
   "cell_type": "code",
   "execution_count": 38,
   "metadata": {},
   "outputs": [
    {
     "name": "stdout",
     "output_type": "stream",
     "text": [
      "SVD++:\n",
      "RMSE: 0.9618\n",
      "MAE:  0.7550\n",
      "\n",
      "SVD:\n",
      "RMSE: 0.9618\n",
      "MAE:  0.7550\n",
      "\n",
      "NMF:\n",
      "RMSE: 0.9618\n",
      "MAE:  0.7550\n"
     ]
    }
   ],
   "source": [
    "print(\"SVD++:\")\n",
    "accuracy_rmse_svd_pp = accuracy.rmse(predictions_rmse)\n",
    "accuracy_mae_svd_pp = accuracy.mae(predictions_mae)\n",
    "print(\"\\nSVD:\")\n",
    "accuracy_rmse_svd = accuracy.rmse(predictions_rmse)\n",
    "accuracy_mae_svd = accuracy.mae(predictions_mae)\n",
    "print(\"\\nNMF:\")\n",
    "accuracy_rmse_nmf = accuracy.rmse(predictions_rmse)\n",
    "accuracy_mae_nmf = accuracy.mae(predictions_mae)"
   ]
  },
  {
   "cell_type": "markdown",
   "metadata": {},
   "source": [
    "Здається, алгоритм SVD показав найкращий результат за метрикою RMSE (0.9573) та майже найкращий за MAE (0.7693), що свідчить про добру здатність моделі загалом передбачати оцінки, особливо з точки зору квадратичних помилок.\n",
    "\n",
    "По методу cross_validation найкращим був SVD++. \n",
    "Можливо, це повʼязано з тим, що в param_grid для GridSearchCV я задав не найкращі параметри для SVD++..."
   ]
  }
 ],
 "metadata": {
  "kernelspec": {
   "display_name": "Python 3",
   "language": "python",
   "name": "python3"
  },
  "language_info": {
   "codemirror_mode": {
    "name": "ipython",
    "version": 3
   },
   "file_extension": ".py",
   "mimetype": "text/x-python",
   "name": "python",
   "nbconvert_exporter": "python",
   "pygments_lexer": "ipython3",
   "version": "3.11.8"
  },
  "orig_nbformat": 4
 },
 "nbformat": 4,
 "nbformat_minor": 2
}
