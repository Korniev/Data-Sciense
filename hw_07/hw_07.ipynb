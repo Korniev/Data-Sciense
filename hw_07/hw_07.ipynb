{
 "cells": [
  {
   "cell_type": "markdown",
   "metadata": {},
   "source": [
    "                                                 Домашнє завдання N 7"
   ]
  },
  {
   "cell_type": "markdown",
   "metadata": {},
   "source": [
    "Так як ми працюємо з рекомендованними системами, по завданню нам радять використовувати бібліотеку Surprise, котра якраз є по суті додатком до знайомої нам бібліотеки scikit-learn для тренування моделей рекомендаційних систем.\n",
    "\n",
    "Тому давайте імпортуємо цю бібліотеку і також завантажимо потрібний датасет movielens на 100 к даних. Думаю, нам буде достатньо цих даних для виконання домашнього завдання:"
   ]
  },
  {
   "cell_type": "code",
   "execution_count": 1,
   "metadata": {},
   "outputs": [],
   "source": [
    "import numpy as np\n",
    "import pandas as pd\n",
    "import matplotlib.pyplot as plt\n",
    "from surprise import Dataset, Reader, SVD, SVDpp, NMF, accuracy\n",
    "from surprise.model_selection import cross_validate, GridSearchCV, train_test_split"
   ]
  },
  {
   "cell_type": "code",
   "execution_count": 2,
   "metadata": {},
   "outputs": [
    {
     "data": {
      "text/plain": [
       "<surprise.dataset.DatasetAutoFolds at 0x12f39e4d0>"
      ]
     },
     "execution_count": 2,
     "metadata": {},
     "output_type": "execute_result"
    }
   ],
   "source": [
    "dataset_path = './ml-100k/u.data'\n",
    "reader = Reader(line_format='user item rating timestamp', sep='\\t')\n",
    "data = Dataset.load_from_file(dataset_path, reader=reader)\n",
    "\n",
    "data"
   ]
  },
  {
   "cell_type": "markdown",
   "metadata": {},
   "source": [
    "Давайте спробуємо вивести перші 5 рядків, щоб побачити, які дані містить наш датасет. Для цього використаємо трохи інший ніж зазвичай метод виводу:"
   ]
  },
  {
   "cell_type": "code",
   "execution_count": 4,
   "metadata": {},
   "outputs": [
    {
     "name": "stdout",
     "output_type": "stream",
     "text": [
      "('196', '242', 3.0, '881250949')\n",
      "('186', '302', 3.0, '891717742')\n",
      "('22', '377', 1.0, '878887116')\n",
      "('244', '51', 2.0, '880606923')\n",
      "('166', '346', 1.0, '886397596')\n"
     ]
    }
   ],
   "source": [
    "N = 5\n",
    "data_raw = data.raw_ratings\n",
    "\n",
    "for i in range(N):\n",
    "    print(data_raw[i])\n",
    "\n"
   ]
  },
  {
   "cell_type": "markdown",
   "metadata": {},
   "source": [
    "Окей, супер!\n",
    "\n",
    "Тепер давайте побудуємо модель за допомогою 3 алгоритмів розграхунків: SVD, SVD++, NMF та вкористаємо cross_validation для пошуку параметрів RMSE та MAE\n",
    "\n",
    "Почнемо з SVD:"
   ]
  },
  {
   "cell_type": "code",
   "execution_count": 5,
   "metadata": {},
   "outputs": [
    {
     "name": "stdout",
     "output_type": "stream",
     "text": [
      "Evaluating RMSE, MAE of algorithm SVD on 5 split(s).\n",
      "\n",
      "                  Fold 1  Fold 2  Fold 3  Fold 4  Fold 5  Mean    Std     \n",
      "RMSE (testset)    0.9311  0.9363  0.9460  0.9391  0.9269  0.9359  0.0066  \n",
      "MAE (testset)     0.7325  0.7365  0.7443  0.7410  0.7324  0.7374  0.0047  \n",
      "Fit time          0.39    0.42    0.39    0.41    0.40    0.40    0.01    \n",
      "Test time         0.04    0.07    0.04    0.07    0.04    0.05    0.02    \n"
     ]
    },
    {
     "data": {
      "text/plain": [
       "{'test_rmse': array([0.93112719, 0.93629776, 0.94600246, 0.93906143, 0.92688007]),\n",
       " 'test_mae': array([0.73251491, 0.73654293, 0.74433736, 0.74103845, 0.73243902]),\n",
       " 'fit_time': (0.389301061630249,\n",
       "  0.4224691390991211,\n",
       "  0.39185023307800293,\n",
       "  0.4097752571105957,\n",
       "  0.39676690101623535),\n",
       " 'test_time': (0.03851604461669922,\n",
       "  0.07335495948791504,\n",
       "  0.03801584243774414,\n",
       "  0.07043886184692383,\n",
       "  0.03802824020385742)}"
      ]
     },
     "execution_count": 5,
     "metadata": {},
     "output_type": "execute_result"
    }
   ],
   "source": [
    "algo = SVD()\n",
    "\n",
    "cross_validate(algo, data, measures=['RMSE', 'MAE'], cv=5, verbose=True)"
   ]
  },
  {
   "cell_type": "markdown",
   "metadata": {},
   "source": [
    "Тепер те саме зробимо з SVD++:"
   ]
  },
  {
   "cell_type": "code",
   "execution_count": 6,
   "metadata": {},
   "outputs": [
    {
     "name": "stdout",
     "output_type": "stream",
     "text": [
      "Evaluating RMSE, MAE of algorithm SVDpp on 5 split(s).\n",
      "\n",
      "                  Fold 1  Fold 2  Fold 3  Fold 4  Fold 5  Mean    Std     \n",
      "RMSE (testset)    0.9188  0.9187  0.9212  0.9163  0.9208  0.9191  0.0018  \n",
      "MAE (testset)     0.7215  0.7221  0.7227  0.7178  0.7206  0.7209  0.0017  \n",
      "Fit time          6.15    6.11    6.09    6.11    6.14    6.12    0.02    \n",
      "Test time         1.39    1.27    1.29    1.25    1.25    1.29    0.05    \n"
     ]
    },
    {
     "data": {
      "text/plain": [
       "{'test_rmse': array([0.91875943, 0.91873051, 0.92119281, 0.91626255, 0.92080444]),\n",
       " 'test_mae': array([0.72151795, 0.72210513, 0.72266949, 0.71778294, 0.7206186 ]),\n",
       " 'fit_time': (6.150278806686401,\n",
       "  6.112303256988525,\n",
       "  6.089151859283447,\n",
       "  6.1125168800354,\n",
       "  6.142814874649048),\n",
       " 'test_time': (1.3883302211761475,\n",
       "  1.2664849758148193,\n",
       "  1.2880439758300781,\n",
       "  1.2465968132019043,\n",
       "  1.2509219646453857)}"
      ]
     },
     "execution_count": 6,
     "metadata": {},
     "output_type": "execute_result"
    }
   ],
   "source": [
    "algo_svdpp = SVDpp()\n",
    "\n",
    "cross_validate(algo_svdpp, data, measures=['RMSE', 'MAE'], cv=5, verbose=True)"
   ]
  },
  {
   "cell_type": "markdown",
   "metadata": {},
   "source": [
    "І також використовуючи NMF модель:"
   ]
  },
  {
   "cell_type": "code",
   "execution_count": 7,
   "metadata": {},
   "outputs": [
    {
     "name": "stdout",
     "output_type": "stream",
     "text": [
      "Evaluating RMSE, MAE of algorithm NMF on 5 split(s).\n",
      "\n",
      "                  Fold 1  Fold 2  Fold 3  Fold 4  Fold 5  Mean    Std     \n",
      "RMSE (testset)    0.9677  0.9658  0.9608  0.9715  0.9595  0.9651  0.0044  \n",
      "MAE (testset)     0.7585  0.7577  0.7578  0.7629  0.7538  0.7581  0.0029  \n",
      "Fit time          0.50    0.53    0.52    0.55    0.52    0.53    0.02    \n",
      "Test time         0.07    0.03    0.08    0.03    0.08    0.06    0.02    \n"
     ]
    },
    {
     "data": {
      "text/plain": [
       "{'test_rmse': array([0.96770482, 0.96582384, 0.96084661, 0.97145851, 0.959537  ]),\n",
       " 'test_mae': array([0.75851115, 0.75772405, 0.75776103, 0.76289388, 0.75379381]),\n",
       " 'fit_time': (0.5023519992828369,\n",
       "  0.5264167785644531,\n",
       "  0.5239381790161133,\n",
       "  0.5527348518371582,\n",
       "  0.523327112197876),\n",
       " 'test_time': (0.07097816467285156,\n",
       "  0.031109094619750977,\n",
       "  0.07519292831420898,\n",
       "  0.03355097770690918,\n",
       "  0.07794475555419922)}"
      ]
     },
     "execution_count": 7,
     "metadata": {},
     "output_type": "execute_result"
    }
   ],
   "source": [
    "algo_nmf = NMF()\n",
    "\n",
    "cross_validate(algo_nmf, data, measures=['RMSE', 'MAE'], cv=5, verbose=True)"
   ]
  },
  {
   "cell_type": "markdown",
   "metadata": {},
   "source": [
    "Ми отримали результати оцінок RMSE та MAE всіх 3 алгоритмів. Давайте проаналізуємо отримані дані та зробимо висновки:\n",
    "\n",
    "Алгоритм SVD: Має середнє значення RMSE приблизно 0.9345 і MAE приблизно 0.7373. Цей алгоритм показав непогані результати з помірним часом навчання та тестування.\n",
    "\n",
    "Алгоритм SVD++: Показав кращі результати за RMSE (середнє 0.9194) та MAE (середнє 0.7213) порівняно з SVD, що свідчить про вищу точність прогнозування. Однак, час навчання та тестування значно вищий, що є важливим аспектом для великих наборів даних або обмежених обчислювальних ресурсів.\n",
    "\n",
    "Алгоритм NMF: Має найвищі значення помилок RMSE (середнє 0.9648) та MAE (середнє 0.7572) серед трьох розглянутих алгоритмів, що вказує на нижчу точність прогнозування порівняно з SVD та SVD++. Час навчання та тестування подібний до SVD.\n",
    "\n",
    "Як висновок, можемо зазначити, що найбільш вдалим тут здається вибір алгоритму SVD++, так як в нас датасет не такий великий. Якби ми взяли датасет не на 100к а на 1М даних, то досить велика ймовірність, що краще б було тоді застосовувати алгоритм SVD."
   ]
  },
  {
   "cell_type": "markdown",
   "metadata": {},
   "source": [
    "Ми знайшли оптимальний алгоритм на основі пошуку параметрів RMSE,MAE через cross_validation.\n",
    "\n",
    "Тепер же давайте застосуємо метод GridSearchCV для пошуку оптимальних гіперпараметрів. Для цього використаємо розділ документації бібліотеки surprise: Tune algorithm parameters with GridSearchCV.\n",
    "\n",
    "Зробимо це для алгоритму SVD++, так як він показався найбільш оптимальним, хоча достатньо ресурсно-залежний:"
   ]
  },
  {
   "cell_type": "code",
   "execution_count": 8,
   "metadata": {},
   "outputs": [
    {
     "name": "stdout",
     "output_type": "stream",
     "text": [
      "RMSE for SVD++: 0.963640051179698\n",
      "{'n_epochs': 10, 'lr_all': 0.005, 'reg_all': 0.4}\n",
      "MAE for SVD++: 0.7722645522976695\n",
      "{'n_epochs': 10, 'lr_all': 0.005, 'reg_all': 0.4}\n"
     ]
    }
   ],
   "source": [
    "param_grid = {\"n_epochs\": [5, 10], \"lr_all\": [0.002, 0.005], \"reg_all\": [0.4, 0.6]}\n",
    "gs = GridSearchCV(SVDpp, param_grid, measures=[\"rmse\", \"mae\"], cv=3)\n",
    "\n",
    "gs.fit(data)\n",
    "\n",
    "print(f\"RMSE for SVD++: {gs.best_score['rmse']}\")\n",
    "print(gs.best_params['rmse'])\n",
    "print(f\"MAE for SVD++: {gs.best_score['mae']}\")\n",
    "print(gs.best_params['mae'])\n",
    "\n",
    "algo_rmse_svd_pp = SVDpp(**gs.best_params['rmse'])\n",
    "algo_mae_svd_pp = SVDpp(**gs.best_params['mae'])"
   ]
  },
  {
   "cell_type": "markdown",
   "metadata": {},
   "source": [
    "Тепер, коли у нас є модель, яка оптимізована за обома метриками і підібрані гіперпараметри, ми можемо провести оцінку на тестовому наборі для перевірки точності. Для цього розділимо наш датасет на тренувальний і тестовий у пропорції 80 на 20:"
   ]
  },
  {
   "cell_type": "code",
   "execution_count": 9,
   "metadata": {},
   "outputs": [],
   "source": [
    "trainset, testset = train_test_split(data, test_size=0.2)"
   ]
  },
  {
   "cell_type": "markdown",
   "metadata": {},
   "source": [
    "Тепер навчимо нашу модель на тренувальному наборі:"
   ]
  },
  {
   "cell_type": "code",
   "execution_count": 10,
   "metadata": {},
   "outputs": [
    {
     "data": {
      "text/plain": [
       "<surprise.prediction_algorithms.matrix_factorization.SVDpp at 0x1584e0790>"
      ]
     },
     "execution_count": 10,
     "metadata": {},
     "output_type": "execute_result"
    }
   ],
   "source": [
    "algo_rmse_svd_pp.fit(trainset)\n",
    "algo_mae_svd_pp.fit(trainset)"
   ]
  },
  {
   "cell_type": "markdown",
   "metadata": {},
   "source": [
    "Тепер отримаємо прогнози на нашому тестовому наборі:"
   ]
  },
  {
   "cell_type": "code",
   "execution_count": 11,
   "metadata": {},
   "outputs": [],
   "source": [
    "predictions_rmse = algo_rmse_svd_pp.test(testset)\n",
    "predictions_mae = algo_mae_svd_pp.test(testset)"
   ]
  },
  {
   "cell_type": "markdown",
   "metadata": {},
   "source": [
    "І тепер проведемо оцінку моделі:"
   ]
  },
  {
   "cell_type": "code",
   "execution_count": 12,
   "metadata": {},
   "outputs": [
    {
     "name": "stdout",
     "output_type": "stream",
     "text": [
      "RMSE: 0.9708\n",
      "MAE:  0.7765\n"
     ]
    }
   ],
   "source": [
    "accuracy_rmse_svd_pp = accuracy.rmse(predictions_rmse)\n",
    "accuracy_mae_svd_pp = accuracy.mae(predictions_mae)"
   ]
  },
  {
   "cell_type": "markdown",
   "metadata": {},
   "source": [
    "Давайте зробимо пошук оптимальних гіперпараметрів для алгоритмів SVD та NMF і потім оцінимо отримані результати.\n",
    "\n",
    "Для алгоритму SVD:"
   ]
  },
  {
   "cell_type": "code",
   "execution_count": 13,
   "metadata": {},
   "outputs": [
    {
     "name": "stdout",
     "output_type": "stream",
     "text": [
      "RMSE for SVD: 0.9636867801661001\n",
      "{'n_epochs': 10, 'lr_all': 0.005, 'reg_all': 0.4}\n",
      "MAE for SVD: 0.7722431923077995\n",
      "{'n_epochs': 10, 'lr_all': 0.005, 'reg_all': 0.4}\n"
     ]
    }
   ],
   "source": [
    "param_grid = {\"n_epochs\": [5, 10], \"lr_all\": [0.002, 0.005], \"reg_all\": [0.4, 0.6]}\n",
    "gs = GridSearchCV(SVD, param_grid, measures=[\"rmse\", \"mae\"], cv=3)\n",
    "\n",
    "gs.fit(data)\n",
    "\n",
    "print(f\"RMSE for SVD: {gs.best_score['rmse']}\")\n",
    "print(gs.best_params['rmse'])\n",
    "print(f\"MAE for SVD: {gs.best_score['mae']}\")\n",
    "print(gs.best_params['mae'])\n",
    "\n",
    "algo_rmse_svd = SVD(**gs.best_params['rmse'])\n",
    "algo_mae_svd = SVD(**gs.best_params['mae'])"
   ]
  },
  {
   "cell_type": "code",
   "execution_count": 14,
   "metadata": {},
   "outputs": [
    {
     "name": "stdout",
     "output_type": "stream",
     "text": [
      "RMSE: 0.9626\n",
      "MAE:  0.7695\n"
     ]
    }
   ],
   "source": [
    "trainset, testset = train_test_split(data, test_size=0.2)\n",
    "\n",
    "algo_rmse_svd.fit(trainset)\n",
    "algo_mae_svd.fit(trainset)\n",
    "\n",
    "predictions_rmse = algo_rmse_svd.test(testset)\n",
    "predictions_mae = algo_mae_svd.test(testset)\n",
    "\n",
    "accuracy_rmse_svd = accuracy.rmse(predictions_rmse)\n",
    "accuracy_mae_svd = accuracy.mae(predictions_mae)"
   ]
  },
  {
   "cell_type": "markdown",
   "metadata": {},
   "source": [
    "Для алгоритму NMF:"
   ]
  },
  {
   "cell_type": "code",
   "execution_count": 15,
   "metadata": {},
   "outputs": [
    {
     "name": "stdout",
     "output_type": "stream",
     "text": [
      "RMSE for NMF: 0.9676427310583892\n",
      "{'n_epochs': 10, 'n_factors': 15, 'reg_pu': 0.15, 'reg_qi': 0.15}\n",
      "MAE for NMF: 0.7614110412359664\n",
      "{'n_epochs': 10, 'n_factors': 15, 'reg_pu': 0.15, 'reg_qi': 0.15}\n"
     ]
    }
   ],
   "source": [
    "param_grid = {\"n_epochs\": [5, 10], \"n_factors\": [15, 50, 100], \"reg_pu\": [0.05, 0.1, 0.15], \"reg_qi\": [0.05, 0.1, 0.15]}\n",
    "gs = GridSearchCV(NMF, param_grid, measures=[\"rmse\", \"mae\"], cv=3)\n",
    "\n",
    "gs.fit(data)\n",
    "\n",
    "print(f\"RMSE for NMF: {gs.best_score['rmse']}\")\n",
    "print(gs.best_params['rmse'])\n",
    "print(f\"MAE for NMF: {gs.best_score['mae']}\")\n",
    "print(gs.best_params['mae'])\n",
    "\n",
    "algo_rmse_nmf = NMF(**gs.best_params['rmse'])\n",
    "algo_mae_nmf = NMF(**gs.best_params['mae'])"
   ]
  },
  {
   "cell_type": "code",
   "execution_count": 35,
   "metadata": {},
   "outputs": [
    {
     "name": "stdout",
     "output_type": "stream",
     "text": [
      "RMSE: 0.9618\n",
      "MAE:  0.7550\n"
     ]
    }
   ],
   "source": [
    "trainset, testset = train_test_split(data, test_size=0.2)\n",
    "\n",
    "algo_rmse_nmf.fit(trainset)\n",
    "algo_mae_nmf.fit(trainset)\n",
    "\n",
    "predictions_rmse = algo_rmse_nmf.test(testset)\n",
    "predictions_mae = algo_mae_nmf.test(testset)\n",
    "\n",
    "accuracy_rmse_nmf = accuracy.rmse(predictions_rmse)\n",
    "accuracy_mae_nmf = accuracy.mae(predictions_mae)"
   ]
  },
  {
   "cell_type": "markdown",
   "metadata": {},
   "source": [
    "Здається, алгоритм NMF показав найкращий результат за метрикою RMSE (0.9618) та майже найкращий за MAE (0.7550), що свідчить про добру здатність моделі загалом передбачати оцінки, особливо з точки зору квадратичних помилок. Але це можливо повʼязано з правильним підбором параметрів в param_grid.\n",
    "\n",
    "По методу cross_validation найкращим був SVD++. \n",
    "Можливо, це повʼязано з тим, що в param_grid для GridSearchCV я задав не найкращі параметри для SVD++..."
   ]
  }
 ],
 "metadata": {
  "kernelspec": {
   "display_name": "Python 3",
   "language": "python",
   "name": "python3"
  },
  "language_info": {
   "codemirror_mode": {
    "name": "ipython",
    "version": 3
   },
   "file_extension": ".py",
   "mimetype": "text/x-python",
   "name": "python",
   "nbconvert_exporter": "python",
   "pygments_lexer": "ipython3",
   "version": "3.11.8"
  },
  "orig_nbformat": 4
 },
 "nbformat": 4,
 "nbformat_minor": 2
}
