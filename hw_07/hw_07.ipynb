{
 "cells": [
  {
   "cell_type": "markdown",
   "metadata": {},
   "source": [
    "                                                 Домашнє завдання N 7"
   ]
  },
  {
   "cell_type": "markdown",
   "metadata": {},
   "source": [
    "Так як ми працюємо з рекомендованними системами, по завданню нам радять використовувати бібліотеку Surprise, котра якраз є по суті додатком до знайомої нам бібліотеки scikit-learn для тренування моделей рекомендаційних систем.\n",
    "\n",
    "Тому давайте імпортуємо цю бібліотеку і також завантажимо потрібний датасет movielens на 100 к даних. Думаю, нам буде достатньо цих даних для виконання домашнього завдання:"
   ]
  },
  {
   "cell_type": "code",
   "execution_count": 1,
   "metadata": {},
   "outputs": [],
   "source": [
    "import numpy as np\n",
    "import pandas as pd\n",
    "import matplotlib.pyplot as plt\n",
    "from surprise import Dataset, Reader, SVD, SVDpp, NMF, accuracy\n",
    "from surprise.model_selection import cross_validate, GridSearchCV, train_test_split"
   ]
  },
  {
   "cell_type": "code",
   "execution_count": 2,
   "metadata": {},
   "outputs": [
    {
     "data": {
      "text/plain": [
       "<surprise.dataset.DatasetAutoFolds at 0x12b537990>"
      ]
     },
     "execution_count": 2,
     "metadata": {},
     "output_type": "execute_result"
    }
   ],
   "source": [
    "dataset_path = './ml-100k/u.data'\n",
    "reader = Reader(line_format='user item rating timestamp', sep='\\t')\n",
    "data = Dataset.load_from_file(dataset_path, reader=reader)\n",
    "\n",
    "data"
   ]
  },
  {
   "cell_type": "markdown",
   "metadata": {},
   "source": [
    "Давайте спробуємо вивести перші 5 рядків, щоб побачити, які дані містить наш датасет. Для цього використаємо трохи інший ніж зазвичай метод виводу:"
   ]
  },
  {
   "cell_type": "code",
   "execution_count": 3,
   "metadata": {},
   "outputs": [
    {
     "name": "stdout",
     "output_type": "stream",
     "text": [
      "('196', '242', 3.0, '881250949')\n",
      "('186', '302', 3.0, '891717742')\n",
      "('22', '377', 1.0, '878887116')\n",
      "('244', '51', 2.0, '880606923')\n",
      "('166', '346', 1.0, '886397596')\n"
     ]
    }
   ],
   "source": [
    "N = 5\n",
    "data_raw = data.raw_ratings\n",
    "\n",
    "for i in range(N):\n",
    "    print(data_raw[i])\n",
    "\n"
   ]
  },
  {
   "cell_type": "markdown",
   "metadata": {},
   "source": [
    "Окей, супер!\n",
    "\n",
    "Тепер давайте побудуємо модель за допомогою 3 алгоритмів розграхунків: SVD, SVD++, NMF та вкористаємо cross_validation для пошуку параметрів RMSE та MAE\n",
    "\n",
    "Почнемо з SVD:"
   ]
  },
  {
   "cell_type": "code",
   "execution_count": 4,
   "metadata": {},
   "outputs": [
    {
     "name": "stdout",
     "output_type": "stream",
     "text": [
      "Evaluating RMSE, MAE of algorithm SVD on 5 split(s).\n",
      "\n",
      "                  Fold 1  Fold 2  Fold 3  Fold 4  Fold 5  Mean    Std     \n",
      "RMSE (testset)    0.9357  0.9305  0.9386  0.9349  0.9426  0.9364  0.0040  \n",
      "MAE (testset)     0.7381  0.7338  0.7407  0.7381  0.7418  0.7385  0.0028  \n",
      "Fit time          0.38    0.39    0.43    0.39    0.39    0.40    0.02    \n",
      "Test time         0.04    0.08    0.04    0.07    0.04    0.05    0.02    \n"
     ]
    },
    {
     "data": {
      "text/plain": [
       "{'test_rmse': array([0.93569515, 0.93045161, 0.93857916, 0.93486193, 0.9425569 ]),\n",
       " 'test_mae': array([0.73809328, 0.73378101, 0.7407054 , 0.73806817, 0.74181418]),\n",
       " 'fit_time': (0.38176608085632324,\n",
       "  0.39353394508361816,\n",
       "  0.43080925941467285,\n",
       "  0.3888368606567383,\n",
       "  0.38868093490600586),\n",
       " 'test_time': (0.03812980651855469,\n",
       "  0.07621502876281738,\n",
       "  0.0389561653137207,\n",
       "  0.07130885124206543,\n",
       "  0.03742218017578125)}"
      ]
     },
     "execution_count": 4,
     "metadata": {},
     "output_type": "execute_result"
    }
   ],
   "source": [
    "algo = SVD()\n",
    "\n",
    "cross_validate(algo, data, measures=['RMSE', 'MAE'], cv=5, verbose=True)"
   ]
  },
  {
   "cell_type": "markdown",
   "metadata": {},
   "source": [
    "Тепер те саме зробимо з SVD++:"
   ]
  },
  {
   "cell_type": "code",
   "execution_count": 5,
   "metadata": {},
   "outputs": [
    {
     "name": "stdout",
     "output_type": "stream",
     "text": [
      "Evaluating RMSE, MAE of algorithm SVDpp on 5 split(s).\n",
      "\n",
      "                  Fold 1  Fold 2  Fold 3  Fold 4  Fold 5  Mean    Std     \n",
      "RMSE (testset)    0.9194  0.9212  0.9150  0.9241  0.9169  0.9193  0.0032  \n",
      "MAE (testset)     0.7209  0.7225  0.7177  0.7241  0.7195  0.7210  0.0022  \n",
      "Fit time          6.14    6.14    6.15    6.12    6.15    6.14    0.01    \n",
      "Test time         1.29    1.25    1.29    1.26    1.25    1.27    0.02    \n"
     ]
    },
    {
     "data": {
      "text/plain": [
       "{'test_rmse': array([0.91937674, 0.92115591, 0.91502694, 0.92406008, 0.91691509]),\n",
       " 'test_mae': array([0.7209369 , 0.72249581, 0.71774912, 0.72408846, 0.71954958]),\n",
       " 'fit_time': (6.138238906860352,\n",
       "  6.142917156219482,\n",
       "  6.145297050476074,\n",
       "  6.117411851882935,\n",
       "  6.150583982467651),\n",
       " 'test_time': (1.2905406951904297,\n",
       "  1.2522492408752441,\n",
       "  1.2868480682373047,\n",
       "  1.25888991355896,\n",
       "  1.2521281242370605)}"
      ]
     },
     "execution_count": 5,
     "metadata": {},
     "output_type": "execute_result"
    }
   ],
   "source": [
    "algo_svdpp = SVDpp()\n",
    "\n",
    "cross_validate(algo_svdpp, data, measures=['RMSE', 'MAE'], cv=5, verbose=True)"
   ]
  },
  {
   "cell_type": "markdown",
   "metadata": {},
   "source": [
    "І також використовуючи NMF модель:"
   ]
  },
  {
   "cell_type": "code",
   "execution_count": 6,
   "metadata": {},
   "outputs": [
    {
     "name": "stdout",
     "output_type": "stream",
     "text": [
      "Evaluating RMSE, MAE of algorithm NMF on 5 split(s).\n",
      "\n",
      "                  Fold 1  Fold 2  Fold 3  Fold 4  Fold 5  Mean    Std     \n",
      "RMSE (testset)    0.9638  0.9603  0.9617  0.9602  0.9630  0.9618  0.0014  \n",
      "MAE (testset)     0.7566  0.7535  0.7557  0.7546  0.7577  0.7556  0.0015  \n",
      "Fit time          0.50    0.54    0.54    0.54    0.50    0.53    0.02    \n",
      "Test time         0.07    0.03    0.07    0.03    0.07    0.05    0.02    \n"
     ]
    },
    {
     "data": {
      "text/plain": [
       "{'test_rmse': array([0.96375757, 0.96030764, 0.96173788, 0.96023495, 0.96297855]),\n",
       " 'test_mae': array([0.75660726, 0.7535099 , 0.75568642, 0.75463535, 0.75773559]),\n",
       " 'fit_time': (0.4970591068267822,\n",
       "  0.54498291015625,\n",
       "  0.5447478294372559,\n",
       "  0.5428762435913086,\n",
       "  0.5001728534698486),\n",
       " 'test_time': (0.06875205039978027,\n",
       "  0.03265094757080078,\n",
       "  0.07032227516174316,\n",
       "  0.03178691864013672,\n",
       "  0.07007312774658203)}"
      ]
     },
     "execution_count": 6,
     "metadata": {},
     "output_type": "execute_result"
    }
   ],
   "source": [
    "algo_nmf = NMF()\n",
    "\n",
    "cross_validate(algo_nmf, data, measures=['RMSE', 'MAE'], cv=5, verbose=True)"
   ]
  },
  {
   "cell_type": "markdown",
   "metadata": {},
   "source": [
    "Ми отримали результати оцінок RMSE та MAE всіх 3 алгоритмів. Давайте проаналізуємо отримані дані та зробимо висновки:\n",
    "\n",
    "Алгоритм SVD: Має середнє значення RMSE приблизно 0.9345 і MAE приблизно 0.7373. Цей алгоритм показав непогані результати з помірним часом навчання та тестування.\n",
    "\n",
    "Алгоритм SVD++: Показав кращі результати за RMSE (середнє 0.9194) та MAE (середнє 0.7213) порівняно з SVD, що свідчить про вищу точність прогнозування. Однак, час навчання та тестування значно вищий, що є важливим аспектом для великих наборів даних або обмежених обчислювальних ресурсів.\n",
    "\n",
    "Алгоритм NMF: Має найвищі значення помилок RMSE (середнє 0.9648) та MAE (середнє 0.7572) серед трьох розглянутих алгоритмів, що вказує на нижчу точність прогнозування порівняно з SVD та SVD++. Час навчання та тестування подібний до SVD.\n",
    "\n",
    "Як висновок, можемо зазначити, що найбільш вдалим тут здається вибір алгоритму SVD++, так як в нас датасет не такий великий. Якби ми взяли датасет не на 100к а на 1М даних, то досить велика ймовірність, що краще б було тоді застосовувати алгоритм SVD."
   ]
  },
  {
   "cell_type": "markdown",
   "metadata": {},
   "source": [
    "Ми знайшли оптимальний алгоритм на основі пошуку параметрів RMSE,MAE через cross_validation.\n",
    "\n",
    "Тепер же давайте застосуємо метод GridSearchCV для пошуку оптимальних гіперпараметрів. Для цього використаємо розділ документації бібліотеки surprise: Tune algorithm parameters with GridSearchCV.\n",
    "\n",
    "Зробимо це для алгоритму SVD++, так як він показався найбільш оптимальним, хоча достатньо ресурсно-залежний:"
   ]
  },
  {
   "cell_type": "code",
   "execution_count": 7,
   "metadata": {},
   "outputs": [
    {
     "name": "stdout",
     "output_type": "stream",
     "text": [
      "RMSE for SVD++: 0.9640980905865284\n",
      "{'n_epochs': 10, 'lr_all': 0.005, 'reg_all': 0.4}\n",
      "MAE for SVD++: 0.7722318559600271\n",
      "{'n_epochs': 10, 'lr_all': 0.005, 'reg_all': 0.4}\n"
     ]
    }
   ],
   "source": [
    "param_grid = {\"n_epochs\": [5, 10], \"lr_all\": [0.002, 0.005], \"reg_all\": [0.4, 0.6]}\n",
    "gs = GridSearchCV(SVDpp, param_grid, measures=[\"rmse\", \"mae\"], cv=3)\n",
    "\n",
    "gs.fit(data)\n",
    "\n",
    "print(f\"RMSE for SVD++: {gs.best_score['rmse']}\")\n",
    "print(gs.best_params['rmse'])\n",
    "print(f\"MAE for SVD++: {gs.best_score['mae']}\")\n",
    "print(gs.best_params['mae'])\n",
    "\n",
    "algo_rmse_svd_pp = SVDpp(**gs.best_params['rmse'])\n",
    "algo_mae_svd_pp = SVDpp(**gs.best_params['mae'])"
   ]
  },
  {
   "cell_type": "markdown",
   "metadata": {},
   "source": [
    "Тепер, коли у нас є модель, яка оптимізована за обома метриками і підібрані гіперпараметри, ми можемо провести оцінку на тестовому наборі для перевірки точності. Для цього розділимо наш датасет на тренувальний і тестовий у пропорції 80 на 20:"
   ]
  },
  {
   "cell_type": "code",
   "execution_count": 8,
   "metadata": {},
   "outputs": [],
   "source": [
    "trainset, testset = train_test_split(data, test_size=0.2)"
   ]
  },
  {
   "cell_type": "markdown",
   "metadata": {},
   "source": [
    "Тепер навчимо нашу модель на тренувальному наборі:"
   ]
  },
  {
   "cell_type": "code",
   "execution_count": 9,
   "metadata": {},
   "outputs": [
    {
     "data": {
      "text/plain": [
       "<surprise.prediction_algorithms.matrix_factorization.SVDpp at 0x14f9dc7d0>"
      ]
     },
     "execution_count": 9,
     "metadata": {},
     "output_type": "execute_result"
    }
   ],
   "source": [
    "algo_rmse_svd_pp.fit(trainset)\n",
    "algo_mae_svd_pp.fit(trainset)"
   ]
  },
  {
   "cell_type": "markdown",
   "metadata": {},
   "source": [
    "Тепер отримаємо прогнози на нашому тестовому наборі:"
   ]
  },
  {
   "cell_type": "code",
   "execution_count": 10,
   "metadata": {},
   "outputs": [],
   "source": [
    "predictions_rmse = algo_rmse_svd_pp.test(testset)\n",
    "predictions_mae = algo_mae_svd_pp.test(testset)"
   ]
  },
  {
   "cell_type": "markdown",
   "metadata": {},
   "source": [
    "І тепер проведемо оцінку моделі:"
   ]
  },
  {
   "cell_type": "code",
   "execution_count": 11,
   "metadata": {},
   "outputs": [
    {
     "name": "stdout",
     "output_type": "stream",
     "text": [
      "RMSE: 0.9607\n",
      "MAE:  0.7703\n"
     ]
    }
   ],
   "source": [
    "accuracy_rmse_svd_pp = accuracy.rmse(predictions_rmse)\n",
    "accuracy_mae_svd_pp = accuracy.mae(predictions_mae)"
   ]
  },
  {
   "cell_type": "markdown",
   "metadata": {},
   "source": [
    "Давайте зробимо пошук оптимальних гіперпараметрів для алгоритмів SVD та NMF і потім оцінимо отримані результати.\n",
    "\n",
    "Для алгоритму SVD:"
   ]
  },
  {
   "cell_type": "code",
   "execution_count": 12,
   "metadata": {},
   "outputs": [
    {
     "name": "stdout",
     "output_type": "stream",
     "text": [
      "RMSE for SVD: 0.9637752587551272\n",
      "{'n_epochs': 10, 'lr_all': 0.005, 'reg_all': 0.4}\n",
      "MAE for SVD: 0.772306618348089\n",
      "{'n_epochs': 10, 'lr_all': 0.005, 'reg_all': 0.4}\n"
     ]
    }
   ],
   "source": [
    "param_grid = {\"n_epochs\": [5, 10], \"lr_all\": [0.002, 0.005], \"reg_all\": [0.4, 0.6]}\n",
    "gs = GridSearchCV(SVD, param_grid, measures=[\"rmse\", \"mae\"], cv=3)\n",
    "\n",
    "gs.fit(data)\n",
    "\n",
    "print(f\"RMSE for SVD: {gs.best_score['rmse']}\")\n",
    "print(gs.best_params['rmse'])\n",
    "print(f\"MAE for SVD: {gs.best_score['mae']}\")\n",
    "print(gs.best_params['mae'])\n",
    "\n",
    "algo_rmse_svd = SVD(**gs.best_params['rmse'])\n",
    "algo_mae_svd = SVD(**gs.best_params['mae'])"
   ]
  },
  {
   "cell_type": "code",
   "execution_count": 13,
   "metadata": {},
   "outputs": [
    {
     "name": "stdout",
     "output_type": "stream",
     "text": [
      "RMSE: 0.9647\n",
      "MAE:  0.7746\n"
     ]
    }
   ],
   "source": [
    "trainset, testset = train_test_split(data, test_size=0.2)\n",
    "\n",
    "algo_rmse_svd.fit(trainset)\n",
    "algo_mae_svd.fit(trainset)\n",
    "\n",
    "predictions_rmse = algo_rmse_svd.test(testset)\n",
    "predictions_mae = algo_mae_svd.test(testset)\n",
    "\n",
    "accuracy_rmse_svd = accuracy.rmse(predictions_rmse)\n",
    "accuracy_mae_svd = accuracy.mae(predictions_mae)"
   ]
  },
  {
   "cell_type": "markdown",
   "metadata": {},
   "source": [
    "Для алгоритму NMF:"
   ]
  },
  {
   "cell_type": "code",
   "execution_count": 14,
   "metadata": {},
   "outputs": [
    {
     "name": "stdout",
     "output_type": "stream",
     "text": [
      "RMSE for NMF: 0.9679040389311085\n",
      "{'n_epochs': 10, 'n_factors': 15, 'reg_pu': 0.15, 'reg_qi': 0.15}\n",
      "MAE for NMF: 0.7614099271082763\n",
      "{'n_epochs': 10, 'n_factors': 15, 'reg_pu': 0.15, 'reg_qi': 0.1}\n"
     ]
    }
   ],
   "source": [
    "param_grid = {\"n_epochs\": [5, 10], \"n_factors\": [15, 50, 100], \"reg_pu\": [0.05, 0.1, 0.15], \"reg_qi\": [0.05, 0.1, 0.15]}\n",
    "gs = GridSearchCV(NMF, param_grid, measures=[\"rmse\", \"mae\"], cv=3)\n",
    "\n",
    "gs.fit(data)\n",
    "\n",
    "print(f\"RMSE for NMF: {gs.best_score['rmse']}\")\n",
    "print(gs.best_params['rmse'])\n",
    "print(f\"MAE for NMF: {gs.best_score['mae']}\")\n",
    "print(gs.best_params['mae'])\n",
    "\n",
    "algo_rmse_nmf = NMF(**gs.best_params['rmse'])\n",
    "algo_mae_nmf = NMF(**gs.best_params['mae'])"
   ]
  },
  {
   "cell_type": "code",
   "execution_count": 15,
   "metadata": {},
   "outputs": [
    {
     "name": "stdout",
     "output_type": "stream",
     "text": [
      "RMSE: 0.9692\n",
      "MAE:  0.7639\n"
     ]
    }
   ],
   "source": [
    "trainset, testset = train_test_split(data, test_size=0.2)\n",
    "\n",
    "algo_rmse_nmf.fit(trainset)\n",
    "algo_mae_nmf.fit(trainset)\n",
    "\n",
    "predictions_rmse = algo_rmse_nmf.test(testset)\n",
    "predictions_mae = algo_mae_nmf.test(testset)\n",
    "\n",
    "accuracy_rmse_nmf = accuracy.rmse(predictions_rmse)\n",
    "accuracy_mae_nmf = accuracy.mae(predictions_mae)"
   ]
  },
  {
   "cell_type": "code",
   "execution_count": 18,
   "metadata": {},
   "outputs": [
    {
     "name": "stdout",
     "output_type": "stream",
     "text": [
      "SVD: RMSE - 0.9646623069875646, MAE - 0.7745653492000579\n",
      "SVD++: RMSE - 0.9607294767829024, MAE - 0.7703349619889711\n",
      "NMF: RMSE - 0.9691783008863051, MAE - 0.7639054050702421\n"
     ]
    }
   ],
   "source": [
    "print(f\"SVD: RMSE - {accuracy_rmse_svd}, MAE - {accuracy_mae_svd}\")\n",
    "print(f\"SVD++: RMSE - {accuracy_rmse_svd_pp}, MAE - {accuracy_mae_svd_pp}\")\n",
    "print(f\"NMF: RMSE - {accuracy_rmse_nmf}, MAE - {accuracy_mae_nmf}\")\n"
   ]
  },
  {
   "cell_type": "markdown",
   "metadata": {},
   "source": [
    "Здається, алгоритм SVD++ показав найкращий результат за метрикою RMSE (0.9607) та майже найкращий за MAE (0.7703), що свідчить про добру здатність моделі загалом передбачати оцінки, особливо з точки зору квадратичних помилок. Але це можливо повʼязано з правильним підбором параметрів в param_grid.\n",
    "\n",
    "По методу cross_validation найкращим також був SVD++. \n",
    "Можливо, це повʼязано з тим, що в param_grid для GridSearchCV я задав не найкращі параметри для SVD++..."
   ]
  },
  {
   "cell_type": "markdown",
   "metadata": {},
   "source": [
    "Тепер, коли модель навчена, ми можемо використовувати її для генерації рекомендацій для конкретного користувача. Наприклад, якщо ми хочемо отримати рекомендації для користувача з ID 196:"
   ]
  }
 ],
 "metadata": {
  "kernelspec": {
   "display_name": "Python 3",
   "language": "python",
   "name": "python3"
  },
  "language_info": {
   "codemirror_mode": {
    "name": "ipython",
    "version": 3
   },
   "file_extension": ".py",
   "mimetype": "text/x-python",
   "name": "python",
   "nbconvert_exporter": "python",
   "pygments_lexer": "ipython3",
   "version": "3.11.8"
  },
  "orig_nbformat": 4
 },
 "nbformat": 4,
 "nbformat_minor": 2
}
