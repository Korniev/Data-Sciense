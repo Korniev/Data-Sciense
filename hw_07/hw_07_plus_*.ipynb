{
 "cells": [
  {
   "cell_type": "markdown",
   "metadata": {},
   "source": [
    "                                        Додаткове завдання № 7 з зірочкою"
   ]
  },
  {
   "cell_type": "markdown",
   "metadata": {},
   "source": [
    "Для більшого заглиблення в роботу алгоритму, пропонуємо реалізувати алгоритм колабораційної фільтрації з нуля. Для цього ми можемо скористатись нашою домашньою роботою з 3-ого модуля. Якщо ми модифікуємо функцію втрат та розрахунок градієнтів, то зможемо побудувати алгоритм матричної факторизації."
   ]
  },
  {
   "cell_type": "markdown",
   "metadata": {},
   "source": [
    "Додамо потрібні імпорти:"
   ]
  },
  {
   "cell_type": "code",
   "execution_count": 2,
   "metadata": {},
   "outputs": [],
   "source": [
    "import numpy as np\n",
    "import pandas as pd\n",
    "import matplotlib.pyplot as plt\n",
    "from scipy.io import loadmat\n",
    "from scipy.optimize import minimize"
   ]
  },
  {
   "cell_type": "markdown",
   "metadata": {},
   "source": [
    "Добре, для цього для початку давайте завантажимо файли movie_ids.txt та movies.mat"
   ]
  },
  {
   "cell_type": "code",
   "execution_count": 3,
   "metadata": {},
   "outputs": [],
   "source": [
    "def loadMovieList():\n",
    "    with open('movie_ids.txt', encoding='ISO-8859-1') as fid:\n",
    "        movies = fid.readlines()\n",
    "\n",
    "    movieNames = []\n",
    "    for movie in movies:\n",
    "        parts = movie.split()\n",
    "        movieNames.append(' '.join(parts[1:]).strip())\n",
    "    return movieNames"
   ]
  },
  {
   "cell_type": "code",
   "execution_count": 5,
   "metadata": {},
   "outputs": [
    {
     "data": {
      "text/plain": [
       "['Toy Story (1995)',\n",
       " 'GoldenEye (1995)',\n",
       " 'Four Rooms (1995)',\n",
       " 'Get Shorty (1995)',\n",
       " 'Copycat (1995)',\n",
       " 'Shanghai Triad (Yao a yao yao dao waipo qiao) (1995)',\n",
       " 'Twelve Monkeys (1995)',\n",
       " 'Babe (1995)',\n",
       " 'Dead Man Walking (1995)',\n",
       " 'Richard III (1995)']"
      ]
     },
     "execution_count": 5,
     "metadata": {},
     "output_type": "execute_result"
    }
   ],
   "source": [
    "names = loadMovieList()\n",
    "names[:10]"
   ]
  },
  {
   "cell_type": "code",
   "execution_count": 6,
   "metadata": {},
   "outputs": [
    {
     "name": "stdout",
     "output_type": "stream",
     "text": [
      "Average rating for movie 1601 ( Office Killer (1997) ): 0.000000 / 5\n"
     ]
    }
   ],
   "source": [
    "data = loadmat('movies.mat')\n",
    "Y, R = data['Y'], data['R']\n",
    "\n",
    "print('Average rating for movie 1601 (',names[1600] ,'): %f / 5' %\n",
    "      np.mean(Y[1600, R[0, :]]))"
   ]
  },
  {
   "cell_type": "markdown",
   "metadata": {},
   "source": [
    "Для початку нам потрібно ініціалізувати наші параметри. Перш ніж ми почнемо з функцією втрат, нам потрібно ініціалізувати наші параметри \n",
    "X та Θ. Давайте припустимо, що ми хочемо мати n=10(наш гіперпараметр) особливостей для кожного фільму та користувача:"
   ]
  },
  {
   "cell_type": "code",
   "execution_count": 7,
   "metadata": {},
   "outputs": [],
   "source": [
    "num_movies, num_users = Y.shape\n",
    "num_features = 10\n",
    "\n",
    "X = np.random.rand(num_movies, num_features)\n",
    "Theta = np.random.rand(num_users, num_features)"
   ]
  },
  {
   "cell_type": "markdown",
   "metadata": {},
   "source": [
    "Далі будемо реалізовувати функції втрат без регуляризації і далі вже подивимось, чи потрібна нам регуляризація."
   ]
  },
  {
   "cell_type": "code",
   "execution_count": 8,
   "metadata": {},
   "outputs": [],
   "source": [
    "def computeCost(X, Theta, Y, R):\n",
    "    \"\"\"\n",
    "    X - матриця особливостей фільмів, розміром (num_movies x num_features)\n",
    "    Theta - матриця параметрів користувачів, розміром (num_users x num_features)\n",
    "    Y - матриця рейтингів, розміром (num_movies x num_users)\n",
    "    R - матриця, де r(i, j) = 1, якщо користувач j оцінив фільм i\n",
    "    \"\"\"\n",
    "    # Розрахунок помилки прогнозу(формула наших втрат)\n",
    "    error = (X @ Theta.T - Y) * R\n",
    "    # Втрата без регуляризації\n",
    "    J = 1/2 * np.sum(error**2)\n",
    "    return J"
   ]
  },
  {
   "cell_type": "markdown",
   "metadata": {},
   "source": [
    "Тепер потрібно обчислити градієнт для параметрів X і Θ:"
   ]
  },
  {
   "cell_type": "code",
   "execution_count": 9,
   "metadata": {},
   "outputs": [],
   "source": [
    "def computeGradient(X, Theta, Y, R):\n",
    "    error = (X @ Theta.T - Y) * R\n",
    "    X_grad = error @ Theta\n",
    "    Theta_grad = error.T @ X\n",
    "    return X_grad, Theta_grad"
   ]
  },
  {
   "cell_type": "markdown",
   "metadata": {},
   "source": [
    "Тепер, коли у нас є функції для обчислення втрат та градієнтів, наступний крок – це оптимізація параметрів X і Θ за допомогою scipy.optimize.minimize.\n",
    "\n",
    "Потрібно модифікувати наші функції, щоб вони приймали параметри у вигляді одновимірного масиву, а також додати параметр регуляризації"
   ]
  },
  {
   "cell_type": "code",
   "execution_count": 10,
   "metadata": {},
   "outputs": [],
   "source": [
    "def computeCost(params, Y, R, num_users, num_movies, num_features, lambda_):\n",
    "    X = params[:num_movies*num_features].reshape(num_movies, num_features)\n",
    "    Theta = params[num_movies*num_features:].reshape(num_users, num_features)\n",
    "    error = (X @ Theta.T - Y) * R\n",
    "    cost = 1/2 * np.sum(error**2) + (lambda_/2) * (np.sum(Theta**2) + np.sum(X**2))\n",
    "    return cost\n",
    "\n",
    "def computeGradient(params, Y, R, num_users, num_movies, num_features, lambda_):\n",
    "    X = params[:num_movies*num_features].reshape(num_movies, num_features)\n",
    "    Theta = params[num_movies*num_features:].reshape(num_users, num_features)\n",
    "    error = (X @ Theta.T - Y) * R\n",
    "    X_grad = error @ Theta + lambda_ * X\n",
    "    Theta_grad = error.T @ X + lambda_ * Theta\n",
    "    grad = np.concatenate([X_grad.ravel(), Theta_grad.ravel()])\n",
    "    return grad\n"
   ]
  },
  {
   "cell_type": "markdown",
   "metadata": {},
   "source": [
    "Далі проводимо оптимізацію за допомогою пакету scipy.optimize.minimize:"
   ]
  },
  {
   "cell_type": "code",
   "execution_count": 11,
   "metadata": {},
   "outputs": [],
   "source": [
    "# Параметри\n",
    "lambda_ = 10\n",
    "params = np.concatenate([X.ravel(), Theta.ravel()])\n",
    "\n",
    "# Оптимізація\n",
    "res = minimize(fun=computeCost, x0=params, args=(Y, R, num_users, num_movies, num_features, lambda_),\n",
    "               method='TNC', jac=computeGradient, options={'maxfun': 100})\n",
    "\n",
    "# Отримані оптимізовані параметри\n",
    "params_opt = res.x\n",
    "\n",
    "# Розпаковка оптимізованих параметрів\n",
    "X_opt = params_opt[:num_movies*num_features].reshape(num_movies, num_features)\n",
    "Theta_opt = params_opt[num_movies*num_features:].reshape(num_users, num_features)\n"
   ]
  },
  {
   "cell_type": "markdown",
   "metadata": {},
   "source": [
    "Після того, як ми отримали оптимізовані матриці особливостей фільмів X та параметри користувачів Θ, ми можемо використовувати ці дані для генерації рекомендацій"
   ]
  },
  {
   "cell_type": "code",
   "execution_count": 12,
   "metadata": {},
   "outputs": [],
   "source": [
    "P = np.dot(X_opt, Theta_opt.T)"
   ]
  },
  {
   "cell_type": "markdown",
   "metadata": {},
   "source": [
    "Вибираємо індекс користувача, для якого хочимо згенерувати рекомендації. Наприклад, для користувач під індексом 5:"
   ]
  },
  {
   "cell_type": "code",
   "execution_count": 13,
   "metadata": {},
   "outputs": [],
   "source": [
    "user_index = 5"
   ]
  },
  {
   "cell_type": "markdown",
   "metadata": {},
   "source": [
    "Далі для отримання рекомендацій нам потрібно відсортувати фільми за прогнозованим рейтингом для обраного користувача:"
   ]
  },
  {
   "cell_type": "code",
   "execution_count": 14,
   "metadata": {},
   "outputs": [
    {
     "name": "stdout",
     "output_type": "stream",
     "text": [
      "Рекомендовані фільми для користувача: 5\n",
      "Birds, The (1963)\n",
      "Man Without a Face, The (1993)\n",
      "In & Out (1997)\n",
      "Burnt Offerings (1976)\n",
      "Duck Soup (1933)\n",
      "His Girl Friday (1940)\n",
      "Desperado (1995)\n",
      "Jaws 2 (1978)\n",
      "Star Trek V: The Final Frontier (1989)\n",
      "American Werewolf in London, An (1981)\n"
     ]
    }
   ],
   "source": [
    "user_ratings = Y[:, user_index]\n",
    "user_predictions = P[:, user_index]\n",
    "\n",
    "# Фільтруємо фільми, які користувач уже оцінив\n",
    "unrated_movies = np.where(user_ratings == 0)[0]\n",
    "\n",
    "# Прогнози для непереглянутих фільмів\n",
    "unrated_predictions = user_predictions[unrated_movies]\n",
    "\n",
    "# Отримання індексів фільмів з найвищими прогнозами\n",
    "top_n = 10\n",
    "recommended_movie_idxs = np.argsort(-unrated_predictions)[:top_n]\n",
    "\n",
    "# Виводимо топ-10 рекомендованих фільмів користувачу\n",
    "recommended_movies = [names[i] for i in recommended_movie_idxs]\n",
    "print(f\"Рекомендовані фільми для користувача: {user_index}\")\n",
    "for movie in recommended_movies:\n",
    "    print(movie)\n"
   ]
  }
 ],
 "metadata": {
  "kernelspec": {
   "display_name": "Python 3",
   "language": "python",
   "name": "python3"
  },
  "language_info": {
   "codemirror_mode": {
    "name": "ipython",
    "version": 3
   },
   "file_extension": ".py",
   "mimetype": "text/x-python",
   "name": "python",
   "nbconvert_exporter": "python",
   "pygments_lexer": "ipython3",
   "version": "3.11.8"
  },
  "orig_nbformat": 4
 },
 "nbformat": 4,
 "nbformat_minor": 2
}
