{
 "cells": [
  {
   "cell_type": "code",
   "execution_count": 4,
   "metadata": {},
   "outputs": [
    {
     "name": "stdout",
     "output_type": "stream",
     "text": [
      "1.26.3\n"
     ]
    }
   ],
   "source": [
    "# conda install numpy\n",
    "import numpy as np\n",
    "print(np.__version__)"
   ]
  },
  {
   "cell_type": "code",
   "execution_count": 6,
   "metadata": {},
   "outputs": [
    {
     "data": {
      "text/plain": [
       "array([ 1,  2,  3,  4,  5,  6,  7,  8,  9, 10])"
      ]
     },
     "execution_count": 6,
     "metadata": {},
     "output_type": "execute_result"
    }
   ],
   "source": [
    "# 1.1.\n",
    "vector = np.arange(1, 11)\n",
    "vector"
   ]
  },
  {
   "cell_type": "code",
   "execution_count": 9,
   "metadata": {},
   "outputs": [
    {
     "data": {
      "text/plain": [
       "array([[0., 0., 0.],\n",
       "       [0., 0., 0.],\n",
       "       [0., 0., 0.]])"
      ]
     },
     "execution_count": 9,
     "metadata": {},
     "output_type": "execute_result"
    }
   ],
   "source": [
    "# 1.2.\n",
    "matrix = np.zeros((3, 3))\n",
    "matrix"
   ]
  },
  {
   "cell_type": "code",
   "execution_count": 12,
   "metadata": {},
   "outputs": [
    {
     "data": {
      "text/plain": [
       "array([[ 1,  2,  3,  3,  6],\n",
       "       [ 3,  7,  3,  5,  4],\n",
       "       [ 1,  2, 10,  5,  3],\n",
       "       [ 7,  8,  9,  3, 10],\n",
       "       [ 7,  3,  5,  3,  7]])"
      ]
     },
     "execution_count": 12,
     "metadata": {},
     "output_type": "execute_result"
    }
   ],
   "source": [
    "# 1.3.\n",
    "random_matrix_5x5 = np.random.randint(1, 11, size=(5, 5))\n",
    "random_matrix_5x5"
   ]
  },
  {
   "cell_type": "code",
   "execution_count": 16,
   "metadata": {},
   "outputs": [
    {
     "data": {
      "text/plain": [
       "array([[0.63963976, 0.04068851, 0.21347244, 0.4035206 ],\n",
       "       [0.91163228, 0.96762404, 0.50857586, 0.83961686],\n",
       "       [0.53519176, 0.45604827, 0.10464503, 0.54283143],\n",
       "       [0.81135773, 0.31672127, 0.31001851, 0.2498413 ]])"
      ]
     },
     "execution_count": 16,
     "metadata": {},
     "output_type": "execute_result"
    }
   ],
   "source": [
    "# 1.4.\n",
    "random_matrix_4x4 = np.random.random((4, 4))\n",
    "random_matrix_4x4\n"
   ]
  },
  {
   "cell_type": "code",
   "execution_count": 17,
   "metadata": {},
   "outputs": [
    {
     "data": {
      "text/plain": [
       "(array([8, 5, 8, 2, 6]),\n",
       " array([4, 5, 8, 4, 1]),\n",
       " array([12, 10, 16,  6,  7]),\n",
       " array([ 4,  0,  0, -2,  5]),\n",
       " array([32, 25, 64,  8,  6]))"
      ]
     },
     "execution_count": 17,
     "metadata": {},
     "output_type": "execute_result"
    }
   ],
   "source": [
    "# 1.5.\n",
    "array_1 = np.random.randint(1, 11, size=5)\n",
    "array_2 = np.random.randint(1, 11, size=5)\n",
    "\n",
    "addition = array_1 + array_2\n",
    "subtraction = array_1 - array_2\n",
    "multiplication = array_1 * array_2\n",
    "\n",
    "array_1, array_2, addition, subtraction, multiplication"
   ]
  },
  {
   "cell_type": "code",
   "execution_count": 19,
   "metadata": {},
   "outputs": [
    {
     "data": {
      "text/plain": [
       "(array([ 44,  12,  55, 100,  78,  10,  76]),\n",
       " array([43, 28, 87,  1, 20,  7, 42]),\n",
       " 11935)"
      ]
     },
     "execution_count": 19,
     "metadata": {},
     "output_type": "execute_result"
    }
   ],
   "source": [
    "# 1.6.\n",
    "vector_1 = np.random.randint(1, 101, size=7)\n",
    "vector_2 = np.random.randint(1, 101, size=7)\n",
    "\n",
    "scalar_result = np.dot(vector_1, vector_2)\n",
    "\n",
    "vector_1, vector_2, scalar_result\n"
   ]
  },
  {
   "cell_type": "code",
   "execution_count": 20,
   "metadata": {},
   "outputs": [
    {
     "data": {
      "text/plain": [
       "(array([[ 9,  2],\n",
       "        [ 1, 10]]),\n",
       " array([[1, 6, 8],\n",
       "        [4, 5, 1]]),\n",
       " array([[17, 64, 74],\n",
       "        [41, 56, 18]]))"
      ]
     },
     "execution_count": 20,
     "metadata": {},
     "output_type": "execute_result"
    }
   ],
   "source": [
    "# 1.7.\n",
    "matrix_1 = np.random.randint(1, 11, size=(2, 2))\n",
    "matrix_2 = np.random.randint(1, 11, size=(2, 3))\n",
    "\n",
    "multiplication_result = np.dot(matrix_1, matrix_2)\n",
    "\n",
    "matrix_1, matrix_2, multiplication_result"
   ]
  }
 ],
 "metadata": {
  "kernelspec": {
   "display_name": "Python 3",
   "language": "python",
   "name": "python3"
  },
  "language_info": {
   "codemirror_mode": {
    "name": "ipython",
    "version": 3
   },
   "file_extension": ".py",
   "mimetype": "text/x-python",
   "name": "python",
   "nbconvert_exporter": "python",
   "pygments_lexer": "ipython3",
   "version": "3.11.7"
  },
  "orig_nbformat": 4
 },
 "nbformat": 4,
 "nbformat_minor": 2
}
