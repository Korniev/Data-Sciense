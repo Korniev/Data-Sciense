{
  "nbformat": 4,
  "nbformat_minor": 0,
  "metadata": {
    "colab": {
      "provenance": [],
      "gpuType": "T4",
      "authorship_tag": "ABX9TyPlhg9sNGOijWlmhz7lcLv0",
      "include_colab_link": true
    },
    "kernelspec": {
      "name": "python3",
      "display_name": "Python 3"
    },
    "language_info": {
      "name": "python"
    },
    "accelerator": "GPU"
  },
  "cells": [
    {
      "cell_type": "markdown",
      "metadata": {
        "id": "view-in-github",
        "colab_type": "text"
      },
      "source": [
        "<a href=\"https://colab.research.google.com/github/Korniev/Data-Sciense/blob/main/hw_10/hw_10.2.ipynb\" target=\"_parent\"><img src=\"https://colab.research.google.com/assets/colab-badge.svg\" alt=\"Open In Colab\"/></a>"
      ]
    },
    {
      "cell_type": "markdown",
      "source": [
        "#Частина 2"
      ],
      "metadata": {
        "id": "71o70-2mcUJ3"
      }
    },
    {
      "cell_type": "markdown",
      "source": [
        "В цій частині ми знову будемо працювати з датасетом fasion_mnist.\n",
        "\n",
        "На відміну від попереднього завдання вам пропонується створити згорткову нейромережу, що використовує VGG16 в якості згорткової основи.\n",
        "\n",
        "Навчіть отриману мережу на даних із датасету fasion_mnist. Спробуйте досягти максимально можливої точності класифікації за рахунок маніпуляції параметрами мережі. Під час навчання використовуйте прийоми донавчання та виділення ознак.\n",
        "\n",
        "Порівняйте точність отриманої згорткової мережі з точністю багатошарової мережі з попереднього завдання. Зробіть висновки."
      ],
      "metadata": {
        "id": "9TFgcr9lcaoW"
      }
    },
    {
      "cell_type": "markdown",
      "source": [
        "Як завжди, почнемо з імпортів потрібних бібліотек:"
      ],
      "metadata": {
        "id": "_pZ0ThYzcgTf"
      }
    },
    {
      "cell_type": "code",
      "source": [
        "import numpy as np\n",
        "import matplotlib.pyplot as plt\n",
        "from tensorflow import keras\n",
        "from keras.datasets import fashion_mnist\n",
        "from keras import Sequential\n",
        "from keras.layers import Flatten, Dense, Dropout, Conv2D, MaxPooling2D\n",
        "from keras import optimizers, losses\n",
        "from sklearn.metrics import classification_report\n",
        "from keras.applications.vgg16 import VGG16\n",
        "from keras.preprocessing.image import ImageDataGenerator"
      ],
      "metadata": {
        "id": "HDiqweSNceU6"
      },
      "execution_count": 6,
      "outputs": []
    },
    {
      "cell_type": "markdown",
      "source": [
        "Слідуючи з умови задвання, для наших цілей в якості згорткової основи ми скористаємося мережею VGG16, яка була навчена на даних ImageNet.\n",
        "\n",
        "Давайте імпортуємо нашу модель, щоб створити основу згортки на базі VGG16:"
      ],
      "metadata": {
        "id": "fvqM_Q1dgAmq"
      }
    },
    {
      "cell_type": "code",
      "source": [
        "conv_vgg16_base = VGG16(weights=\"imagenet\", include_top=False, input_shape=(150, 150, 3))\n"
      ],
      "metadata": {
        "id": "havjI8GygZ-W"
      },
      "execution_count": 7,
      "outputs": []
    },
    {
      "cell_type": "markdown",
      "source": [
        "Супер, тепер ми можемо розширити нашу модель, додавши кастомні повнозвʼязні шари, для того, щоб наша модель адекватно навчалась на нашому датасеті:"
      ],
      "metadata": {
        "id": "s3aPfDRNh9iH"
      }
    },
    {
      "cell_type": "code",
      "source": [
        "conv_vgg16_base = VGG16(weights=\"imagenet\", include_top=False, input_shape=(150, 150, 3))\n",
        "conv_vgg16_base.trainable = False\n",
        "\n",
        "model = Sequential([\n",
        "   conv_vgg16_base,\n",
        "   Flatten(),\n",
        "   Dense(256, activation=\"relu\"),\n",
        "   Dense(1, activation=\"softmax\"),\n",
        "])"
      ],
      "metadata": {
        "id": "INfJYcM5iF6l"
      },
      "execution_count": 9,
      "outputs": []
    },
    {
      "cell_type": "markdown",
      "source": [
        "Після додавання верхніх шарів, модель потрібно скомпілювати, вказавши оптимізатор, функцію втрат і метрики:"
      ],
      "metadata": {
        "id": "1IfEWtNHjPAb"
      }
    },
    {
      "cell_type": "code",
      "source": [
        "model.compile(\n",
        "    loss=\"binary_crossentropy\",\n",
        "    optimizer=optimizers.RMSprop(learning_rate=2e-5),\n",
        "    metrics=[\"acc\"]\n",
        ")"
      ],
      "metadata": {
        "id": "4U3zxEL1jSym"
      },
      "execution_count": 10,
      "outputs": []
    },
    {
      "cell_type": "markdown",
      "source": [
        "Подивимось на архітектуру нашої моделі:"
      ],
      "metadata": {
        "id": "hNXwx5UIjbIc"
      }
    },
    {
      "cell_type": "code",
      "source": [
        "model.summary()"
      ],
      "metadata": {
        "colab": {
          "base_uri": "https://localhost:8080/"
        },
        "id": "uUGAfTDhjg8X",
        "outputId": "501c3efc-4107-426a-967c-b990aa5b1eba"
      },
      "execution_count": 11,
      "outputs": [
        {
          "output_type": "stream",
          "name": "stdout",
          "text": [
            "Model: \"sequential_1\"\n",
            "_________________________________________________________________\n",
            " Layer (type)                Output Shape              Param #   \n",
            "=================================================================\n",
            " vgg16 (Functional)          (None, 4, 4, 512)         14714688  \n",
            "                                                                 \n",
            " flatten_1 (Flatten)         (None, 8192)              0         \n",
            "                                                                 \n",
            " dense_2 (Dense)             (None, 256)               2097408   \n",
            "                                                                 \n",
            " dense_3 (Dense)             (None, 1)                 257       \n",
            "                                                                 \n",
            "=================================================================\n",
            "Total params: 16812353 (64.13 MB)\n",
            "Trainable params: 2097665 (8.00 MB)\n",
            "Non-trainable params: 14714688 (56.13 MB)\n",
            "_________________________________________________________________\n"
          ]
        }
      ]
    },
    {
      "cell_type": "markdown",
      "source": [
        "Як бачимо, в нас 14714688 не тренерованих параметрів, які ми відключили шляхов додавання рядку conv_vgg16_base.trainable = False"
      ],
      "metadata": {
        "id": "zZG_co08jjXh"
      }
    }
  ]
}